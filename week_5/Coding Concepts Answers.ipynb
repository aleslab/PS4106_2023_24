{
 "cells": [
  {
   "cell_type": "markdown",
   "metadata": {},
   "source": [
    "# Excercises\n"
   ]
  },
  {
   "cell_type": "markdown",
   "metadata": {},
   "source": [
    "### Assert\n",
    "\n",
    "Asset() functions are ways to specify tests to check if code is working as intended. They are checks you can use to see if you've created code that's on the right track.  \n",
    "\n",
    "Each question will include a handful of `assert` statements. After you write and execute the code to each question, each `assert` should \"pass silently\" (meaning: should give no output upon execution) indicating that you are on the right track."
   ]
  },
  {
   "cell_type": "markdown",
   "metadata": {},
   "source": [
    "## Loops"
   ]
  },
  {
   "cell_type": "markdown",
   "metadata": {},
   "source": [
    "**Loops Q1**. Store your first name as a string in the variable `my_name` and initialize a `counter` (use that variable name) \n",
    "\n",
    "Then, write a `for` loop that loops through the letters of your first name, increasing the counter by one for each letter in your name. The value stored in the counter at the end of your loop’s execution should be the number of letters in your first name.\n"
   ]
  },
  {
   "cell_type": "code",
   "execution_count": 74,
   "metadata": {},
   "outputs": [
    {
     "name": "stdout",
     "output_type": "stream",
     "text": [
      "The name Justin has 6 letters\n"
     ]
    }
   ],
   "source": [
    "counter = 0 #variable to hold the letter count\n",
    "my_name = 'Justin'  #variable to hold my name\n",
    "\n",
    "#loop over every letter in my_name\n",
    "for letter in my_name:  \n",
    "    counter += 1 # The += operations means add to the thing exactly like the following line\n",
    "    #counter=counter+1 #increase the counter by 1\n",
    "\n",
    "\n",
    "#print the result\n",
    "#Here is demonstrating a why to insert numbers into strings.  \n",
    "#The placeholder {} is put into the string and the function .format() is used with the number as an input\n",
    "print( \"The name \" + my_name + \" has {} letters\".format(counter))  "
   ]
  },
  {
   "cell_type": "code",
   "execution_count": 75,
   "metadata": {},
   "outputs": [],
   "source": [
    "assert isinstance(counter, int)\n",
    "assert isinstance(my_name, str)\n",
    "assert len(my_name) == counter"
   ]
  },
  {
   "cell_type": "markdown",
   "metadata": {},
   "source": [
    "**Loops Q2**. Somehow you've got a list of words, but you want them all combined into the single string  Write code that uses `ILW_list` to accomplish this task.\n",
    "\n",
    "Variable provided:\n",
    "\n",
    "```python\n",
    "ILW_list = [\"I'm \", \"so \", \"excited \", \"that \", \"raisin \", \"monday \", \n",
    "                    \"is \", \"coming \", \"next \", \"week!\"]\n",
    "```"
   ]
  },
  {
   "cell_type": "code",
   "execution_count": 76,
   "metadata": {},
   "outputs": [
    {
     "name": "stdout",
     "output_type": "stream",
     "text": [
      "I'm so excited that raisin monday is coming next week!\n"
     ]
    }
   ],
   "source": [
    "ILW_list = [\"I'm \", \"so \", \"excited \", \"that \", \"raisin \", \"monday \", \n",
    "                    \"is \", \"coming \", \"next \", \"week!\"]\n",
    "\n",
    "sentence = '' # initialize a variable to hold the sentence. \n",
    "\n",
    "for item in ILW_list:\n",
    "    sentence += item  # The += operations means add to the thing equal to the following\n",
    "                      # sentence = sentence + item\n",
    "\n",
    "\n",
    "\n",
    "print(sentence)"
   ]
  },
  {
   "cell_type": "code",
   "execution_count": 77,
   "metadata": {},
   "outputs": [],
   "source": [
    "assert sentence == \"I'm so excited that raisin monday is coming next week!\""
   ]
  },
  {
   "cell_type": "markdown",
   "metadata": {},
   "source": [
    "**Loops Q3**. Store your first name as a string in the variable `my_name` and initialize a `counter` (use that variable name).\n",
    "\n",
    "Then, write a `for` loop that loops through the letters of your first name, increasing the counter by one for each consonant (non-vowel) in your name. \n",
    "\n",
    "The value stored in the counter at the end of your loop’s execution should be the number of consonants in your first name. Be sure that 'B' and 'b' are counted as the same letter in your code.\n",
    "\n"
   ]
  },
  {
   "cell_type": "code",
   "execution_count": 78,
   "metadata": {},
   "outputs": [
    {
     "name": "stdout",
     "output_type": "stream",
     "text": [
      "The name Justin has 4 consonants\n"
     ]
    }
   ],
   "source": [
    "my_name = 'Justin'  #Name to use\n",
    "counter = 0   #Counter to increment\n",
    "\n",
    "\n",
    "#iterate over each letter in the name\n",
    "\n",
    "for letter in my_name:\n",
    "\n",
    "    #Check if the letter is a vowel\n",
    "    #do this using \"in\".  This checks if something is contained in another thing\n",
    "    #could be an item in a list.  In this case it's looking the string in \"letter\" is in another string \n",
    "    #containing all the vowels\n",
    "    #I'm using the function lower() to change letter to lowercase so we don't miss uppercase first \n",
    "    #letters.  I could also have made the vowels: \"aeiouAEIOU\"\n",
    "    if letter.lower() in 'aeiou':\n",
    "        continue #if letter is vowel \"continue\" to the next letter\n",
    "                 #this will skip the counter increment below\n",
    "\n",
    "    counter +=1 #increment counter by 1. \n",
    "        \n",
    "#Print the result nicely formatted\n",
    "print( \"The name \" + my_name + \" has {} consonants\".format(counter))  "
   ]
  },
  {
   "cell_type": "code",
   "execution_count": null,
   "metadata": {},
   "outputs": [],
   "source": [
    "\n"
   ]
  },
  {
   "cell_type": "code",
   "execution_count": 79,
   "metadata": {},
   "outputs": [],
   "source": [
    "assert isinstance(counter, int)\n",
    "assert isinstance(my_name, str)"
   ]
  },
  {
   "cell_type": "markdown",
   "metadata": {},
   "source": [
    "## Function Execution"
   ]
  },
  {
   "cell_type": "markdown",
   "metadata": {},
   "source": [
    "**Function Q1**. The function `square_default` has been provided for you. After defining the function, execute (use) this function to create the following variables under the specified conditions:\n",
    "\n",
    "1. `square_default` | execute the `square_all` function using the default parameter such that the output will carry out the function on a list of input values containing the integers 2, 3, and 4. \n",
    "2. `power_three` | Use the same input values as above, but this time, use the `square_all` function provided to raise all input values to the power 3\n",
    "3. `out_4` | Execute the `square_all` function such that `out_4` will store a list with 4 values, each of which is the integer 4.\n",
    "\n",
    "Function provided:\n",
    "```python\n",
    "def square_all(collection, power=2):\n",
    "    \n",
    "    square_list = []\n",
    "    for val in collection:\n",
    "        square_list.append(val**power)\n",
    "    \n",
    "    return square_list\n",
    "```\n",
    "\n",
    "Checks you can use to see if you're on the right track:"
   ]
  },
  {
   "cell_type": "code",
   "execution_count": 80,
   "metadata": {},
   "outputs": [],
   "source": [
    "def square_all(collection, power=2):\n",
    "    \n",
    "    square_list = []\n",
    "    for val in collection:\n",
    "        square_list.append(val**power)\n",
    "    \n",
    "    return square_list\n",
    "\n",
    "\n",
    "\n",
    "square_default = square_all([2,3,4])\n",
    "power_three    = square_all( [2,3,4],3)\n",
    "out_4          = square_all([2,2,2,2],2)"
   ]
  },
  {
   "cell_type": "code",
   "execution_count": 81,
   "metadata": {},
   "outputs": [],
   "source": [
    "\n",
    "assert square_default == [4,9,16]\n",
    "assert power_three  == [8, 27, 64]\n",
    "assert out_4  == [4,4,4,4]"
   ]
  },
  {
   "cell_type": "markdown",
   "metadata": {},
   "source": [
    "**Functions Q2**. Write a function `count_int` that will take a tuple or list as the input and count the number (count) of integer values in that tuple/list, returning this value from the function. \n",
    "\n",
    "For example, if 3 of the values in the input list were integers, the function would return 3.\n",
    "\n",
    "Note: You can assume the input to this function will be a tuple or list and do *not* need to write code to check whether or not this is true.\n",
    "\n",
    "Checks you can use to see if you're on the right track:"
   ]
  },
  {
   "cell_type": "code",
   "execution_count": 82,
   "metadata": {},
   "outputs": [
    {
     "name": "stdout",
     "output_type": "stream",
     "text": [
      "The list [1, 'notInt', 2, 2.4] contains 2 integers\n"
     ]
    }
   ],
   "source": [
    "#define out function count_int() with 1 input: list\n",
    "def count_int(list):\n",
    "\n",
    "    counter = 0 #initilize counter to 0\n",
    "\n",
    "    #loop over every item in the list\n",
    "    for item in list:\n",
    "        #check if the item is an integer\n",
    "        if isinstance(item,int):\n",
    "            #if item is integer increment counter by 1\n",
    "            counter+=1\n",
    "\n",
    "    #return the value of the counter\n",
    "    return counter\n",
    "\n",
    "#Do a quick test to see how the function is working\n",
    "test_list = [1,'notInt',2,2.4,] #test_list contains 2 integers: 1 and 2.  2.4 is not an\n",
    "integer_count=count_int(test_list)\n",
    "\n",
    "#Print a nicely formated output.  Note that you can use multiple {}  and pass in multiple inputs to the\n",
    "#format() function\n",
    "print('The list {} contains {} integers'.format(test_list,integer_count))\n"
   ]
  },
  {
   "cell_type": "code",
   "execution_count": 83,
   "metadata": {},
   "outputs": [],
   "source": [
    "assert count_int(['string']) == 0\n",
    "assert count_int((1,2,3,4,5,'string',4.4)) == 5"
   ]
  },
  {
   "cell_type": "markdown",
   "metadata": {},
   "source": [
    "**Functions Q3** Write a function `calculate_points` that has a single input parameter: `hand`. `hand` can be assumed to be a list of string values, where each string corresponds to a value in a deck of cards (2-10, J, Q, K, or A)\n",
    "\n",
    "This function should calculate the total number of \"pointer\" cars in your hand, where ***a \"pointer\" is either a 10, J, Q, K, or A***. Each \"pointer\" is worth one point. All other cards are worth zero points. The function should `return` the total number of points in the `hand` as an integer.\n",
    "\n",
    "For example, if your `hand` input was: \n",
    "\n",
    "```python\n",
    "['J', '10', '2', '5', 'K']\n",
    "```\n",
    "\n",
    "executing the `calculate_points()` function with the above list as the input to the `hand` parameter, the function would `return` the integer 3 (one point each for the `'J'`, `'10'`, and `'K'`.\n",
    "\n",
    "If there are no pointers in the input `hand`, the function should return 0.\n",
    "\n"
   ]
  },
  {
   "cell_type": "code",
   "execution_count": 84,
   "metadata": {},
   "outputs": [],
   "source": [
    "#This may seem harder than the rest of the excercises.  But it is fundamentally uses\n",
    "# exactly the same logic and code\n",
    "\n",
    "#define our function that takes 1 input \"hand\"\n",
    "def calculate_points(hand):\n",
    "\n",
    "    #Initialize points to 0\n",
    "    points = 0\n",
    "\n",
    "    #loop over each card in the hand\n",
    "    for card in hand:\n",
    "\n",
    "        #Check if the value of card is in the list of pointer cards\n",
    "        if card in ['10','J','Q','K','A']:\n",
    "            #if card is a pointer inctrement points by 1\n",
    "            points +=1\n",
    "\n",
    "    return points\n"
   ]
  },
  {
   "cell_type": "code",
   "execution_count": 85,
   "metadata": {},
   "outputs": [],
   "source": [
    "assert calculate_points(['2', '7', '9']) == 0\n",
    "assert calculate_points(['K']) == 1\n",
    "assert calculate_points(['J', '10', '2', '5', 'K']) == 3"
   ]
  },
  {
   "cell_type": "markdown",
   "metadata": {},
   "source": []
  },
  {
   "cell_type": "markdown",
   "metadata": {},
   "source": [
    "# Debugging\n",
    "\n",
    "The following excercise is for practice debugging and working with code. "
   ]
  },
  {
   "cell_type": "markdown",
   "metadata": {},
   "source": [
    "**Debugging Q1** The function `count_consonants` is provided, but it is not operating as anticipated.\n",
    "\n",
    "`count_consonants` is _supposed_ to take a string as input and count the number of each consonant in the `input_string` (input parameter), storing the output in a dictionary where the key is the consonant and the value is the number of times it appears in the input. \n",
    "\n",
    "Note that we want capitalization to be considered such that the capital and lower case letters are counted together, and the lower case letter is used as the key (i.e. 'A' and 'a' would both be counted under the key 'a')\n",
    "\n",
    "Specifically, if the `input_string` were \"Mohammed\", the function ould return: `{'m': 3, 'h': 1, 'd': 1}`\n",
    "\n",
    "Debug, edit, and test the function provided so that it accomplishes the intended goal.\n",
    "\n",
    "There are multiple errors in the function.  \n",
    "\n",
    "\n"
   ]
  },
  {
   "cell_type": "code",
   "execution_count": 86,
   "metadata": {},
   "outputs": [],
   "source": [
    "def count_consonants():\n",
    "    out = {}\n",
    "    vowels = ['a', 'e', 'i', 'o', 'u']\n",
    "    \n",
    "    for char in input_string.upper():\n",
    "        \n",
    "        if char not in vowels:\n",
    "            if char not in out:\n",
    "                out[char] = 1\n",
    "    \n",
    "\n",
    "#Hint: Create some code here to check the function\n",
    "\n",
    "\n"
   ]
  },
  {
   "cell_type": "code",
   "execution_count": 87,
   "metadata": {},
   "outputs": [
    {
     "name": "stdout",
     "output_type": "stream",
     "text": [
      "{}\n",
      "{}\n",
      "{'b': 5}\n",
      "{'b': 2, 'c': 3, 'd': 4}\n"
     ]
    }
   ],
   "source": [
    "#Here is the corrected function.  The comments below describe what the correction is\n",
    "\n",
    "#No input variable is given\n",
    "def count_consonants(input_string):\n",
    "    out = {}\n",
    "    vowels = ['a', 'e', 'i', 'o', 'u']\n",
    "    \n",
    "    #this loop is looping through every character in the input string.  \n",
    "    #But it is turning it to uppercase instead of lower case:\n",
    "    for char in input_string.lower():\n",
    "        \n",
    "        #this correctly checks to see if char is a vowel\n",
    "        if char not in vowels:\n",
    "\n",
    "            #this section checks if char is new letter\n",
    "            # it checks if char is in our output variable \"out\" \n",
    "            if char not in out:\n",
    "                #if not in out initilize the value as 1\n",
    "                out[char] = 1\n",
    "            else: # this means char is in out and we can increment it's value            \n",
    "                out[char] += 1\n",
    "\n",
    "    #there is no return statement so nothing ever gets passed out\n",
    "    return out\n",
    "    \n",
    "\n",
    "#Hint: Create some code here to check the function\n",
    "\n",
    "#Here are some different input strings to check the function\n",
    "print(count_consonants('aeiou')) #Should be empty\n",
    "\n",
    "print(count_consonants('AEIOU')) #Should be empty\n",
    "\n",
    "print(count_consonants('bbbbb')) #Should be b = 5\n",
    "\n",
    "print(count_consonants('abbcccdddd')) #{'b': 2, 'c': 3, 'd': 4}\n",
    "\n",
    "\n"
   ]
  },
  {
   "cell_type": "code",
   "execution_count": 88,
   "metadata": {},
   "outputs": [],
   "source": [
    "assert count_consonants('Taylor') == {'t': 1, 'y': 1, 'l': 1, 'r': 1}\n",
    "assert count_consonants('AaBbCc') == {'b': 2, 'c': 2}"
   ]
  },
  {
   "cell_type": "code",
   "execution_count": null,
   "metadata": {},
   "outputs": [],
   "source": []
  }
 ],
 "metadata": {
  "kernelspec": {
   "display_name": "Python 3.8.12 64-bit ('jmaJupyterPy38': conda)",
   "name": "python3812jvsc74a57bd017445a4fc8918f5d567c21d42053b58d1bb2666d398f50777a1b4ea52e90fb83"
  },
  "language_info": {
   "codemirror_mode": {
    "name": "ipython",
    "version": 3
   },
   "file_extension": ".py",
   "mimetype": "text/x-python",
   "name": "python",
   "nbconvert_exporter": "python",
   "pygments_lexer": "ipython3",
   "version": "3.8.12"
  }
 },
 "nbformat": 4,
 "nbformat_minor": 2
}