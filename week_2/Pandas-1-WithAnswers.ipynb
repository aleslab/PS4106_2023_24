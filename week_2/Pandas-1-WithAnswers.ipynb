{
 "cells": [
  {
   "cell_type": "markdown",
   "metadata": {},
   "source": [
    "# PANDAS\n",
    "\n",
    "A high-level overview of the [Pandas](https://pandas.pydata.org) library.\n",
    "\n",
    "\n",
    "## Why `pandas`?\n",
    "\n",
    " `pandas` is a Python library used for data manipulation and analysis. `pandas` is an industrial strength package that is used in most data analysis projects in the real world.  Learning how to use pandas would also make your projects easier to understand for other data scientists and extend the scope of influence your projects may have.\n",
    "\n"
   ]
  },
  {
   "cell_type": "code",
   "execution_count": 1,
   "metadata": {},
   "outputs": [],
   "source": [
    "%matplotlib inline\n",
    "import matplotlib.pyplot as plt\n",
    "#import seaborn as sns\n",
    "import numpy as np\n",
    "import pandas as pd\n",
    "\n",
    "plt.style.use('fivethirtyeight')\n",
    "#sns.set_context(\"notebook\")"
   ]
  },
  {
   "cell_type": "markdown",
   "metadata": {},
   "source": [
    "## Reading in DataFrames from Files"
   ]
  },
  {
   "cell_type": "markdown",
   "metadata": {},
   "source": [
    "Pandas has a number of very useful file reading tools. This link describes manu https://realpython.com/pandas-read-write-files/ Today we'll be using read_csv today.   Another very useful one is the ability to read excel files. \n",
    "\n",
    "\n",
    "A \"csv\" file is a \"comma separated value\" file.  It's a nice and simple text format that separates things in the files by commas.  For example:\n",
    "Participant,ResponseTime\n",
    "1,0.50\n",
    "2,.0386\n",
    "\n",
    "This is a fairly common file format that can be read by almost every program (e.g. excel, SPSS, python, R)\n",
    "\n",
    "\n",
    "Pandas stores things in something known as a \"dataframe\". \n"
   ]
  },
  {
   "cell_type": "code",
   "execution_count": 2,
   "metadata": {
    "scrolled": true
   },
   "outputs": [
    {
     "data": {
      "text/html": "<div>\n<style scoped>\n    .dataframe tbody tr th:only-of-type {\n        vertical-align: middle;\n    }\n\n    .dataframe tbody tr th {\n        vertical-align: top;\n    }\n\n    .dataframe thead th {\n        text-align: right;\n    }\n</style>\n<table border=\"1\" class=\"dataframe\">\n  <thead>\n    <tr style=\"text-align: right;\">\n      <th></th>\n      <th>Candidate</th>\n      <th>Party</th>\n      <th>%</th>\n      <th>Year</th>\n      <th>Result</th>\n    </tr>\n  </thead>\n  <tbody>\n    <tr>\n      <th>0</th>\n      <td>Reagan</td>\n      <td>Republican</td>\n      <td>50.7</td>\n      <td>1980</td>\n      <td>win</td>\n    </tr>\n    <tr>\n      <th>1</th>\n      <td>Carter</td>\n      <td>Democratic</td>\n      <td>41.0</td>\n      <td>1980</td>\n      <td>loss</td>\n    </tr>\n    <tr>\n      <th>2</th>\n      <td>Anderson</td>\n      <td>Independent</td>\n      <td>6.6</td>\n      <td>1980</td>\n      <td>loss</td>\n    </tr>\n    <tr>\n      <th>3</th>\n      <td>Reagan</td>\n      <td>Republican</td>\n      <td>58.8</td>\n      <td>1984</td>\n      <td>win</td>\n    </tr>\n    <tr>\n      <th>4</th>\n      <td>Mondale</td>\n      <td>Democratic</td>\n      <td>37.6</td>\n      <td>1984</td>\n      <td>loss</td>\n    </tr>\n    <tr>\n      <th>5</th>\n      <td>Bush</td>\n      <td>Republican</td>\n      <td>53.4</td>\n      <td>1988</td>\n      <td>win</td>\n    </tr>\n    <tr>\n      <th>6</th>\n      <td>Dukakis</td>\n      <td>Democratic</td>\n      <td>45.6</td>\n      <td>1988</td>\n      <td>loss</td>\n    </tr>\n    <tr>\n      <th>7</th>\n      <td>Clinton</td>\n      <td>Democratic</td>\n      <td>43.0</td>\n      <td>1992</td>\n      <td>win</td>\n    </tr>\n    <tr>\n      <th>8</th>\n      <td>Bush</td>\n      <td>Republican</td>\n      <td>37.4</td>\n      <td>1992</td>\n      <td>loss</td>\n    </tr>\n    <tr>\n      <th>9</th>\n      <td>Perot</td>\n      <td>Independent</td>\n      <td>18.9</td>\n      <td>1992</td>\n      <td>loss</td>\n    </tr>\n    <tr>\n      <th>10</th>\n      <td>Clinton</td>\n      <td>Democratic</td>\n      <td>49.2</td>\n      <td>1996</td>\n      <td>win</td>\n    </tr>\n    <tr>\n      <th>11</th>\n      <td>Dole</td>\n      <td>Republican</td>\n      <td>40.7</td>\n      <td>1996</td>\n      <td>loss</td>\n    </tr>\n    <tr>\n      <th>12</th>\n      <td>Perot</td>\n      <td>Independent</td>\n      <td>8.4</td>\n      <td>1996</td>\n      <td>loss</td>\n    </tr>\n    <tr>\n      <th>13</th>\n      <td>Gore</td>\n      <td>Democratic</td>\n      <td>48.4</td>\n      <td>2000</td>\n      <td>loss</td>\n    </tr>\n    <tr>\n      <th>14</th>\n      <td>Bush</td>\n      <td>Republican</td>\n      <td>47.9</td>\n      <td>2000</td>\n      <td>win</td>\n    </tr>\n    <tr>\n      <th>15</th>\n      <td>Kerry</td>\n      <td>Democratic</td>\n      <td>48.3</td>\n      <td>2004</td>\n      <td>loss</td>\n    </tr>\n    <tr>\n      <th>16</th>\n      <td>Bush</td>\n      <td>Republican</td>\n      <td>50.7</td>\n      <td>2004</td>\n      <td>win</td>\n    </tr>\n    <tr>\n      <th>17</th>\n      <td>Obama</td>\n      <td>Democratic</td>\n      <td>52.9</td>\n      <td>2008</td>\n      <td>win</td>\n    </tr>\n    <tr>\n      <th>18</th>\n      <td>McCain</td>\n      <td>Republican</td>\n      <td>45.7</td>\n      <td>2008</td>\n      <td>loss</td>\n    </tr>\n    <tr>\n      <th>19</th>\n      <td>Obama</td>\n      <td>Democratic</td>\n      <td>51.1</td>\n      <td>2012</td>\n      <td>win</td>\n    </tr>\n    <tr>\n      <th>20</th>\n      <td>Romney</td>\n      <td>Republican</td>\n      <td>47.2</td>\n      <td>2012</td>\n      <td>loss</td>\n    </tr>\n    <tr>\n      <th>21</th>\n      <td>Clinton</td>\n      <td>Democratic</td>\n      <td>48.2</td>\n      <td>2016</td>\n      <td>loss</td>\n    </tr>\n    <tr>\n      <th>22</th>\n      <td>Trump</td>\n      <td>Republican</td>\n      <td>46.1</td>\n      <td>2016</td>\n      <td>win</td>\n    </tr>\n  </tbody>\n</table>\n</div>",
      "text/plain": "   Candidate        Party     %  Year Result\n0     Reagan   Republican  50.7  1980    win\n1     Carter   Democratic  41.0  1980   loss\n2   Anderson  Independent   6.6  1980   loss\n3     Reagan   Republican  58.8  1984    win\n4    Mondale   Democratic  37.6  1984   loss\n5       Bush   Republican  53.4  1988    win\n6    Dukakis   Democratic  45.6  1988   loss\n7    Clinton   Democratic  43.0  1992    win\n8       Bush   Republican  37.4  1992   loss\n9      Perot  Independent  18.9  1992   loss\n10   Clinton   Democratic  49.2  1996    win\n11      Dole   Republican  40.7  1996   loss\n12     Perot  Independent   8.4  1996   loss\n13      Gore   Democratic  48.4  2000   loss\n14      Bush   Republican  47.9  2000    win\n15     Kerry   Democratic  48.3  2004   loss\n16      Bush   Republican  50.7  2004    win\n17     Obama   Democratic  52.9  2008    win\n18    McCain   Republican  45.7  2008   loss\n19     Obama   Democratic  51.1  2012    win\n20    Romney   Republican  47.2  2012   loss\n21   Clinton   Democratic  48.2  2016   loss\n22     Trump   Republican  46.1  2016    win"
     },
     "execution_count": 2,
     "metadata": {},
     "output_type": "execute_result"
    }
   ],
   "source": [
    "elections = pd.read_csv(\"elections.csv\")\n",
    "elections # if we end a cell with an expression or variable name, the result will print"
   ]
  },
  {
   "cell_type": "markdown",
   "metadata": {},
   "source": [
    "We can use shape to geth information about the shape of this dataset"
   ]
  },
  {
   "cell_type": "code",
   "execution_count": 3,
   "metadata": {},
   "outputs": [
    {
     "data": {
      "text/plain": "(23, 5)"
     },
     "execution_count": 3,
     "metadata": {},
     "output_type": "execute_result"
    }
   ],
   "source": [
    "elections.shape"
   ]
  },
  {
   "cell_type": "markdown",
   "metadata": {},
   "source": [
    "We can use the head command to return only a few rows of a dataframe."
   ]
  },
  {
   "cell_type": "code",
   "execution_count": 4,
   "metadata": {},
   "outputs": [
    {
     "data": {
      "text/html": "<div>\n<style scoped>\n    .dataframe tbody tr th:only-of-type {\n        vertical-align: middle;\n    }\n\n    .dataframe tbody tr th {\n        vertical-align: top;\n    }\n\n    .dataframe thead th {\n        text-align: right;\n    }\n</style>\n<table border=\"1\" class=\"dataframe\">\n  <thead>\n    <tr style=\"text-align: right;\">\n      <th></th>\n      <th>Candidate</th>\n      <th>Party</th>\n      <th>%</th>\n      <th>Year</th>\n      <th>Result</th>\n    </tr>\n  </thead>\n  <tbody>\n    <tr>\n      <th>0</th>\n      <td>Reagan</td>\n      <td>Republican</td>\n      <td>50.7</td>\n      <td>1980</td>\n      <td>win</td>\n    </tr>\n    <tr>\n      <th>1</th>\n      <td>Carter</td>\n      <td>Democratic</td>\n      <td>41.0</td>\n      <td>1980</td>\n      <td>loss</td>\n    </tr>\n    <tr>\n      <th>2</th>\n      <td>Anderson</td>\n      <td>Independent</td>\n      <td>6.6</td>\n      <td>1980</td>\n      <td>loss</td>\n    </tr>\n    <tr>\n      <th>3</th>\n      <td>Reagan</td>\n      <td>Republican</td>\n      <td>58.8</td>\n      <td>1984</td>\n      <td>win</td>\n    </tr>\n    <tr>\n      <th>4</th>\n      <td>Mondale</td>\n      <td>Democratic</td>\n      <td>37.6</td>\n      <td>1984</td>\n      <td>loss</td>\n    </tr>\n    <tr>\n      <th>5</th>\n      <td>Bush</td>\n      <td>Republican</td>\n      <td>53.4</td>\n      <td>1988</td>\n      <td>win</td>\n    </tr>\n    <tr>\n      <th>6</th>\n      <td>Dukakis</td>\n      <td>Democratic</td>\n      <td>45.6</td>\n      <td>1988</td>\n      <td>loss</td>\n    </tr>\n    <tr>\n      <th>7</th>\n      <td>Clinton</td>\n      <td>Democratic</td>\n      <td>43.0</td>\n      <td>1992</td>\n      <td>win</td>\n    </tr>\n    <tr>\n      <th>8</th>\n      <td>Bush</td>\n      <td>Republican</td>\n      <td>37.4</td>\n      <td>1992</td>\n      <td>loss</td>\n    </tr>\n    <tr>\n      <th>9</th>\n      <td>Perot</td>\n      <td>Independent</td>\n      <td>18.9</td>\n      <td>1992</td>\n      <td>loss</td>\n    </tr>\n  </tbody>\n</table>\n</div>",
      "text/plain": "  Candidate        Party     %  Year Result\n0    Reagan   Republican  50.7  1980    win\n1    Carter   Democratic  41.0  1980   loss\n2  Anderson  Independent   6.6  1980   loss\n3    Reagan   Republican  58.8  1984    win\n4   Mondale   Democratic  37.6  1984   loss\n5      Bush   Republican  53.4  1988    win\n6   Dukakis   Democratic  45.6  1988   loss\n7   Clinton   Democratic  43.0  1992    win\n8      Bush   Republican  37.4  1992   loss\n9     Perot  Independent  18.9  1992   loss"
     },
     "execution_count": 4,
     "metadata": {},
     "output_type": "execute_result"
    }
   ],
   "source": [
    "elections.head(10)"
   ]
  },
  {
   "cell_type": "markdown",
   "metadata": {},
   "source": [
    "There is also a tail command."
   ]
  },
  {
   "cell_type": "code",
   "execution_count": 5,
   "metadata": {},
   "outputs": [
    {
     "data": {
      "text/html": "<div>\n<style scoped>\n    .dataframe tbody tr th:only-of-type {\n        vertical-align: middle;\n    }\n\n    .dataframe tbody tr th {\n        vertical-align: top;\n    }\n\n    .dataframe thead th {\n        text-align: right;\n    }\n</style>\n<table border=\"1\" class=\"dataframe\">\n  <thead>\n    <tr style=\"text-align: right;\">\n      <th></th>\n      <th>Candidate</th>\n      <th>Party</th>\n      <th>%</th>\n      <th>Year</th>\n      <th>Result</th>\n    </tr>\n  </thead>\n  <tbody>\n    <tr>\n      <th>16</th>\n      <td>Bush</td>\n      <td>Republican</td>\n      <td>50.7</td>\n      <td>2004</td>\n      <td>win</td>\n    </tr>\n    <tr>\n      <th>17</th>\n      <td>Obama</td>\n      <td>Democratic</td>\n      <td>52.9</td>\n      <td>2008</td>\n      <td>win</td>\n    </tr>\n    <tr>\n      <th>18</th>\n      <td>McCain</td>\n      <td>Republican</td>\n      <td>45.7</td>\n      <td>2008</td>\n      <td>loss</td>\n    </tr>\n    <tr>\n      <th>19</th>\n      <td>Obama</td>\n      <td>Democratic</td>\n      <td>51.1</td>\n      <td>2012</td>\n      <td>win</td>\n    </tr>\n    <tr>\n      <th>20</th>\n      <td>Romney</td>\n      <td>Republican</td>\n      <td>47.2</td>\n      <td>2012</td>\n      <td>loss</td>\n    </tr>\n    <tr>\n      <th>21</th>\n      <td>Clinton</td>\n      <td>Democratic</td>\n      <td>48.2</td>\n      <td>2016</td>\n      <td>loss</td>\n    </tr>\n    <tr>\n      <th>22</th>\n      <td>Trump</td>\n      <td>Republican</td>\n      <td>46.1</td>\n      <td>2016</td>\n      <td>win</td>\n    </tr>\n  </tbody>\n</table>\n</div>",
      "text/plain": "   Candidate       Party     %  Year Result\n16      Bush  Republican  50.7  2004    win\n17     Obama  Democratic  52.9  2008    win\n18    McCain  Republican  45.7  2008   loss\n19     Obama  Democratic  51.1  2012    win\n20    Romney  Republican  47.2  2012   loss\n21   Clinton  Democratic  48.2  2016   loss\n22     Trump  Republican  46.1  2016    win"
     },
     "execution_count": 5,
     "metadata": {},
     "output_type": "execute_result"
    }
   ],
   "source": [
    "elections.tail(7)"
   ]
  },
  {
   "cell_type": "markdown",
   "metadata": {},
   "source": []
  },
  {
   "cell_type": "markdown",
   "metadata": {},
   "source": [
    "When reading data column names are ideally unique. But if we try to read in a file for which column names are not unique, Pandas will automatically rename any duplicates.  Just good to know, many datasets in the wild have duplicate names. "
   ]
  },
  {
   "cell_type": "code",
   "execution_count": 6,
   "metadata": {},
   "outputs": [
    {
     "data": {
      "text/html": "<div>\n<style scoped>\n    .dataframe tbody tr th:only-of-type {\n        vertical-align: middle;\n    }\n\n    .dataframe tbody tr th {\n        vertical-align: top;\n    }\n\n    .dataframe thead th {\n        text-align: right;\n    }\n</style>\n<table border=\"1\" class=\"dataframe\">\n  <thead>\n    <tr style=\"text-align: right;\">\n      <th></th>\n      <th>name</th>\n      <th>name.1</th>\n      <th>flavor</th>\n    </tr>\n  </thead>\n  <tbody>\n    <tr>\n      <th>0</th>\n      <td>john</td>\n      <td>smith</td>\n      <td>vanilla</td>\n    </tr>\n    <tr>\n      <th>1</th>\n      <td>zhang</td>\n      <td>shan</td>\n      <td>chocolate</td>\n    </tr>\n    <tr>\n      <th>2</th>\n      <td>fulan</td>\n      <td>alfulani</td>\n      <td>NaN</td>\n    </tr>\n    <tr>\n      <th>3</th>\n      <td>hong</td>\n      <td>gildong</td>\n      <td>banana</td>\n    </tr>\n  </tbody>\n</table>\n</div>",
      "text/plain": "    name    name.1     flavor\n0   john     smith    vanilla\n1  zhang      shan  chocolate\n2  fulan  alfulani        NaN\n3   hong   gildong     banana"
     },
     "execution_count": 6,
     "metadata": {},
     "output_type": "execute_result"
    }
   ],
   "source": [
    "dups = pd.read_csv(\"duplicate_columns.csv\")\n",
    "dups"
   ]
  },
  {
   "cell_type": "markdown",
   "metadata": {},
   "source": [
    "## Indexing, Slicing, Dicing"
   ]
  },
  {
   "cell_type": "markdown",
   "metadata": {},
   "source": [
    "After reading in data, the most common operaton is selecting data.   With pandas dataframes there are a bunch of powerful ways to access data.  I'll step through a few now. \n",
    "\n",
    "The DataFrame class has an indexing operator [] that lets you do a variety of different things. If your provide a String to the [] operator, you get back a Series corresponding to the requested label.\n",
    "\n",
    "This is start of where syntax will get a bit confusing.  \n",
    "\n",
    "### Selection Using Label/Index, with `loc`\n",
    "\n",
    "**Column Selection** \n",
    "\n",
    "To select a column of a `DataFrame` by column label, the safest and fastest way is to use the `.loc` [method](https://pandas.pydata.org/pandas-docs/stable/reference/api/pandas.DataFrame.loc.html). General usage of `.loc` looks like `df.loc[rowname, colname]`. Remember that the colon `:` means \"everything.\" For example, if we want the `color` column of the `ex` DataFrame, we would use: `ex.loc[:, 'color']`\n",
    "\n",
    "- You can also slice across columns. For example, `baby_names.loc[:, 'Name':]` would select the column `Name` and all columns after `Name`.\n",
    "\n",
    "- *Alternative:* While `.loc` is invaluable when writing production code, it may be a little too verbose for interactive use. One recommended alternative is the `[]` method, which takes on the form `df['colname']`.\n",
    "\n",
    "**Row Selection**\n",
    "\n",
    "Similarly, if we want to select a row by its label, we can use the same `.loc` method. In this case, the \"label\" of each row refers to the index (ie. primary key) of the DataFrame.\n",
    "\n",
    "### We wil go through a bunch of examples now. \n"
   ]
  },
  {
   "cell_type": "code",
   "execution_count": 7,
   "metadata": {},
   "outputs": [],
   "source": [
    "#Show the first 6 values. \n",
    "..."
   ]
  },
  {
   "cell_type": "code",
   "execution_count": 8,
   "metadata": {},
   "outputs": [],
   "source": [
    "# Show just the Candidate names for the first 6 values. \n"
   ]
  },
  {
   "cell_type": "markdown",
   "metadata": {},
   "source": [
    "The [] operator also accepts a list of strings. In this case, you get back a DataFrame corresponding to the requested strings."
   ]
  },
  {
   "cell_type": "code",
   "execution_count": 9,
   "metadata": {
    "scrolled": true
   },
   "outputs": [
    {
     "data": {
      "text/html": "<div>\n<style scoped>\n    .dataframe tbody tr th:only-of-type {\n        vertical-align: middle;\n    }\n\n    .dataframe tbody tr th {\n        vertical-align: top;\n    }\n\n    .dataframe thead th {\n        text-align: right;\n    }\n</style>\n<table border=\"1\" class=\"dataframe\">\n  <thead>\n    <tr style=\"text-align: right;\">\n      <th></th>\n      <th>Candidate</th>\n      <th>Party</th>\n    </tr>\n  </thead>\n  <tbody>\n    <tr>\n      <th>0</th>\n      <td>Reagan</td>\n      <td>Republican</td>\n    </tr>\n    <tr>\n      <th>1</th>\n      <td>Carter</td>\n      <td>Democratic</td>\n    </tr>\n    <tr>\n      <th>2</th>\n      <td>Anderson</td>\n      <td>Independent</td>\n    </tr>\n    <tr>\n      <th>3</th>\n      <td>Reagan</td>\n      <td>Republican</td>\n    </tr>\n    <tr>\n      <th>4</th>\n      <td>Mondale</td>\n      <td>Democratic</td>\n    </tr>\n  </tbody>\n</table>\n</div>",
      "text/plain": "  Candidate        Party\n0    Reagan   Republican\n1    Carter   Democratic\n2  Anderson  Independent\n3    Reagan   Republican\n4   Mondale   Democratic"
     },
     "execution_count": 9,
     "metadata": {},
     "output_type": "execute_result"
    }
   ],
   "source": [
    "elections[[\"Candidate\", \"Party\"]].head()"
   ]
  },
  {
   "cell_type": "markdown",
   "metadata": {},
   "source": [
    "The [] operator also accepts numerical slices as arguments. In this case, we are indexing by row, not column!\n",
    "\n",
    "Which is really, really confusing. "
   ]
  },
  {
   "cell_type": "code",
   "execution_count": 10,
   "metadata": {},
   "outputs": [
    {
     "data": {
      "text/html": "<div>\n<style scoped>\n    .dataframe tbody tr th:only-of-type {\n        vertical-align: middle;\n    }\n\n    .dataframe tbody tr th {\n        vertical-align: top;\n    }\n\n    .dataframe thead th {\n        text-align: right;\n    }\n</style>\n<table border=\"1\" class=\"dataframe\">\n  <thead>\n    <tr style=\"text-align: right;\">\n      <th></th>\n      <th>Candidate</th>\n      <th>Party</th>\n      <th>%</th>\n      <th>Year</th>\n      <th>Result</th>\n    </tr>\n  </thead>\n  <tbody>\n    <tr>\n      <th>0</th>\n      <td>Reagan</td>\n      <td>Republican</td>\n      <td>50.7</td>\n      <td>1980</td>\n      <td>win</td>\n    </tr>\n    <tr>\n      <th>1</th>\n      <td>Carter</td>\n      <td>Democratic</td>\n      <td>41.0</td>\n      <td>1980</td>\n      <td>loss</td>\n    </tr>\n    <tr>\n      <th>2</th>\n      <td>Anderson</td>\n      <td>Independent</td>\n      <td>6.6</td>\n      <td>1980</td>\n      <td>loss</td>\n    </tr>\n  </tbody>\n</table>\n</div>",
      "text/plain": "  Candidate        Party     %  Year Result\n0    Reagan   Republican  50.7  1980    win\n1    Carter   Democratic  41.0  1980   loss\n2  Anderson  Independent   6.6  1980   loss"
     },
     "execution_count": 10,
     "metadata": {},
     "output_type": "execute_result"
    }
   ],
   "source": [
    "elections[0:3]"
   ]
  },
  {
   "cell_type": "markdown",
   "metadata": {},
   "source": [
    "The way to think of this is that the table is fundamentally a table with rows and columns.  Columns have names, rows have numbers by default. What we did above was shorthand.  When we didn't ask for a specific column or row we got all of them back.  \n",
    "\n",
    "WHen you start selecting both there are a lot of [] to keep track of.   "
   ]
  },
  {
   "cell_type": "code",
   "execution_count": 11,
   "metadata": {},
   "outputs": [
    {
     "data": {
      "text/html": "<div>\n<style scoped>\n    .dataframe tbody tr th:only-of-type {\n        vertical-align: middle;\n    }\n\n    .dataframe tbody tr th {\n        vertical-align: top;\n    }\n\n    .dataframe thead th {\n        text-align: right;\n    }\n</style>\n<table border=\"1\" class=\"dataframe\">\n  <thead>\n    <tr style=\"text-align: right;\">\n      <th></th>\n      <th>Candidate</th>\n      <th>Party</th>\n    </tr>\n  </thead>\n  <tbody>\n    <tr>\n      <th>0</th>\n      <td>Reagan</td>\n      <td>Republican</td>\n    </tr>\n    <tr>\n      <th>1</th>\n      <td>Carter</td>\n      <td>Democratic</td>\n    </tr>\n    <tr>\n      <th>2</th>\n      <td>Anderson</td>\n      <td>Independent</td>\n    </tr>\n  </tbody>\n</table>\n</div>",
      "text/plain": "  Candidate        Party\n0    Reagan   Republican\n1    Carter   Democratic\n2  Anderson  Independent"
     },
     "execution_count": 11,
     "metadata": {},
     "output_type": "execute_result"
    }
   ],
   "source": [
    "elections[[\"Candidate\",\"Party\"]][0:3]"
   ]
  },
  {
   "cell_type": "markdown",
   "metadata": {},
   "source": [
    "If you provide a single argument to the [] operator, it tries to use it as a name. This is true even if the argument passed to [] is an integer.  The next cell has an intentional error.   You will see these \"KeyError\" messages often when working with pandas.   It just means it can't find what you're looking for.  Usually because of a typo. "
   ]
  },
  {
   "cell_type": "code",
   "execution_count": 12,
   "metadata": {},
   "outputs": [],
   "source": [
    "#elections[0] #this does not work,  see it fail in action, woo"
   ]
  },
  {
   "cell_type": "markdown",
   "metadata": {},
   "source": [
    "The following cells allow you to test your understanding."
   ]
  },
  {
   "cell_type": "code",
   "execution_count": 13,
   "metadata": {},
   "outputs": [
    {
     "data": {
      "text/html": "<div>\n<style scoped>\n    .dataframe tbody tr th:only-of-type {\n        vertical-align: middle;\n    }\n\n    .dataframe tbody tr th {\n        vertical-align: top;\n    }\n\n    .dataframe thead th {\n        text-align: right;\n    }\n</style>\n<table border=\"1\" class=\"dataframe\">\n  <thead>\n    <tr style=\"text-align: right;\">\n      <th></th>\n      <th>1</th>\n      <th>1</th>\n    </tr>\n  </thead>\n  <tbody>\n    <tr>\n      <th>0</th>\n      <td>topdog</td>\n      <td>topcat</td>\n    </tr>\n    <tr>\n      <th>1</th>\n      <td>botdog</td>\n      <td>botcat</td>\n    </tr>\n  </tbody>\n</table>\n</div>",
      "text/plain": "        1       1\n0  topdog  topcat\n1  botdog  botcat"
     },
     "execution_count": 13,
     "metadata": {},
     "output_type": "execute_result"
    }
   ],
   "source": [
    "weird = pd.DataFrame({\n",
    "    1:[\"topdog\",\"botdog\"], \n",
    "    \"1\":[\"topcat\",\"botcat\"]\n",
    "})\n",
    "weird"
   ]
  },
  {
   "cell_type": "code",
   "execution_count": 14,
   "metadata": {},
   "outputs": [
    {
     "data": {
      "text/plain": "0    topdog\n1    botdog\nName: 1, dtype: object"
     },
     "execution_count": 14,
     "metadata": {},
     "output_type": "execute_result"
    }
   ],
   "source": [
    "weird[1] #try to predict the output"
   ]
  },
  {
   "cell_type": "code",
   "execution_count": 15,
   "metadata": {},
   "outputs": [
    {
     "data": {
      "text/plain": "0    topcat\n1    botcat\nName: 1, dtype: object"
     },
     "execution_count": 15,
     "metadata": {},
     "output_type": "execute_result"
    }
   ],
   "source": [
    "weird[\"1\"] #try to predict the output"
   ]
  },
  {
   "cell_type": "code",
   "execution_count": 16,
   "metadata": {},
   "outputs": [
    {
     "data": {
      "text/html": "<div>\n<style scoped>\n    .dataframe tbody tr th:only-of-type {\n        vertical-align: middle;\n    }\n\n    .dataframe tbody tr th {\n        vertical-align: top;\n    }\n\n    .dataframe thead th {\n        text-align: right;\n    }\n</style>\n<table border=\"1\" class=\"dataframe\">\n  <thead>\n    <tr style=\"text-align: right;\">\n      <th></th>\n      <th>1</th>\n      <th>1</th>\n    </tr>\n  </thead>\n  <tbody>\n    <tr>\n      <th>1</th>\n      <td>botdog</td>\n      <td>botcat</td>\n    </tr>\n  </tbody>\n</table>\n</div>",
      "text/plain": "        1       1\n1  botdog  botcat"
     },
     "execution_count": 16,
     "metadata": {},
     "output_type": "execute_result"
    }
   ],
   "source": [
    "weird[1:] #try to predict the output"
   ]
  },
  {
   "cell_type": "markdown",
   "metadata": {},
   "source": [
    "## Boolean Array Selection"
   ]
  },
  {
   "cell_type": "markdown",
   "metadata": {},
   "source": [
    "Now let's start doing some more interesting things. \n",
    "\n",
    "The `[]` operator also supports array of booleans as an input. In this case, the array must be exactly as long as the number of rows. The result is a filtered version of the data frame, where only rows corresponding to True appear."
   ]
  },
  {
   "cell_type": "code",
   "execution_count": 17,
   "metadata": {},
   "outputs": [
    {
     "data": {
      "text/html": "<div>\n<style scoped>\n    .dataframe tbody tr th:only-of-type {\n        vertical-align: middle;\n    }\n\n    .dataframe tbody tr th {\n        vertical-align: top;\n    }\n\n    .dataframe thead th {\n        text-align: right;\n    }\n</style>\n<table border=\"1\" class=\"dataframe\">\n  <thead>\n    <tr style=\"text-align: right;\">\n      <th></th>\n      <th>Candidate</th>\n      <th>Party</th>\n      <th>%</th>\n      <th>Year</th>\n      <th>Result</th>\n    </tr>\n  </thead>\n  <tbody>\n    <tr>\n      <th>0</th>\n      <td>Reagan</td>\n      <td>Republican</td>\n      <td>50.7</td>\n      <td>1980</td>\n      <td>win</td>\n    </tr>\n    <tr>\n      <th>1</th>\n      <td>Carter</td>\n      <td>Democratic</td>\n      <td>41.0</td>\n      <td>1980</td>\n      <td>loss</td>\n    </tr>\n    <tr>\n      <th>2</th>\n      <td>Anderson</td>\n      <td>Independent</td>\n      <td>6.6</td>\n      <td>1980</td>\n      <td>loss</td>\n    </tr>\n    <tr>\n      <th>3</th>\n      <td>Reagan</td>\n      <td>Republican</td>\n      <td>58.8</td>\n      <td>1984</td>\n      <td>win</td>\n    </tr>\n    <tr>\n      <th>4</th>\n      <td>Mondale</td>\n      <td>Democratic</td>\n      <td>37.6</td>\n      <td>1984</td>\n      <td>loss</td>\n    </tr>\n    <tr>\n      <th>5</th>\n      <td>Bush</td>\n      <td>Republican</td>\n      <td>53.4</td>\n      <td>1988</td>\n      <td>win</td>\n    </tr>\n    <tr>\n      <th>6</th>\n      <td>Dukakis</td>\n      <td>Democratic</td>\n      <td>45.6</td>\n      <td>1988</td>\n      <td>loss</td>\n    </tr>\n    <tr>\n      <th>7</th>\n      <td>Clinton</td>\n      <td>Democratic</td>\n      <td>43.0</td>\n      <td>1992</td>\n      <td>win</td>\n    </tr>\n    <tr>\n      <th>8</th>\n      <td>Bush</td>\n      <td>Republican</td>\n      <td>37.4</td>\n      <td>1992</td>\n      <td>loss</td>\n    </tr>\n    <tr>\n      <th>9</th>\n      <td>Perot</td>\n      <td>Independent</td>\n      <td>18.9</td>\n      <td>1992</td>\n      <td>loss</td>\n    </tr>\n    <tr>\n      <th>10</th>\n      <td>Clinton</td>\n      <td>Democratic</td>\n      <td>49.2</td>\n      <td>1996</td>\n      <td>win</td>\n    </tr>\n    <tr>\n      <th>11</th>\n      <td>Dole</td>\n      <td>Republican</td>\n      <td>40.7</td>\n      <td>1996</td>\n      <td>loss</td>\n    </tr>\n    <tr>\n      <th>12</th>\n      <td>Perot</td>\n      <td>Independent</td>\n      <td>8.4</td>\n      <td>1996</td>\n      <td>loss</td>\n    </tr>\n    <tr>\n      <th>13</th>\n      <td>Gore</td>\n      <td>Democratic</td>\n      <td>48.4</td>\n      <td>2000</td>\n      <td>loss</td>\n    </tr>\n    <tr>\n      <th>14</th>\n      <td>Bush</td>\n      <td>Republican</td>\n      <td>47.9</td>\n      <td>2000</td>\n      <td>win</td>\n    </tr>\n    <tr>\n      <th>15</th>\n      <td>Kerry</td>\n      <td>Democratic</td>\n      <td>48.3</td>\n      <td>2004</td>\n      <td>loss</td>\n    </tr>\n    <tr>\n      <th>16</th>\n      <td>Bush</td>\n      <td>Republican</td>\n      <td>50.7</td>\n      <td>2004</td>\n      <td>win</td>\n    </tr>\n    <tr>\n      <th>17</th>\n      <td>Obama</td>\n      <td>Democratic</td>\n      <td>52.9</td>\n      <td>2008</td>\n      <td>win</td>\n    </tr>\n    <tr>\n      <th>18</th>\n      <td>McCain</td>\n      <td>Republican</td>\n      <td>45.7</td>\n      <td>2008</td>\n      <td>loss</td>\n    </tr>\n    <tr>\n      <th>19</th>\n      <td>Obama</td>\n      <td>Democratic</td>\n      <td>51.1</td>\n      <td>2012</td>\n      <td>win</td>\n    </tr>\n    <tr>\n      <th>20</th>\n      <td>Romney</td>\n      <td>Republican</td>\n      <td>47.2</td>\n      <td>2012</td>\n      <td>loss</td>\n    </tr>\n    <tr>\n      <th>21</th>\n      <td>Clinton</td>\n      <td>Democratic</td>\n      <td>48.2</td>\n      <td>2016</td>\n      <td>loss</td>\n    </tr>\n    <tr>\n      <th>22</th>\n      <td>Trump</td>\n      <td>Republican</td>\n      <td>46.1</td>\n      <td>2016</td>\n      <td>win</td>\n    </tr>\n  </tbody>\n</table>\n</div>",
      "text/plain": "   Candidate        Party     %  Year Result\n0     Reagan   Republican  50.7  1980    win\n1     Carter   Democratic  41.0  1980   loss\n2   Anderson  Independent   6.6  1980   loss\n3     Reagan   Republican  58.8  1984    win\n4    Mondale   Democratic  37.6  1984   loss\n5       Bush   Republican  53.4  1988    win\n6    Dukakis   Democratic  45.6  1988   loss\n7    Clinton   Democratic  43.0  1992    win\n8       Bush   Republican  37.4  1992   loss\n9      Perot  Independent  18.9  1992   loss\n10   Clinton   Democratic  49.2  1996    win\n11      Dole   Republican  40.7  1996   loss\n12     Perot  Independent   8.4  1996   loss\n13      Gore   Democratic  48.4  2000   loss\n14      Bush   Republican  47.9  2000    win\n15     Kerry   Democratic  48.3  2004   loss\n16      Bush   Republican  50.7  2004    win\n17     Obama   Democratic  52.9  2008    win\n18    McCain   Republican  45.7  2008   loss\n19     Obama   Democratic  51.1  2012    win\n20    Romney   Republican  47.2  2012   loss\n21   Clinton   Democratic  48.2  2016   loss\n22     Trump   Republican  46.1  2016    win"
     },
     "execution_count": 17,
     "metadata": {},
     "output_type": "execute_result"
    }
   ],
   "source": [
    "elections"
   ]
  },
  {
   "cell_type": "code",
   "execution_count": 18,
   "metadata": {},
   "outputs": [
    {
     "data": {
      "text/html": "<div>\n<style scoped>\n    .dataframe tbody tr th:only-of-type {\n        vertical-align: middle;\n    }\n\n    .dataframe tbody tr th {\n        vertical-align: top;\n    }\n\n    .dataframe thead th {\n        text-align: right;\n    }\n</style>\n<table border=\"1\" class=\"dataframe\">\n  <thead>\n    <tr style=\"text-align: right;\">\n      <th></th>\n      <th>Candidate</th>\n      <th>Party</th>\n      <th>%</th>\n      <th>Year</th>\n      <th>Result</th>\n    </tr>\n  </thead>\n  <tbody>\n    <tr>\n      <th>7</th>\n      <td>Clinton</td>\n      <td>Democratic</td>\n      <td>43.0</td>\n      <td>1992</td>\n      <td>win</td>\n    </tr>\n    <tr>\n      <th>10</th>\n      <td>Clinton</td>\n      <td>Democratic</td>\n      <td>49.2</td>\n      <td>1996</td>\n      <td>win</td>\n    </tr>\n    <tr>\n      <th>14</th>\n      <td>Bush</td>\n      <td>Republican</td>\n      <td>47.9</td>\n      <td>2000</td>\n      <td>win</td>\n    </tr>\n    <tr>\n      <th>22</th>\n      <td>Trump</td>\n      <td>Republican</td>\n      <td>46.1</td>\n      <td>2016</td>\n      <td>win</td>\n    </tr>\n  </tbody>\n</table>\n</div>",
      "text/plain": "   Candidate       Party     %  Year Result\n7    Clinton  Democratic  43.0  1992    win\n10   Clinton  Democratic  49.2  1996    win\n14      Bush  Republican  47.9  2000    win\n22     Trump  Republican  46.1  2016    win"
     },
     "execution_count": 18,
     "metadata": {},
     "output_type": "execute_result"
    }
   ],
   "source": [
    "elections[[False, False, False, False, False, \n",
    "          False, False, True, False, False,\n",
    "          True, False, False, False, True,\n",
    "          False, False, False, False, False,\n",
    "          False, False, True]]"
   ]
  },
  {
   "cell_type": "markdown",
   "metadata": {},
   "source": [
    "One very common task in Data Science is filtering. Boolean Array Selection is one way to achieve this in Pandas. We start by observing logical operators like the equality operator can be applied to Pandas Series data to generate a Boolean Array. For example, we can compare the 'Result' column to the String 'win':"
   ]
  },
  {
   "cell_type": "code",
   "execution_count": 19,
   "metadata": {},
   "outputs": [
    {
     "data": {
      "text/html": "<div>\n<style scoped>\n    .dataframe tbody tr th:only-of-type {\n        vertical-align: middle;\n    }\n\n    .dataframe tbody tr th {\n        vertical-align: top;\n    }\n\n    .dataframe thead th {\n        text-align: right;\n    }\n</style>\n<table border=\"1\" class=\"dataframe\">\n  <thead>\n    <tr style=\"text-align: right;\">\n      <th></th>\n      <th>Candidate</th>\n      <th>Party</th>\n      <th>%</th>\n      <th>Year</th>\n      <th>Result</th>\n    </tr>\n  </thead>\n  <tbody>\n    <tr>\n      <th>0</th>\n      <td>Reagan</td>\n      <td>Republican</td>\n      <td>50.7</td>\n      <td>1980</td>\n      <td>win</td>\n    </tr>\n    <tr>\n      <th>1</th>\n      <td>Carter</td>\n      <td>Democratic</td>\n      <td>41.0</td>\n      <td>1980</td>\n      <td>loss</td>\n    </tr>\n    <tr>\n      <th>2</th>\n      <td>Anderson</td>\n      <td>Independent</td>\n      <td>6.6</td>\n      <td>1980</td>\n      <td>loss</td>\n    </tr>\n    <tr>\n      <th>3</th>\n      <td>Reagan</td>\n      <td>Republican</td>\n      <td>58.8</td>\n      <td>1984</td>\n      <td>win</td>\n    </tr>\n    <tr>\n      <th>4</th>\n      <td>Mondale</td>\n      <td>Democratic</td>\n      <td>37.6</td>\n      <td>1984</td>\n      <td>loss</td>\n    </tr>\n    <tr>\n      <th>5</th>\n      <td>Bush</td>\n      <td>Republican</td>\n      <td>53.4</td>\n      <td>1988</td>\n      <td>win</td>\n    </tr>\n    <tr>\n      <th>6</th>\n      <td>Dukakis</td>\n      <td>Democratic</td>\n      <td>45.6</td>\n      <td>1988</td>\n      <td>loss</td>\n    </tr>\n    <tr>\n      <th>7</th>\n      <td>Clinton</td>\n      <td>Democratic</td>\n      <td>43.0</td>\n      <td>1992</td>\n      <td>win</td>\n    </tr>\n    <tr>\n      <th>8</th>\n      <td>Bush</td>\n      <td>Republican</td>\n      <td>37.4</td>\n      <td>1992</td>\n      <td>loss</td>\n    </tr>\n    <tr>\n      <th>9</th>\n      <td>Perot</td>\n      <td>Independent</td>\n      <td>18.9</td>\n      <td>1992</td>\n      <td>loss</td>\n    </tr>\n    <tr>\n      <th>10</th>\n      <td>Clinton</td>\n      <td>Democratic</td>\n      <td>49.2</td>\n      <td>1996</td>\n      <td>win</td>\n    </tr>\n    <tr>\n      <th>11</th>\n      <td>Dole</td>\n      <td>Republican</td>\n      <td>40.7</td>\n      <td>1996</td>\n      <td>loss</td>\n    </tr>\n    <tr>\n      <th>12</th>\n      <td>Perot</td>\n      <td>Independent</td>\n      <td>8.4</td>\n      <td>1996</td>\n      <td>loss</td>\n    </tr>\n    <tr>\n      <th>13</th>\n      <td>Gore</td>\n      <td>Democratic</td>\n      <td>48.4</td>\n      <td>2000</td>\n      <td>loss</td>\n    </tr>\n    <tr>\n      <th>14</th>\n      <td>Bush</td>\n      <td>Republican</td>\n      <td>47.9</td>\n      <td>2000</td>\n      <td>win</td>\n    </tr>\n    <tr>\n      <th>15</th>\n      <td>Kerry</td>\n      <td>Democratic</td>\n      <td>48.3</td>\n      <td>2004</td>\n      <td>loss</td>\n    </tr>\n    <tr>\n      <th>16</th>\n      <td>Bush</td>\n      <td>Republican</td>\n      <td>50.7</td>\n      <td>2004</td>\n      <td>win</td>\n    </tr>\n    <tr>\n      <th>17</th>\n      <td>Obama</td>\n      <td>Democratic</td>\n      <td>52.9</td>\n      <td>2008</td>\n      <td>win</td>\n    </tr>\n    <tr>\n      <th>18</th>\n      <td>McCain</td>\n      <td>Republican</td>\n      <td>45.7</td>\n      <td>2008</td>\n      <td>loss</td>\n    </tr>\n    <tr>\n      <th>19</th>\n      <td>Obama</td>\n      <td>Democratic</td>\n      <td>51.1</td>\n      <td>2012</td>\n      <td>win</td>\n    </tr>\n    <tr>\n      <th>20</th>\n      <td>Romney</td>\n      <td>Republican</td>\n      <td>47.2</td>\n      <td>2012</td>\n      <td>loss</td>\n    </tr>\n    <tr>\n      <th>21</th>\n      <td>Clinton</td>\n      <td>Democratic</td>\n      <td>48.2</td>\n      <td>2016</td>\n      <td>loss</td>\n    </tr>\n    <tr>\n      <th>22</th>\n      <td>Trump</td>\n      <td>Republican</td>\n      <td>46.1</td>\n      <td>2016</td>\n      <td>win</td>\n    </tr>\n  </tbody>\n</table>\n</div>",
      "text/plain": "   Candidate        Party     %  Year Result\n0     Reagan   Republican  50.7  1980    win\n1     Carter   Democratic  41.0  1980   loss\n2   Anderson  Independent   6.6  1980   loss\n3     Reagan   Republican  58.8  1984    win\n4    Mondale   Democratic  37.6  1984   loss\n5       Bush   Republican  53.4  1988    win\n6    Dukakis   Democratic  45.6  1988   loss\n7    Clinton   Democratic  43.0  1992    win\n8       Bush   Republican  37.4  1992   loss\n9      Perot  Independent  18.9  1992   loss\n10   Clinton   Democratic  49.2  1996    win\n11      Dole   Republican  40.7  1996   loss\n12     Perot  Independent   8.4  1996   loss\n13      Gore   Democratic  48.4  2000   loss\n14      Bush   Republican  47.9  2000    win\n15     Kerry   Democratic  48.3  2004   loss\n16      Bush   Republican  50.7  2004    win\n17     Obama   Democratic  52.9  2008    win\n18    McCain   Republican  45.7  2008   loss\n19     Obama   Democratic  51.1  2012    win\n20    Romney   Republican  47.2  2012   loss\n21   Clinton   Democratic  48.2  2016   loss\n22     Trump   Republican  46.1  2016    win"
     },
     "execution_count": 19,
     "metadata": {},
     "output_type": "execute_result"
    }
   ],
   "source": [
    "elections"
   ]
  },
  {
   "cell_type": "code",
   "execution_count": 20,
   "metadata": {},
   "outputs": [
    {
     "data": {
      "text/plain": "0     True\n1    False\n2    False\n3     True\n4    False\nName: Result, dtype: bool"
     },
     "execution_count": 20,
     "metadata": {},
     "output_type": "execute_result"
    }
   ],
   "source": [
    "iswin = elections['Result'] == 'win'\n",
    "iswin.head(5)"
   ]
  },
  {
   "cell_type": "markdown",
   "metadata": {},
   "source": [
    "The output of the logical operator applied to the Series is another Series with the same name and index, but of datatype boolean. The entry at row #i represents the result of the application of that operator to the entry of the original Series at row #i."
   ]
  },
  {
   "cell_type": "markdown",
   "metadata": {},
   "source": [
    "Such a boolean Series can be used as an argument to the [] operator. For example, the following code creates a DataFrame of all election winners since 1980."
   ]
  },
  {
   "cell_type": "code",
   "execution_count": 21,
   "metadata": {},
   "outputs": [
    {
     "data": {
      "text/html": "<div>\n<style scoped>\n    .dataframe tbody tr th:only-of-type {\n        vertical-align: middle;\n    }\n\n    .dataframe tbody tr th {\n        vertical-align: top;\n    }\n\n    .dataframe thead th {\n        text-align: right;\n    }\n</style>\n<table border=\"1\" class=\"dataframe\">\n  <thead>\n    <tr style=\"text-align: right;\">\n      <th></th>\n      <th>Candidate</th>\n      <th>Party</th>\n      <th>%</th>\n      <th>Year</th>\n      <th>Result</th>\n    </tr>\n  </thead>\n  <tbody>\n    <tr>\n      <th>0</th>\n      <td>Reagan</td>\n      <td>Republican</td>\n      <td>50.7</td>\n      <td>1980</td>\n      <td>win</td>\n    </tr>\n    <tr>\n      <th>3</th>\n      <td>Reagan</td>\n      <td>Republican</td>\n      <td>58.8</td>\n      <td>1984</td>\n      <td>win</td>\n    </tr>\n    <tr>\n      <th>5</th>\n      <td>Bush</td>\n      <td>Republican</td>\n      <td>53.4</td>\n      <td>1988</td>\n      <td>win</td>\n    </tr>\n    <tr>\n      <th>7</th>\n      <td>Clinton</td>\n      <td>Democratic</td>\n      <td>43.0</td>\n      <td>1992</td>\n      <td>win</td>\n    </tr>\n    <tr>\n      <th>10</th>\n      <td>Clinton</td>\n      <td>Democratic</td>\n      <td>49.2</td>\n      <td>1996</td>\n      <td>win</td>\n    </tr>\n    <tr>\n      <th>14</th>\n      <td>Bush</td>\n      <td>Republican</td>\n      <td>47.9</td>\n      <td>2000</td>\n      <td>win</td>\n    </tr>\n    <tr>\n      <th>16</th>\n      <td>Bush</td>\n      <td>Republican</td>\n      <td>50.7</td>\n      <td>2004</td>\n      <td>win</td>\n    </tr>\n    <tr>\n      <th>17</th>\n      <td>Obama</td>\n      <td>Democratic</td>\n      <td>52.9</td>\n      <td>2008</td>\n      <td>win</td>\n    </tr>\n    <tr>\n      <th>19</th>\n      <td>Obama</td>\n      <td>Democratic</td>\n      <td>51.1</td>\n      <td>2012</td>\n      <td>win</td>\n    </tr>\n    <tr>\n      <th>22</th>\n      <td>Trump</td>\n      <td>Republican</td>\n      <td>46.1</td>\n      <td>2016</td>\n      <td>win</td>\n    </tr>\n  </tbody>\n</table>\n</div>",
      "text/plain": "   Candidate       Party     %  Year Result\n0     Reagan  Republican  50.7  1980    win\n3     Reagan  Republican  58.8  1984    win\n5       Bush  Republican  53.4  1988    win\n7    Clinton  Democratic  43.0  1992    win\n10   Clinton  Democratic  49.2  1996    win\n14      Bush  Republican  47.9  2000    win\n16      Bush  Republican  50.7  2004    win\n17     Obama  Democratic  52.9  2008    win\n19     Obama  Democratic  51.1  2012    win\n22     Trump  Republican  46.1  2016    win"
     },
     "execution_count": 21,
     "metadata": {},
     "output_type": "execute_result"
    }
   ],
   "source": [
    "elections[iswin]"
   ]
  },
  {
   "cell_type": "markdown",
   "metadata": {},
   "source": [
    "Above, we've assigned the result of the logical operator to a new variable called `iswin`. This is uncommon. Usually, the series is created and used on the same line. \n",
    "\n",
    "This syntax is a little tricky to read at first, but you'll get used to it quickly."
   ]
  },
  {
   "cell_type": "code",
   "execution_count": 22,
   "metadata": {},
   "outputs": [
    {
     "data": {
      "text/html": "<div>\n<style scoped>\n    .dataframe tbody tr th:only-of-type {\n        vertical-align: middle;\n    }\n\n    .dataframe tbody tr th {\n        vertical-align: top;\n    }\n\n    .dataframe thead th {\n        text-align: right;\n    }\n</style>\n<table border=\"1\" class=\"dataframe\">\n  <thead>\n    <tr style=\"text-align: right;\">\n      <th></th>\n      <th>Candidate</th>\n      <th>Party</th>\n      <th>%</th>\n      <th>Year</th>\n      <th>Result</th>\n    </tr>\n  </thead>\n  <tbody>\n    <tr>\n      <th>0</th>\n      <td>Reagan</td>\n      <td>Republican</td>\n      <td>50.7</td>\n      <td>1980</td>\n      <td>win</td>\n    </tr>\n    <tr>\n      <th>3</th>\n      <td>Reagan</td>\n      <td>Republican</td>\n      <td>58.8</td>\n      <td>1984</td>\n      <td>win</td>\n    </tr>\n    <tr>\n      <th>5</th>\n      <td>Bush</td>\n      <td>Republican</td>\n      <td>53.4</td>\n      <td>1988</td>\n      <td>win</td>\n    </tr>\n    <tr>\n      <th>7</th>\n      <td>Clinton</td>\n      <td>Democratic</td>\n      <td>43.0</td>\n      <td>1992</td>\n      <td>win</td>\n    </tr>\n    <tr>\n      <th>10</th>\n      <td>Clinton</td>\n      <td>Democratic</td>\n      <td>49.2</td>\n      <td>1996</td>\n      <td>win</td>\n    </tr>\n    <tr>\n      <th>14</th>\n      <td>Bush</td>\n      <td>Republican</td>\n      <td>47.9</td>\n      <td>2000</td>\n      <td>win</td>\n    </tr>\n    <tr>\n      <th>16</th>\n      <td>Bush</td>\n      <td>Republican</td>\n      <td>50.7</td>\n      <td>2004</td>\n      <td>win</td>\n    </tr>\n    <tr>\n      <th>17</th>\n      <td>Obama</td>\n      <td>Democratic</td>\n      <td>52.9</td>\n      <td>2008</td>\n      <td>win</td>\n    </tr>\n    <tr>\n      <th>19</th>\n      <td>Obama</td>\n      <td>Democratic</td>\n      <td>51.1</td>\n      <td>2012</td>\n      <td>win</td>\n    </tr>\n    <tr>\n      <th>22</th>\n      <td>Trump</td>\n      <td>Republican</td>\n      <td>46.1</td>\n      <td>2016</td>\n      <td>win</td>\n    </tr>\n  </tbody>\n</table>\n</div>",
      "text/plain": "   Candidate       Party     %  Year Result\n0     Reagan  Republican  50.7  1980    win\n3     Reagan  Republican  58.8  1984    win\n5       Bush  Republican  53.4  1988    win\n7    Clinton  Democratic  43.0  1992    win\n10   Clinton  Democratic  49.2  1996    win\n14      Bush  Republican  47.9  2000    win\n16      Bush  Republican  50.7  2004    win\n17     Obama  Democratic  52.9  2008    win\n19     Obama  Democratic  51.1  2012    win\n22     Trump  Republican  46.1  2016    win"
     },
     "execution_count": 22,
     "metadata": {},
     "output_type": "execute_result"
    }
   ],
   "source": [
    "elections[elections['Result'] == 'win']"
   ]
  },
  {
   "cell_type": "markdown",
   "metadata": {},
   "source": [
    "We can select multiple criteria by creating multiple boolean Series and combining them using the `&` operator."
   ]
  },
  {
   "cell_type": "code",
   "execution_count": 23,
   "metadata": {},
   "outputs": [],
   "source": [
    "win50plus = (elections['Result'] == 'win') & (elections['%'] < 50)"
   ]
  },
  {
   "cell_type": "code",
   "execution_count": 24,
   "metadata": {},
   "outputs": [
    {
     "data": {
      "text/plain": "0    False\n1    False\n2    False\n3    False\n4    False\ndtype: bool"
     },
     "execution_count": 24,
     "metadata": {},
     "output_type": "execute_result"
    }
   ],
   "source": [
    "win50plus.head(5)"
   ]
  },
  {
   "cell_type": "code",
   "execution_count": 25,
   "metadata": {
    "scrolled": true
   },
   "outputs": [
    {
     "data": {
      "text/html": "<div>\n<style scoped>\n    .dataframe tbody tr th:only-of-type {\n        vertical-align: middle;\n    }\n\n    .dataframe tbody tr th {\n        vertical-align: top;\n    }\n\n    .dataframe thead th {\n        text-align: right;\n    }\n</style>\n<table border=\"1\" class=\"dataframe\">\n  <thead>\n    <tr style=\"text-align: right;\">\n      <th></th>\n      <th>Candidate</th>\n      <th>Party</th>\n      <th>%</th>\n      <th>Year</th>\n      <th>Result</th>\n    </tr>\n  </thead>\n  <tbody>\n    <tr>\n      <th>7</th>\n      <td>Clinton</td>\n      <td>Democratic</td>\n      <td>43.0</td>\n      <td>1992</td>\n      <td>win</td>\n    </tr>\n    <tr>\n      <th>10</th>\n      <td>Clinton</td>\n      <td>Democratic</td>\n      <td>49.2</td>\n      <td>1996</td>\n      <td>win</td>\n    </tr>\n    <tr>\n      <th>14</th>\n      <td>Bush</td>\n      <td>Republican</td>\n      <td>47.9</td>\n      <td>2000</td>\n      <td>win</td>\n    </tr>\n    <tr>\n      <th>22</th>\n      <td>Trump</td>\n      <td>Republican</td>\n      <td>46.1</td>\n      <td>2016</td>\n      <td>win</td>\n    </tr>\n  </tbody>\n</table>\n</div>",
      "text/plain": "   Candidate       Party     %  Year Result\n7    Clinton  Democratic  43.0  1992    win\n10   Clinton  Democratic  49.2  1996    win\n14      Bush  Republican  47.9  2000    win\n22     Trump  Republican  46.1  2016    win"
     },
     "execution_count": 25,
     "metadata": {},
     "output_type": "execute_result"
    }
   ],
   "source": [
    "elections[(elections['Result'] == 'win') & (elections['%'] < 50)]\n"
   ]
  },
  {
   "cell_type": "markdown",
   "metadata": {},
   "source": [
    "The | operator is the symbol for or."
   ]
  },
  {
   "cell_type": "code",
   "execution_count": 26,
   "metadata": {},
   "outputs": [
    {
     "data": {
      "text/html": "<div>\n<style scoped>\n    .dataframe tbody tr th:only-of-type {\n        vertical-align: middle;\n    }\n\n    .dataframe tbody tr th {\n        vertical-align: top;\n    }\n\n    .dataframe thead th {\n        text-align: right;\n    }\n</style>\n<table border=\"1\" class=\"dataframe\">\n  <thead>\n    <tr style=\"text-align: right;\">\n      <th></th>\n      <th>Candidate</th>\n      <th>Party</th>\n      <th>%</th>\n      <th>Year</th>\n      <th>Result</th>\n    </tr>\n  </thead>\n  <tbody>\n    <tr>\n      <th>0</th>\n      <td>Reagan</td>\n      <td>Republican</td>\n      <td>50.7</td>\n      <td>1980</td>\n      <td>win</td>\n    </tr>\n    <tr>\n      <th>1</th>\n      <td>Carter</td>\n      <td>Democratic</td>\n      <td>41.0</td>\n      <td>1980</td>\n      <td>loss</td>\n    </tr>\n    <tr>\n      <th>3</th>\n      <td>Reagan</td>\n      <td>Republican</td>\n      <td>58.8</td>\n      <td>1984</td>\n      <td>win</td>\n    </tr>\n    <tr>\n      <th>4</th>\n      <td>Mondale</td>\n      <td>Democratic</td>\n      <td>37.6</td>\n      <td>1984</td>\n      <td>loss</td>\n    </tr>\n    <tr>\n      <th>5</th>\n      <td>Bush</td>\n      <td>Republican</td>\n      <td>53.4</td>\n      <td>1988</td>\n      <td>win</td>\n    </tr>\n    <tr>\n      <th>6</th>\n      <td>Dukakis</td>\n      <td>Democratic</td>\n      <td>45.6</td>\n      <td>1988</td>\n      <td>loss</td>\n    </tr>\n    <tr>\n      <th>7</th>\n      <td>Clinton</td>\n      <td>Democratic</td>\n      <td>43.0</td>\n      <td>1992</td>\n      <td>win</td>\n    </tr>\n    <tr>\n      <th>8</th>\n      <td>Bush</td>\n      <td>Republican</td>\n      <td>37.4</td>\n      <td>1992</td>\n      <td>loss</td>\n    </tr>\n    <tr>\n      <th>10</th>\n      <td>Clinton</td>\n      <td>Democratic</td>\n      <td>49.2</td>\n      <td>1996</td>\n      <td>win</td>\n    </tr>\n    <tr>\n      <th>11</th>\n      <td>Dole</td>\n      <td>Republican</td>\n      <td>40.7</td>\n      <td>1996</td>\n      <td>loss</td>\n    </tr>\n    <tr>\n      <th>13</th>\n      <td>Gore</td>\n      <td>Democratic</td>\n      <td>48.4</td>\n      <td>2000</td>\n      <td>loss</td>\n    </tr>\n    <tr>\n      <th>14</th>\n      <td>Bush</td>\n      <td>Republican</td>\n      <td>47.9</td>\n      <td>2000</td>\n      <td>win</td>\n    </tr>\n    <tr>\n      <th>15</th>\n      <td>Kerry</td>\n      <td>Democratic</td>\n      <td>48.3</td>\n      <td>2004</td>\n      <td>loss</td>\n    </tr>\n    <tr>\n      <th>16</th>\n      <td>Bush</td>\n      <td>Republican</td>\n      <td>50.7</td>\n      <td>2004</td>\n      <td>win</td>\n    </tr>\n    <tr>\n      <th>17</th>\n      <td>Obama</td>\n      <td>Democratic</td>\n      <td>52.9</td>\n      <td>2008</td>\n      <td>win</td>\n    </tr>\n    <tr>\n      <th>18</th>\n      <td>McCain</td>\n      <td>Republican</td>\n      <td>45.7</td>\n      <td>2008</td>\n      <td>loss</td>\n    </tr>\n    <tr>\n      <th>19</th>\n      <td>Obama</td>\n      <td>Democratic</td>\n      <td>51.1</td>\n      <td>2012</td>\n      <td>win</td>\n    </tr>\n    <tr>\n      <th>20</th>\n      <td>Romney</td>\n      <td>Republican</td>\n      <td>47.2</td>\n      <td>2012</td>\n      <td>loss</td>\n    </tr>\n    <tr>\n      <th>21</th>\n      <td>Clinton</td>\n      <td>Democratic</td>\n      <td>48.2</td>\n      <td>2016</td>\n      <td>loss</td>\n    </tr>\n    <tr>\n      <th>22</th>\n      <td>Trump</td>\n      <td>Republican</td>\n      <td>46.1</td>\n      <td>2016</td>\n      <td>win</td>\n    </tr>\n  </tbody>\n</table>\n</div>",
      "text/plain": "   Candidate       Party     %  Year Result\n0     Reagan  Republican  50.7  1980    win\n1     Carter  Democratic  41.0  1980   loss\n3     Reagan  Republican  58.8  1984    win\n4    Mondale  Democratic  37.6  1984   loss\n5       Bush  Republican  53.4  1988    win\n6    Dukakis  Democratic  45.6  1988   loss\n7    Clinton  Democratic  43.0  1992    win\n8       Bush  Republican  37.4  1992   loss\n10   Clinton  Democratic  49.2  1996    win\n11      Dole  Republican  40.7  1996   loss\n13      Gore  Democratic  48.4  2000   loss\n14      Bush  Republican  47.9  2000    win\n15     Kerry  Democratic  48.3  2004   loss\n16      Bush  Republican  50.7  2004    win\n17     Obama  Democratic  52.9  2008    win\n18    McCain  Republican  45.7  2008   loss\n19     Obama  Democratic  51.1  2012    win\n20    Romney  Republican  47.2  2012   loss\n21   Clinton  Democratic  48.2  2016   loss\n22     Trump  Republican  46.1  2016    win"
     },
     "execution_count": 26,
     "metadata": {},
     "output_type": "execute_result"
    }
   ],
   "source": [
    "elections[(elections['Party'] == 'Republican')\n",
    "          | (elections['Party'] == \"Democratic\")]"
   ]
  },
  {
   "cell_type": "markdown",
   "metadata": {},
   "source": [
    "If we have multiple conditions (say Republican or Democratic), we can use the isin operator to simplify our code."
   ]
  },
  {
   "cell_type": "code",
   "execution_count": 27,
   "metadata": {},
   "outputs": [
    {
     "data": {
      "text/plain": "0      True\n1      True\n2     False\n3      True\n4      True\n5      True\n6      True\n7      True\n8      True\n9     False\n10     True\n11     True\n12    False\n13     True\n14     True\n15     True\n16     True\n17     True\n18     True\n19     True\n20     True\n21     True\n22     True\nName: Party, dtype: bool"
     },
     "execution_count": 27,
     "metadata": {},
     "output_type": "execute_result"
    }
   ],
   "source": [
    "elections['Party'].isin([\"Republican\", \"Democratic\"])"
   ]
  },
  {
   "cell_type": "code",
   "execution_count": 28,
   "metadata": {},
   "outputs": [
    {
     "data": {
      "text/html": "<div>\n<style scoped>\n    .dataframe tbody tr th:only-of-type {\n        vertical-align: middle;\n    }\n\n    .dataframe tbody tr th {\n        vertical-align: top;\n    }\n\n    .dataframe thead th {\n        text-align: right;\n    }\n</style>\n<table border=\"1\" class=\"dataframe\">\n  <thead>\n    <tr style=\"text-align: right;\">\n      <th></th>\n      <th>Candidate</th>\n      <th>Party</th>\n      <th>%</th>\n      <th>Year</th>\n      <th>Result</th>\n    </tr>\n  </thead>\n  <tbody>\n    <tr>\n      <th>0</th>\n      <td>Reagan</td>\n      <td>Republican</td>\n      <td>50.7</td>\n      <td>1980</td>\n      <td>win</td>\n    </tr>\n    <tr>\n      <th>1</th>\n      <td>Carter</td>\n      <td>Democratic</td>\n      <td>41.0</td>\n      <td>1980</td>\n      <td>loss</td>\n    </tr>\n    <tr>\n      <th>3</th>\n      <td>Reagan</td>\n      <td>Republican</td>\n      <td>58.8</td>\n      <td>1984</td>\n      <td>win</td>\n    </tr>\n    <tr>\n      <th>4</th>\n      <td>Mondale</td>\n      <td>Democratic</td>\n      <td>37.6</td>\n      <td>1984</td>\n      <td>loss</td>\n    </tr>\n    <tr>\n      <th>5</th>\n      <td>Bush</td>\n      <td>Republican</td>\n      <td>53.4</td>\n      <td>1988</td>\n      <td>win</td>\n    </tr>\n    <tr>\n      <th>6</th>\n      <td>Dukakis</td>\n      <td>Democratic</td>\n      <td>45.6</td>\n      <td>1988</td>\n      <td>loss</td>\n    </tr>\n    <tr>\n      <th>7</th>\n      <td>Clinton</td>\n      <td>Democratic</td>\n      <td>43.0</td>\n      <td>1992</td>\n      <td>win</td>\n    </tr>\n    <tr>\n      <th>8</th>\n      <td>Bush</td>\n      <td>Republican</td>\n      <td>37.4</td>\n      <td>1992</td>\n      <td>loss</td>\n    </tr>\n    <tr>\n      <th>10</th>\n      <td>Clinton</td>\n      <td>Democratic</td>\n      <td>49.2</td>\n      <td>1996</td>\n      <td>win</td>\n    </tr>\n    <tr>\n      <th>11</th>\n      <td>Dole</td>\n      <td>Republican</td>\n      <td>40.7</td>\n      <td>1996</td>\n      <td>loss</td>\n    </tr>\n    <tr>\n      <th>13</th>\n      <td>Gore</td>\n      <td>Democratic</td>\n      <td>48.4</td>\n      <td>2000</td>\n      <td>loss</td>\n    </tr>\n    <tr>\n      <th>14</th>\n      <td>Bush</td>\n      <td>Republican</td>\n      <td>47.9</td>\n      <td>2000</td>\n      <td>win</td>\n    </tr>\n    <tr>\n      <th>15</th>\n      <td>Kerry</td>\n      <td>Democratic</td>\n      <td>48.3</td>\n      <td>2004</td>\n      <td>loss</td>\n    </tr>\n    <tr>\n      <th>16</th>\n      <td>Bush</td>\n      <td>Republican</td>\n      <td>50.7</td>\n      <td>2004</td>\n      <td>win</td>\n    </tr>\n    <tr>\n      <th>17</th>\n      <td>Obama</td>\n      <td>Democratic</td>\n      <td>52.9</td>\n      <td>2008</td>\n      <td>win</td>\n    </tr>\n    <tr>\n      <th>18</th>\n      <td>McCain</td>\n      <td>Republican</td>\n      <td>45.7</td>\n      <td>2008</td>\n      <td>loss</td>\n    </tr>\n    <tr>\n      <th>19</th>\n      <td>Obama</td>\n      <td>Democratic</td>\n      <td>51.1</td>\n      <td>2012</td>\n      <td>win</td>\n    </tr>\n    <tr>\n      <th>20</th>\n      <td>Romney</td>\n      <td>Republican</td>\n      <td>47.2</td>\n      <td>2012</td>\n      <td>loss</td>\n    </tr>\n    <tr>\n      <th>21</th>\n      <td>Clinton</td>\n      <td>Democratic</td>\n      <td>48.2</td>\n      <td>2016</td>\n      <td>loss</td>\n    </tr>\n    <tr>\n      <th>22</th>\n      <td>Trump</td>\n      <td>Republican</td>\n      <td>46.1</td>\n      <td>2016</td>\n      <td>win</td>\n    </tr>\n  </tbody>\n</table>\n</div>",
      "text/plain": "   Candidate       Party     %  Year Result\n0     Reagan  Republican  50.7  1980    win\n1     Carter  Democratic  41.0  1980   loss\n3     Reagan  Republican  58.8  1984    win\n4    Mondale  Democratic  37.6  1984   loss\n5       Bush  Republican  53.4  1988    win\n6    Dukakis  Democratic  45.6  1988   loss\n7    Clinton  Democratic  43.0  1992    win\n8       Bush  Republican  37.4  1992   loss\n10   Clinton  Democratic  49.2  1996    win\n11      Dole  Republican  40.7  1996   loss\n13      Gore  Democratic  48.4  2000   loss\n14      Bush  Republican  47.9  2000    win\n15     Kerry  Democratic  48.3  2004   loss\n16      Bush  Republican  50.7  2004    win\n17     Obama  Democratic  52.9  2008    win\n18    McCain  Republican  45.7  2008   loss\n19     Obama  Democratic  51.1  2012    win\n20    Romney  Republican  47.2  2012   loss\n21   Clinton  Democratic  48.2  2016   loss\n22     Trump  Republican  46.1  2016    win"
     },
     "execution_count": 28,
     "metadata": {},
     "output_type": "execute_result"
    }
   ],
   "source": [
    "elections[elections['Party'].isin([\"Republican\", \"Democratic\"])]"
   ]
  },
  {
   "cell_type": "markdown",
   "metadata": {},
   "source": [
    "An alternate simpler way to get back a specific set of rows is to use the `query` command."
   ]
  },
  {
   "cell_type": "code",
   "execution_count": 29,
   "metadata": {},
   "outputs": [
    {
     "name": "stdout",
     "output_type": "stream",
     "text": [
      "\u001b[0;31mSignature:\u001b[0m \u001b[0melections\u001b[0m\u001b[0;34m.\u001b[0m\u001b[0mquery\u001b[0m\u001b[0;34m(\u001b[0m\u001b[0mexpr\u001b[0m\u001b[0;34m:\u001b[0m \u001b[0;34m'str'\u001b[0m\u001b[0;34m,\u001b[0m \u001b[0minplace\u001b[0m\u001b[0;34m:\u001b[0m \u001b[0;34m'bool'\u001b[0m \u001b[0;34m=\u001b[0m \u001b[0;32mFalse\u001b[0m\u001b[0;34m,\u001b[0m \u001b[0;34m**\u001b[0m\u001b[0mkwargs\u001b[0m\u001b[0;34m)\u001b[0m\u001b[0;34m\u001b[0m\u001b[0;34m\u001b[0m\u001b[0m\n",
      "\u001b[0;31mDocstring:\u001b[0m\n",
      "Query the columns of a DataFrame with a boolean expression.\n",
      "\n",
      "Parameters\n",
      "----------\n",
      "expr : str\n",
      "    The query string to evaluate.\n",
      "\n",
      "    You can refer to variables\n",
      "    in the environment by prefixing them with an '@' character like\n",
      "    ``@a + b``.\n",
      "\n",
      "    You can refer to column names that are not valid Python variable names\n",
      "    by surrounding them in backticks. Thus, column names containing spaces\n",
      "    or punctuations (besides underscores) or starting with digits must be\n",
      "    surrounded by backticks. (For example, a column named \"Area (cm^2)\" would\n",
      "    be referenced as ```Area (cm^2)```). Column names which are Python keywords\n",
      "    (like \"list\", \"for\", \"import\", etc) cannot be used.\n",
      "\n",
      "    For example, if one of your columns is called ``a a`` and you want\n",
      "    to sum it with ``b``, your query should be ```a a` + b``.\n",
      "\n",
      "    .. versionadded:: 0.25.0\n",
      "        Backtick quoting introduced.\n",
      "\n",
      "    .. versionadded:: 1.0.0\n",
      "        Expanding functionality of backtick quoting for more than only spaces.\n",
      "\n",
      "inplace : bool\n",
      "    Whether the query should modify the data in place or return\n",
      "    a modified copy.\n",
      "**kwargs\n",
      "    See the documentation for :func:`eval` for complete details\n",
      "    on the keyword arguments accepted by :meth:`DataFrame.query`.\n",
      "\n",
      "Returns\n",
      "-------\n",
      "DataFrame or None\n",
      "    DataFrame resulting from the provided query expression or\n",
      "    None if ``inplace=True``.\n",
      "\n",
      "See Also\n",
      "--------\n",
      "eval : Evaluate a string describing operations on\n",
      "    DataFrame columns.\n",
      "DataFrame.eval : Evaluate a string describing operations on\n",
      "    DataFrame columns.\n",
      "\n",
      "Notes\n",
      "-----\n",
      "The result of the evaluation of this expression is first passed to\n",
      ":attr:`DataFrame.loc` and if that fails because of a\n",
      "multidimensional key (e.g., a DataFrame) then the result will be passed\n",
      "to :meth:`DataFrame.__getitem__`.\n",
      "\n",
      "This method uses the top-level :func:`eval` function to\n",
      "evaluate the passed query.\n",
      "\n",
      "The :meth:`~pandas.DataFrame.query` method uses a slightly\n",
      "modified Python syntax by default. For example, the ``&`` and ``|``\n",
      "(bitwise) operators have the precedence of their boolean cousins,\n",
      ":keyword:`and` and :keyword:`or`. This *is* syntactically valid Python,\n",
      "however the semantics are different.\n",
      "\n",
      "You can change the semantics of the expression by passing the keyword\n",
      "argument ``parser='python'``. This enforces the same semantics as\n",
      "evaluation in Python space. Likewise, you can pass ``engine='python'``\n",
      "to evaluate an expression using Python itself as a backend. This is not\n",
      "recommended as it is inefficient compared to using ``numexpr`` as the\n",
      "engine.\n",
      "\n",
      "The :attr:`DataFrame.index` and\n",
      ":attr:`DataFrame.columns` attributes of the\n",
      ":class:`~pandas.DataFrame` instance are placed in the query namespace\n",
      "by default, which allows you to treat both the index and columns of the\n",
      "frame as a column in the frame.\n",
      "The identifier ``index`` is used for the frame index; you can also\n",
      "use the name of the index to identify it in a query. Please note that\n",
      "Python keywords may not be used as identifiers.\n",
      "\n",
      "For further details and examples see the ``query`` documentation in\n",
      ":ref:`indexing <indexing.query>`.\n",
      "\n",
      "*Backtick quoted variables*\n",
      "\n",
      "Backtick quoted variables are parsed as literal Python code and\n",
      "are converted internally to a Python valid identifier.\n",
      "This can lead to the following problems.\n",
      "\n",
      "During parsing a number of disallowed characters inside the backtick\n",
      "quoted string are replaced by strings that are allowed as a Python identifier.\n",
      "These characters include all operators in Python, the space character, the\n",
      "question mark, the exclamation mark, the dollar sign, and the euro sign.\n",
      "For other characters that fall outside the ASCII range (U+0001..U+007F)\n",
      "and those that are not further specified in PEP 3131,\n",
      "the query parser will raise an error.\n",
      "This excludes whitespace different than the space character,\n",
      "but also the hashtag (as it is used for comments) and the backtick\n",
      "itself (backtick can also not be escaped).\n",
      "\n",
      "In a special case, quotes that make a pair around a backtick can\n",
      "confuse the parser.\n",
      "For example, ```it's` > `that's``` will raise an error,\n",
      "as it forms a quoted string (``'s > `that'``) with a backtick inside.\n",
      "\n",
      "See also the Python documentation about lexical analysis\n",
      "(https://docs.python.org/3/reference/lexical_analysis.html)\n",
      "in combination with the source code in :mod:`pandas.core.computation.parsing`.\n",
      "\n",
      "Examples\n",
      "--------\n",
      ">>> df = pd.DataFrame({'A': range(1, 6),\n",
      "...                    'B': range(10, 0, -2),\n",
      "...                    'C C': range(10, 5, -1)})\n",
      ">>> df\n",
      "   A   B  C C\n",
      "0  1  10   10\n",
      "1  2   8    9\n",
      "2  3   6    8\n",
      "3  4   4    7\n",
      "4  5   2    6\n",
      ">>> df.query('A > B')\n",
      "   A  B  C C\n",
      "4  5  2    6\n",
      "\n",
      "The previous expression is equivalent to\n",
      "\n",
      ">>> df[df.A > df.B]\n",
      "   A  B  C C\n",
      "4  5  2    6\n",
      "\n",
      "For columns with spaces in their name, you can use backtick quoting.\n",
      "\n",
      ">>> df.query('B == `C C`')\n",
      "   A   B  C C\n",
      "0  1  10   10\n",
      "\n",
      "The previous expression is equivalent to\n",
      "\n",
      ">>> df[df.B == df['C C']]\n",
      "   A   B  C C\n",
      "0  1  10   10\n",
      "\u001b[0;31mFile:\u001b[0m      ~/opt/anaconda3/envs/jmaJupyterPy38/lib/python3.8/site-packages/pandas/core/frame.py\n",
      "\u001b[0;31mType:\u001b[0m      method\n"
     ]
    }
   ],
   "source": [
    "elections.query?"
   ]
  },
  {
   "cell_type": "code",
   "execution_count": 30,
   "metadata": {},
   "outputs": [
    {
     "data": {
      "text/html": "<div>\n<style scoped>\n    .dataframe tbody tr th:only-of-type {\n        vertical-align: middle;\n    }\n\n    .dataframe tbody tr th {\n        vertical-align: top;\n    }\n\n    .dataframe thead th {\n        text-align: right;\n    }\n</style>\n<table border=\"1\" class=\"dataframe\">\n  <thead>\n    <tr style=\"text-align: right;\">\n      <th></th>\n      <th>Candidate</th>\n      <th>Party</th>\n      <th>%</th>\n      <th>Year</th>\n      <th>Result</th>\n    </tr>\n  </thead>\n  <tbody>\n    <tr>\n      <th>0</th>\n      <td>Reagan</td>\n      <td>Republican</td>\n      <td>50.7</td>\n      <td>1980</td>\n      <td>win</td>\n    </tr>\n    <tr>\n      <th>3</th>\n      <td>Reagan</td>\n      <td>Republican</td>\n      <td>58.8</td>\n      <td>1984</td>\n      <td>win</td>\n    </tr>\n    <tr>\n      <th>5</th>\n      <td>Bush</td>\n      <td>Republican</td>\n      <td>53.4</td>\n      <td>1988</td>\n      <td>win</td>\n    </tr>\n    <tr>\n      <th>7</th>\n      <td>Clinton</td>\n      <td>Democratic</td>\n      <td>43.0</td>\n      <td>1992</td>\n      <td>win</td>\n    </tr>\n    <tr>\n      <th>10</th>\n      <td>Clinton</td>\n      <td>Democratic</td>\n      <td>49.2</td>\n      <td>1996</td>\n      <td>win</td>\n    </tr>\n  </tbody>\n</table>\n</div>",
      "text/plain": "   Candidate       Party     %  Year Result\n0     Reagan  Republican  50.7  1980    win\n3     Reagan  Republican  58.8  1984    win\n5       Bush  Republican  53.4  1988    win\n7    Clinton  Democratic  43.0  1992    win\n10   Clinton  Democratic  49.2  1996    win"
     },
     "execution_count": 30,
     "metadata": {},
     "output_type": "execute_result"
    }
   ],
   "source": [
    "elections.query(\"Result == 'win' and Year < 2000\")"
   ]
  },
  {
   "cell_type": "markdown",
   "metadata": {},
   "source": [
    "## Label-based access with `loc`"
   ]
  },
  {
   "cell_type": "code",
   "execution_count": 31,
   "metadata": {},
   "outputs": [
    {
     "data": {
      "text/html": "<div>\n<style scoped>\n    .dataframe tbody tr th:only-of-type {\n        vertical-align: middle;\n    }\n\n    .dataframe tbody tr th {\n        vertical-align: top;\n    }\n\n    .dataframe thead th {\n        text-align: right;\n    }\n</style>\n<table border=\"1\" class=\"dataframe\">\n  <thead>\n    <tr style=\"text-align: right;\">\n      <th></th>\n      <th>Candidate</th>\n      <th>Party</th>\n      <th>%</th>\n      <th>Year</th>\n      <th>Result</th>\n    </tr>\n  </thead>\n  <tbody>\n    <tr>\n      <th>0</th>\n      <td>Reagan</td>\n      <td>Republican</td>\n      <td>50.7</td>\n      <td>1980</td>\n      <td>win</td>\n    </tr>\n    <tr>\n      <th>1</th>\n      <td>Carter</td>\n      <td>Democratic</td>\n      <td>41.0</td>\n      <td>1980</td>\n      <td>loss</td>\n    </tr>\n    <tr>\n      <th>2</th>\n      <td>Anderson</td>\n      <td>Independent</td>\n      <td>6.6</td>\n      <td>1980</td>\n      <td>loss</td>\n    </tr>\n    <tr>\n      <th>3</th>\n      <td>Reagan</td>\n      <td>Republican</td>\n      <td>58.8</td>\n      <td>1984</td>\n      <td>win</td>\n    </tr>\n    <tr>\n      <th>4</th>\n      <td>Mondale</td>\n      <td>Democratic</td>\n      <td>37.6</td>\n      <td>1984</td>\n      <td>loss</td>\n    </tr>\n  </tbody>\n</table>\n</div>",
      "text/plain": "  Candidate        Party     %  Year Result\n0    Reagan   Republican  50.7  1980    win\n1    Carter   Democratic  41.0  1980   loss\n2  Anderson  Independent   6.6  1980   loss\n3    Reagan   Republican  58.8  1984    win\n4   Mondale   Democratic  37.6  1984   loss"
     },
     "execution_count": 31,
     "metadata": {},
     "output_type": "execute_result"
    }
   ],
   "source": [
    "elections.head(5)"
   ]
  },
  {
   "cell_type": "code",
   "execution_count": 32,
   "metadata": {},
   "outputs": [
    {
     "data": {
      "text/html": "<div>\n<style scoped>\n    .dataframe tbody tr th:only-of-type {\n        vertical-align: middle;\n    }\n\n    .dataframe tbody tr th {\n        vertical-align: top;\n    }\n\n    .dataframe thead th {\n        text-align: right;\n    }\n</style>\n<table border=\"1\" class=\"dataframe\">\n  <thead>\n    <tr style=\"text-align: right;\">\n      <th></th>\n      <th>Candidate</th>\n      <th>Party</th>\n      <th>Year</th>\n    </tr>\n  </thead>\n  <tbody>\n    <tr>\n      <th>0</th>\n      <td>Reagan</td>\n      <td>Republican</td>\n      <td>1980</td>\n    </tr>\n    <tr>\n      <th>1</th>\n      <td>Carter</td>\n      <td>Democratic</td>\n      <td>1980</td>\n    </tr>\n    <tr>\n      <th>2</th>\n      <td>Anderson</td>\n      <td>Independent</td>\n      <td>1980</td>\n    </tr>\n    <tr>\n      <th>3</th>\n      <td>Reagan</td>\n      <td>Republican</td>\n      <td>1984</td>\n    </tr>\n    <tr>\n      <th>4</th>\n      <td>Mondale</td>\n      <td>Democratic</td>\n      <td>1984</td>\n    </tr>\n  </tbody>\n</table>\n</div>",
      "text/plain": "  Candidate        Party  Year\n0    Reagan   Republican  1980\n1    Carter   Democratic  1980\n2  Anderson  Independent  1980\n3    Reagan   Republican  1984\n4   Mondale   Democratic  1984"
     },
     "execution_count": 32,
     "metadata": {},
     "output_type": "execute_result"
    }
   ],
   "source": [
    "elections.loc[[0, 1, 2, 3, 4], ['Candidate','Party', 'Year']]"
   ]
  },
  {
   "cell_type": "markdown",
   "metadata": {},
   "source": [
    "## Warning here.  \n",
    "\n",
    "\n",
    "We didn't do it above.  But it's possible to use names for rows as well as columns.  \n",
    "\n",
    "Note: The `loc` command won't work with numeric arguments if we're using a dataframe that has labeled rows instead.\n"
   ]
  },
  {
   "cell_type": "markdown",
   "metadata": {},
   "source": [
    "Loc also supports slicing (for all types, including numeric and string labels!). Note that the slicing for loc is **inclusive**, even for numeric slices."
   ]
  },
  {
   "cell_type": "code",
   "execution_count": 33,
   "metadata": {
    "scrolled": true
   },
   "outputs": [
    {
     "data": {
      "text/html": "<div>\n<style scoped>\n    .dataframe tbody tr th:only-of-type {\n        vertical-align: middle;\n    }\n\n    .dataframe tbody tr th {\n        vertical-align: top;\n    }\n\n    .dataframe thead th {\n        text-align: right;\n    }\n</style>\n<table border=\"1\" class=\"dataframe\">\n  <thead>\n    <tr style=\"text-align: right;\">\n      <th></th>\n      <th>Candidate</th>\n      <th>Party</th>\n      <th>%</th>\n      <th>Year</th>\n    </tr>\n  </thead>\n  <tbody>\n    <tr>\n      <th>0</th>\n      <td>Reagan</td>\n      <td>Republican</td>\n      <td>50.7</td>\n      <td>1980</td>\n    </tr>\n    <tr>\n      <th>1</th>\n      <td>Carter</td>\n      <td>Democratic</td>\n      <td>41.0</td>\n      <td>1980</td>\n    </tr>\n    <tr>\n      <th>2</th>\n      <td>Anderson</td>\n      <td>Independent</td>\n      <td>6.6</td>\n      <td>1980</td>\n    </tr>\n    <tr>\n      <th>3</th>\n      <td>Reagan</td>\n      <td>Republican</td>\n      <td>58.8</td>\n      <td>1984</td>\n    </tr>\n    <tr>\n      <th>4</th>\n      <td>Mondale</td>\n      <td>Democratic</td>\n      <td>37.6</td>\n      <td>1984</td>\n    </tr>\n  </tbody>\n</table>\n</div>",
      "text/plain": "  Candidate        Party     %  Year\n0    Reagan   Republican  50.7  1980\n1    Carter   Democratic  41.0  1980\n2  Anderson  Independent   6.6  1980\n3    Reagan   Republican  58.8  1984\n4   Mondale   Democratic  37.6  1984"
     },
     "execution_count": 33,
     "metadata": {},
     "output_type": "execute_result"
    }
   ],
   "source": [
    "elections.loc[0:4, 'Candidate':'Year']"
   ]
  },
  {
   "cell_type": "markdown",
   "metadata": {},
   "source": [
    "If we omit the column argument altogether, the default behavior is to retrieve all columns. "
   ]
  },
  {
   "cell_type": "code",
   "execution_count": 34,
   "metadata": {},
   "outputs": [
    {
     "data": {
      "text/html": "<div>\n<style scoped>\n    .dataframe tbody tr th:only-of-type {\n        vertical-align: middle;\n    }\n\n    .dataframe tbody tr th {\n        vertical-align: top;\n    }\n\n    .dataframe thead th {\n        text-align: right;\n    }\n</style>\n<table border=\"1\" class=\"dataframe\">\n  <thead>\n    <tr style=\"text-align: right;\">\n      <th></th>\n      <th>Candidate</th>\n      <th>Party</th>\n      <th>%</th>\n      <th>Year</th>\n      <th>Result</th>\n    </tr>\n  </thead>\n  <tbody>\n    <tr>\n      <th>2</th>\n      <td>Anderson</td>\n      <td>Independent</td>\n      <td>6.6</td>\n      <td>1980</td>\n      <td>loss</td>\n    </tr>\n    <tr>\n      <th>4</th>\n      <td>Mondale</td>\n      <td>Democratic</td>\n      <td>37.6</td>\n      <td>1984</td>\n      <td>loss</td>\n    </tr>\n    <tr>\n      <th>5</th>\n      <td>Bush</td>\n      <td>Republican</td>\n      <td>53.4</td>\n      <td>1988</td>\n      <td>win</td>\n    </tr>\n  </tbody>\n</table>\n</div>",
      "text/plain": "  Candidate        Party     %  Year Result\n2  Anderson  Independent   6.6  1980   loss\n4   Mondale   Democratic  37.6  1984   loss\n5      Bush   Republican  53.4  1988    win"
     },
     "execution_count": 34,
     "metadata": {},
     "output_type": "execute_result"
    }
   ],
   "source": [
    "elections.loc[[2, 4, 5]]"
   ]
  },
  {
   "cell_type": "markdown",
   "metadata": {},
   "source": [
    "Loc also supports boolean array inputs instead of labels. The Boolean arrays _must_ be of the same length as the row/column shape of the dataframe, respectively (in versions prior to 0.25, Pandas used to allow size mismatches and would assume the missing values were all False, [this was changed in 2019](https://github.com/pandas-dev/pandas/pull/26911))."
   ]
  },
  {
   "cell_type": "code",
   "execution_count": 35,
   "metadata": {},
   "outputs": [
    {
     "data": {
      "text/html": "<div>\n<style scoped>\n    .dataframe tbody tr th:only-of-type {\n        vertical-align: middle;\n    }\n\n    .dataframe tbody tr th {\n        vertical-align: top;\n    }\n\n    .dataframe thead th {\n        text-align: right;\n    }\n</style>\n<table border=\"1\" class=\"dataframe\">\n  <thead>\n    <tr style=\"text-align: right;\">\n      <th></th>\n      <th>Candidate</th>\n      <th>Year</th>\n      <th>Result</th>\n    </tr>\n  </thead>\n  <tbody>\n    <tr>\n      <th>0</th>\n      <td>Reagan</td>\n      <td>1980</td>\n      <td>win</td>\n    </tr>\n    <tr>\n      <th>3</th>\n      <td>Reagan</td>\n      <td>1984</td>\n      <td>win</td>\n    </tr>\n    <tr>\n      <th>6</th>\n      <td>Dukakis</td>\n      <td>1988</td>\n      <td>loss</td>\n    </tr>\n    <tr>\n      <th>7</th>\n      <td>Clinton</td>\n      <td>1992</td>\n      <td>win</td>\n    </tr>\n    <tr>\n      <th>8</th>\n      <td>Bush</td>\n      <td>1992</td>\n      <td>loss</td>\n    </tr>\n    <tr>\n      <th>11</th>\n      <td>Dole</td>\n      <td>1996</td>\n      <td>loss</td>\n    </tr>\n    <tr>\n      <th>12</th>\n      <td>Perot</td>\n      <td>1996</td>\n      <td>loss</td>\n    </tr>\n    <tr>\n      <th>13</th>\n      <td>Gore</td>\n      <td>2000</td>\n      <td>loss</td>\n    </tr>\n    <tr>\n      <th>15</th>\n      <td>Kerry</td>\n      <td>2004</td>\n      <td>loss</td>\n    </tr>\n    <tr>\n      <th>16</th>\n      <td>Bush</td>\n      <td>2004</td>\n      <td>win</td>\n    </tr>\n    <tr>\n      <th>20</th>\n      <td>Romney</td>\n      <td>2012</td>\n      <td>loss</td>\n    </tr>\n  </tbody>\n</table>\n</div>",
      "text/plain": "   Candidate  Year Result\n0     Reagan  1980    win\n3     Reagan  1984    win\n6    Dukakis  1988   loss\n7    Clinton  1992    win\n8       Bush  1992   loss\n11      Dole  1996   loss\n12     Perot  1996   loss\n13      Gore  2000   loss\n15     Kerry  2004   loss\n16      Bush  2004    win\n20    Romney  2012   loss"
     },
     "execution_count": 35,
     "metadata": {},
     "output_type": "execute_result"
    }
   ],
   "source": [
    "elections.loc[[True, False, False, True, False, False, True, True, True, False, False, True, \n",
    "               True, True, False, True, True, False, False, False, True, False, False], # row mask\n",
    "              [True, False, False, True, True] # column mask\n",
    "             ]"
   ]
  },
  {
   "cell_type": "code",
   "execution_count": 36,
   "metadata": {
    "scrolled": true
   },
   "outputs": [
    {
     "data": {
      "text/html": "<div>\n<style scoped>\n    .dataframe tbody tr th:only-of-type {\n        vertical-align: middle;\n    }\n\n    .dataframe tbody tr th {\n        vertical-align: top;\n    }\n\n    .dataframe thead th {\n        text-align: right;\n    }\n</style>\n<table border=\"1\" class=\"dataframe\">\n  <thead>\n    <tr style=\"text-align: right;\">\n      <th></th>\n      <th>Candidate</th>\n      <th>Year</th>\n    </tr>\n  </thead>\n  <tbody>\n    <tr>\n      <th>0</th>\n      <td>Reagan</td>\n      <td>1980</td>\n    </tr>\n    <tr>\n      <th>3</th>\n      <td>Reagan</td>\n      <td>1984</td>\n    </tr>\n  </tbody>\n</table>\n</div>",
      "text/plain": "  Candidate  Year\n0    Reagan  1980\n3    Reagan  1984"
     },
     "execution_count": 36,
     "metadata": {},
     "output_type": "execute_result"
    }
   ],
   "source": [
    "elections.loc[[0, 3], ['Candidate', 'Year']]"
   ]
  },
  {
   "cell_type": "markdown",
   "metadata": {},
   "source": [
    "We can use boolean array arguments for one axis of the data, and labels for the other."
   ]
  },
  {
   "cell_type": "code",
   "execution_count": 37,
   "metadata": {},
   "outputs": [
    {
     "data": {
      "text/html": "<div>\n<style scoped>\n    .dataframe tbody tr th:only-of-type {\n        vertical-align: middle;\n    }\n\n    .dataframe tbody tr th {\n        vertical-align: top;\n    }\n\n    .dataframe thead th {\n        text-align: right;\n    }\n</style>\n<table border=\"1\" class=\"dataframe\">\n  <thead>\n    <tr style=\"text-align: right;\">\n      <th></th>\n      <th>Candidate</th>\n      <th>Party</th>\n      <th>%</th>\n    </tr>\n  </thead>\n  <tbody>\n    <tr>\n      <th>0</th>\n      <td>Reagan</td>\n      <td>Republican</td>\n      <td>50.7</td>\n    </tr>\n    <tr>\n      <th>3</th>\n      <td>Reagan</td>\n      <td>Republican</td>\n      <td>58.8</td>\n    </tr>\n    <tr>\n      <th>6</th>\n      <td>Dukakis</td>\n      <td>Democratic</td>\n      <td>45.6</td>\n    </tr>\n    <tr>\n      <th>7</th>\n      <td>Clinton</td>\n      <td>Democratic</td>\n      <td>43.0</td>\n    </tr>\n    <tr>\n      <th>8</th>\n      <td>Bush</td>\n      <td>Republican</td>\n      <td>37.4</td>\n    </tr>\n    <tr>\n      <th>11</th>\n      <td>Dole</td>\n      <td>Republican</td>\n      <td>40.7</td>\n    </tr>\n    <tr>\n      <th>12</th>\n      <td>Perot</td>\n      <td>Independent</td>\n      <td>8.4</td>\n    </tr>\n    <tr>\n      <th>13</th>\n      <td>Gore</td>\n      <td>Democratic</td>\n      <td>48.4</td>\n    </tr>\n    <tr>\n      <th>15</th>\n      <td>Kerry</td>\n      <td>Democratic</td>\n      <td>48.3</td>\n    </tr>\n    <tr>\n      <th>16</th>\n      <td>Bush</td>\n      <td>Republican</td>\n      <td>50.7</td>\n    </tr>\n    <tr>\n      <th>20</th>\n      <td>Romney</td>\n      <td>Republican</td>\n      <td>47.2</td>\n    </tr>\n  </tbody>\n</table>\n</div>",
      "text/plain": "   Candidate        Party     %\n0     Reagan   Republican  50.7\n3     Reagan   Republican  58.8\n6    Dukakis   Democratic  45.6\n7    Clinton   Democratic  43.0\n8       Bush   Republican  37.4\n11      Dole   Republican  40.7\n12     Perot  Independent   8.4\n13      Gore   Democratic  48.4\n15     Kerry   Democratic  48.3\n16      Bush   Republican  50.7\n20    Romney   Republican  47.2"
     },
     "execution_count": 37,
     "metadata": {},
     "output_type": "execute_result"
    }
   ],
   "source": [
    "elections.loc[[True, False, False, True, False, False, True, True, True, False, False, True, \n",
    "               True, True, False, True, True, False, False, False, True, False, False], # row mask\n",
    "              \n",
    "              'Candidate':'%' # column label slice\n",
    "             ]"
   ]
  },
  {
   "cell_type": "markdown",
   "metadata": {},
   "source": [
    "What do you think happens if you give a single value  arguments for the requested rows AND columns?"
   ]
  },
  {
   "cell_type": "code",
   "execution_count": 38,
   "metadata": {},
   "outputs": [
    {
     "data": {
      "text/plain": "48.3"
     },
     "execution_count": 38,
     "metadata": {},
     "output_type": "execute_result"
    }
   ],
   "source": [
    "elections.loc[15, '%']"
   ]
  },
  {
   "cell_type": "markdown",
   "metadata": {},
   "source": [
    "## Positional access with `iloc`"
   ]
  },
  {
   "cell_type": "markdown",
   "metadata": {},
   "source": [
    "loc's cousin iloc is very similar, but is used to access based on numerical position instead of label. For example, to access to the top 3 rows and top 3 columns of a table, we can use [0:3, 0:3]. iloc slicing is **exclusive**, just like standard Python slicing of numerical values."
   ]
  },
  {
   "cell_type": "code",
   "execution_count": 39,
   "metadata": {},
   "outputs": [
    {
     "data": {
      "text/html": "<div>\n<style scoped>\n    .dataframe tbody tr th:only-of-type {\n        vertical-align: middle;\n    }\n\n    .dataframe tbody tr th {\n        vertical-align: top;\n    }\n\n    .dataframe thead th {\n        text-align: right;\n    }\n</style>\n<table border=\"1\" class=\"dataframe\">\n  <thead>\n    <tr style=\"text-align: right;\">\n      <th></th>\n      <th>Candidate</th>\n      <th>Party</th>\n      <th>%</th>\n      <th>Year</th>\n      <th>Result</th>\n    </tr>\n  </thead>\n  <tbody>\n    <tr>\n      <th>0</th>\n      <td>Reagan</td>\n      <td>Republican</td>\n      <td>50.7</td>\n      <td>1980</td>\n      <td>win</td>\n    </tr>\n    <tr>\n      <th>1</th>\n      <td>Carter</td>\n      <td>Democratic</td>\n      <td>41.0</td>\n      <td>1980</td>\n      <td>loss</td>\n    </tr>\n    <tr>\n      <th>2</th>\n      <td>Anderson</td>\n      <td>Independent</td>\n      <td>6.6</td>\n      <td>1980</td>\n      <td>loss</td>\n    </tr>\n    <tr>\n      <th>3</th>\n      <td>Reagan</td>\n      <td>Republican</td>\n      <td>58.8</td>\n      <td>1984</td>\n      <td>win</td>\n    </tr>\n    <tr>\n      <th>4</th>\n      <td>Mondale</td>\n      <td>Democratic</td>\n      <td>37.6</td>\n      <td>1984</td>\n      <td>loss</td>\n    </tr>\n  </tbody>\n</table>\n</div>",
      "text/plain": "  Candidate        Party     %  Year Result\n0    Reagan   Republican  50.7  1980    win\n1    Carter   Democratic  41.0  1980   loss\n2  Anderson  Independent   6.6  1980   loss\n3    Reagan   Republican  58.8  1984    win\n4   Mondale   Democratic  37.6  1984   loss"
     },
     "execution_count": 39,
     "metadata": {},
     "output_type": "execute_result"
    }
   ],
   "source": [
    "elections.head(5)"
   ]
  },
  {
   "cell_type": "code",
   "execution_count": 40,
   "metadata": {},
   "outputs": [
    {
     "data": {
      "text/html": "<div>\n<style scoped>\n    .dataframe tbody tr th:only-of-type {\n        vertical-align: middle;\n    }\n\n    .dataframe tbody tr th {\n        vertical-align: top;\n    }\n\n    .dataframe thead th {\n        text-align: right;\n    }\n</style>\n<table border=\"1\" class=\"dataframe\">\n  <thead>\n    <tr style=\"text-align: right;\">\n      <th></th>\n      <th>%</th>\n      <th>Year</th>\n      <th>Result</th>\n    </tr>\n  </thead>\n  <tbody>\n    <tr>\n      <th>0</th>\n      <td>50.7</td>\n      <td>1980</td>\n      <td>win</td>\n    </tr>\n    <tr>\n      <th>1</th>\n      <td>41.0</td>\n      <td>1980</td>\n      <td>loss</td>\n    </tr>\n    <tr>\n      <th>2</th>\n      <td>6.6</td>\n      <td>1980</td>\n      <td>loss</td>\n    </tr>\n  </tbody>\n</table>\n</div>",
      "text/plain": "      %  Year Result\n0  50.7  1980    win\n1  41.0  1980   loss\n2   6.6  1980   loss"
     },
     "execution_count": 40,
     "metadata": {},
     "output_type": "execute_result"
    }
   ],
   "source": [
    "elections.iloc[:3, 2:]"
   ]
  },
  {
   "cell_type": "markdown",
   "metadata": {},
   "source": [
    "We will use both loc and iloc in the course. Loc is generally preferred for a number of reasons, for example: \n",
    "\n",
    "1. It is harder to make mistakes since you have to literally write out what you want to get.\n",
    "2. Code is easier to read, because the reader doesn't have to know e.g. what column #31 represents.\n",
    "3. It is robust against permutations of the data, e.g. the social security administration switches the order of two columns.\n",
    "\n",
    "However, iloc is sometimes more convenient. We'll provide examples of when iloc is the superior choice."
   ]
  },
  {
   "cell_type": "markdown",
   "metadata": {},
   "source": [
    "## Quick Challenge"
   ]
  },
  {
   "cell_type": "markdown",
   "metadata": {},
   "source": [
    "Which of the following expressions return DataFrame of the first 3 Candidate and Year for candidates that won with more than 50% of the vote."
   ]
  },
  {
   "cell_type": "code",
   "execution_count": 41,
   "metadata": {},
   "outputs": [
    {
     "data": {
      "text/html": "<div>\n<style scoped>\n    .dataframe tbody tr th:only-of-type {\n        vertical-align: middle;\n    }\n\n    .dataframe tbody tr th {\n        vertical-align: top;\n    }\n\n    .dataframe thead th {\n        text-align: right;\n    }\n</style>\n<table border=\"1\" class=\"dataframe\">\n  <thead>\n    <tr style=\"text-align: right;\">\n      <th></th>\n      <th>Candidate</th>\n      <th>Party</th>\n      <th>%</th>\n      <th>Year</th>\n      <th>Result</th>\n    </tr>\n  </thead>\n  <tbody>\n    <tr>\n      <th>0</th>\n      <td>Reagan</td>\n      <td>Republican</td>\n      <td>50.7</td>\n      <td>1980</td>\n      <td>win</td>\n    </tr>\n    <tr>\n      <th>1</th>\n      <td>Carter</td>\n      <td>Democratic</td>\n      <td>41.0</td>\n      <td>1980</td>\n      <td>loss</td>\n    </tr>\n    <tr>\n      <th>2</th>\n      <td>Anderson</td>\n      <td>Independent</td>\n      <td>6.6</td>\n      <td>1980</td>\n      <td>loss</td>\n    </tr>\n    <tr>\n      <th>3</th>\n      <td>Reagan</td>\n      <td>Republican</td>\n      <td>58.8</td>\n      <td>1984</td>\n      <td>win</td>\n    </tr>\n    <tr>\n      <th>4</th>\n      <td>Mondale</td>\n      <td>Democratic</td>\n      <td>37.6</td>\n      <td>1984</td>\n      <td>loss</td>\n    </tr>\n    <tr>\n      <th>5</th>\n      <td>Bush</td>\n      <td>Republican</td>\n      <td>53.4</td>\n      <td>1988</td>\n      <td>win</td>\n    </tr>\n    <tr>\n      <th>6</th>\n      <td>Dukakis</td>\n      <td>Democratic</td>\n      <td>45.6</td>\n      <td>1988</td>\n      <td>loss</td>\n    </tr>\n    <tr>\n      <th>7</th>\n      <td>Clinton</td>\n      <td>Democratic</td>\n      <td>43.0</td>\n      <td>1992</td>\n      <td>win</td>\n    </tr>\n    <tr>\n      <th>8</th>\n      <td>Bush</td>\n      <td>Republican</td>\n      <td>37.4</td>\n      <td>1992</td>\n      <td>loss</td>\n    </tr>\n    <tr>\n      <th>9</th>\n      <td>Perot</td>\n      <td>Independent</td>\n      <td>18.9</td>\n      <td>1992</td>\n      <td>loss</td>\n    </tr>\n  </tbody>\n</table>\n</div>",
      "text/plain": "  Candidate        Party     %  Year Result\n0    Reagan   Republican  50.7  1980    win\n1    Carter   Democratic  41.0  1980   loss\n2  Anderson  Independent   6.6  1980   loss\n3    Reagan   Republican  58.8  1984    win\n4   Mondale   Democratic  37.6  1984   loss\n5      Bush   Republican  53.4  1988    win\n6   Dukakis   Democratic  45.6  1988   loss\n7   Clinton   Democratic  43.0  1992    win\n8      Bush   Republican  37.4  1992   loss\n9     Perot  Independent  18.9  1992   loss"
     },
     "execution_count": 41,
     "metadata": {},
     "output_type": "execute_result"
    }
   ],
   "source": [
    "elections.head(10)"
   ]
  },
  {
   "cell_type": "code",
   "execution_count": 42,
   "metadata": {
    "scrolled": true
   },
   "outputs": [
    {
     "data": {
      "text/html": "<div>\n<style scoped>\n    .dataframe tbody tr th:only-of-type {\n        vertical-align: middle;\n    }\n\n    .dataframe tbody tr th {\n        vertical-align: top;\n    }\n\n    .dataframe thead th {\n        text-align: right;\n    }\n</style>\n<table border=\"1\" class=\"dataframe\">\n  <thead>\n    <tr style=\"text-align: right;\">\n      <th></th>\n      <th>Candidate</th>\n      <th>Year</th>\n    </tr>\n  </thead>\n  <tbody>\n    <tr>\n      <th>0</th>\n      <td>Reagan</td>\n      <td>1980</td>\n    </tr>\n    <tr>\n      <th>3</th>\n      <td>Reagan</td>\n      <td>1984</td>\n    </tr>\n    <tr>\n      <th>5</th>\n      <td>Bush</td>\n      <td>1988</td>\n    </tr>\n  </tbody>\n</table>\n</div>",
      "text/plain": "  Candidate  Year\n0    Reagan  1980\n3    Reagan  1984\n5      Bush  1988"
     },
     "execution_count": 42,
     "metadata": {},
     "output_type": "execute_result"
    }
   ],
   "source": [
    "elections.iloc[[0, 3, 5], [0, 3]]"
   ]
  },
  {
   "cell_type": "code",
   "execution_count": 43,
   "metadata": {},
   "outputs": [
    {
     "data": {
      "text/html": "<div>\n<style scoped>\n    .dataframe tbody tr th:only-of-type {\n        vertical-align: middle;\n    }\n\n    .dataframe tbody tr th {\n        vertical-align: top;\n    }\n\n    .dataframe thead th {\n        text-align: right;\n    }\n</style>\n<table border=\"1\" class=\"dataframe\">\n  <thead>\n    <tr style=\"text-align: right;\">\n      <th></th>\n      <th>Candidate</th>\n      <th>Party</th>\n      <th>%</th>\n      <th>Year</th>\n    </tr>\n  </thead>\n  <tbody>\n    <tr>\n      <th>0</th>\n      <td>Reagan</td>\n      <td>Republican</td>\n      <td>50.7</td>\n      <td>1980</td>\n    </tr>\n    <tr>\n      <th>3</th>\n      <td>Reagan</td>\n      <td>Republican</td>\n      <td>58.8</td>\n      <td>1984</td>\n    </tr>\n    <tr>\n      <th>5</th>\n      <td>Bush</td>\n      <td>Republican</td>\n      <td>53.4</td>\n      <td>1988</td>\n    </tr>\n  </tbody>\n</table>\n</div>",
      "text/plain": "  Candidate       Party     %  Year\n0    Reagan  Republican  50.7  1980\n3    Reagan  Republican  58.8  1984\n5      Bush  Republican  53.4  1988"
     },
     "execution_count": 43,
     "metadata": {},
     "output_type": "execute_result"
    }
   ],
   "source": [
    "elections.loc[[0, 3, 5], \"Candidate\":\"Year\"]"
   ]
  },
  {
   "cell_type": "code",
   "execution_count": 44,
   "metadata": {},
   "outputs": [
    {
     "data": {
      "text/html": "<div>\n<style scoped>\n    .dataframe tbody tr th:only-of-type {\n        vertical-align: middle;\n    }\n\n    .dataframe tbody tr th {\n        vertical-align: top;\n    }\n\n    .dataframe thead th {\n        text-align: right;\n    }\n</style>\n<table border=\"1\" class=\"dataframe\">\n  <thead>\n    <tr style=\"text-align: right;\">\n      <th></th>\n      <th>Candidate</th>\n      <th>Year</th>\n    </tr>\n  </thead>\n  <tbody>\n    <tr>\n      <th>0</th>\n      <td>Reagan</td>\n      <td>1980</td>\n    </tr>\n    <tr>\n      <th>3</th>\n      <td>Reagan</td>\n      <td>1984</td>\n    </tr>\n    <tr>\n      <th>5</th>\n      <td>Bush</td>\n      <td>1988</td>\n    </tr>\n  </tbody>\n</table>\n</div>",
      "text/plain": "  Candidate  Year\n0    Reagan  1980\n3    Reagan  1984\n5      Bush  1988"
     },
     "execution_count": 44,
     "metadata": {},
     "output_type": "execute_result"
    }
   ],
   "source": [
    "elections.loc[elections[\"%\"] > 50, [\"Candidate\", \"Year\"]].head(3)"
   ]
  },
  {
   "cell_type": "code",
   "execution_count": 45,
   "metadata": {},
   "outputs": [
    {
     "data": {
      "text/html": "<div>\n<style scoped>\n    .dataframe tbody tr th:only-of-type {\n        vertical-align: middle;\n    }\n\n    .dataframe tbody tr th {\n        vertical-align: top;\n    }\n\n    .dataframe thead th {\n        text-align: right;\n    }\n</style>\n<table border=\"1\" class=\"dataframe\">\n  <thead>\n    <tr style=\"text-align: right;\">\n      <th></th>\n      <th>Candidate</th>\n      <th>Year</th>\n    </tr>\n  </thead>\n  <tbody>\n    <tr>\n      <th>0</th>\n      <td>Reagan</td>\n      <td>1980</td>\n    </tr>\n    <tr>\n      <th>3</th>\n      <td>Reagan</td>\n      <td>1984</td>\n    </tr>\n  </tbody>\n</table>\n</div>",
      "text/plain": "  Candidate  Year\n0    Reagan  1980\n3    Reagan  1984"
     },
     "execution_count": 45,
     "metadata": {},
     "output_type": "execute_result"
    }
   ],
   "source": [
    "elections.loc[elections[\"%\"] > 50, [\"Candidate\", \"Year\"]].iloc[0:2, :]"
   ]
  },
  {
   "cell_type": "markdown",
   "metadata": {},
   "source": [
    "## Sampling"
   ]
  },
  {
   "cell_type": "markdown",
   "metadata": {},
   "source": [
    "Pandas dataframes also make it easy to get a sample. We simply use the `sample` method and provide the number of samples that we'd like as the arugment. Sampling is done without replacement by default. Set `replace=True` if you want replacement."
   ]
  },
  {
   "cell_type": "code",
   "execution_count": 46,
   "metadata": {
    "scrolled": true
   },
   "outputs": [
    {
     "data": {
      "text/html": "<div>\n<style scoped>\n    .dataframe tbody tr th:only-of-type {\n        vertical-align: middle;\n    }\n\n    .dataframe tbody tr th {\n        vertical-align: top;\n    }\n\n    .dataframe thead th {\n        text-align: right;\n    }\n</style>\n<table border=\"1\" class=\"dataframe\">\n  <thead>\n    <tr style=\"text-align: right;\">\n      <th></th>\n      <th>Candidate</th>\n      <th>Party</th>\n      <th>%</th>\n      <th>Year</th>\n      <th>Result</th>\n    </tr>\n  </thead>\n  <tbody>\n    <tr>\n      <th>6</th>\n      <td>Dukakis</td>\n      <td>Democratic</td>\n      <td>45.6</td>\n      <td>1988</td>\n      <td>loss</td>\n    </tr>\n    <tr>\n      <th>7</th>\n      <td>Clinton</td>\n      <td>Democratic</td>\n      <td>43.0</td>\n      <td>1992</td>\n      <td>win</td>\n    </tr>\n    <tr>\n      <th>8</th>\n      <td>Bush</td>\n      <td>Republican</td>\n      <td>37.4</td>\n      <td>1992</td>\n      <td>loss</td>\n    </tr>\n    <tr>\n      <th>22</th>\n      <td>Trump</td>\n      <td>Republican</td>\n      <td>46.1</td>\n      <td>2016</td>\n      <td>win</td>\n    </tr>\n    <tr>\n      <th>2</th>\n      <td>Anderson</td>\n      <td>Independent</td>\n      <td>6.6</td>\n      <td>1980</td>\n      <td>loss</td>\n    </tr>\n    <tr>\n      <th>10</th>\n      <td>Clinton</td>\n      <td>Democratic</td>\n      <td>49.2</td>\n      <td>1996</td>\n      <td>win</td>\n    </tr>\n    <tr>\n      <th>5</th>\n      <td>Bush</td>\n      <td>Republican</td>\n      <td>53.4</td>\n      <td>1988</td>\n      <td>win</td>\n    </tr>\n    <tr>\n      <th>19</th>\n      <td>Obama</td>\n      <td>Democratic</td>\n      <td>51.1</td>\n      <td>2012</td>\n      <td>win</td>\n    </tr>\n    <tr>\n      <th>4</th>\n      <td>Mondale</td>\n      <td>Democratic</td>\n      <td>37.6</td>\n      <td>1984</td>\n      <td>loss</td>\n    </tr>\n    <tr>\n      <th>18</th>\n      <td>McCain</td>\n      <td>Republican</td>\n      <td>45.7</td>\n      <td>2008</td>\n      <td>loss</td>\n    </tr>\n  </tbody>\n</table>\n</div>",
      "text/plain": "   Candidate        Party     %  Year Result\n6    Dukakis   Democratic  45.6  1988   loss\n7    Clinton   Democratic  43.0  1992    win\n8       Bush   Republican  37.4  1992   loss\n22     Trump   Republican  46.1  2016    win\n2   Anderson  Independent   6.6  1980   loss\n10   Clinton   Democratic  49.2  1996    win\n5       Bush   Republican  53.4  1988    win\n19     Obama   Democratic  51.1  2012    win\n4    Mondale   Democratic  37.6  1984   loss\n18    McCain   Republican  45.7  2008   loss"
     },
     "execution_count": 46,
     "metadata": {},
     "output_type": "execute_result"
    }
   ],
   "source": [
    "elections.sample(10)"
   ]
  },
  {
   "cell_type": "code",
   "execution_count": 47,
   "metadata": {},
   "outputs": [
    {
     "data": {
      "text/html": "<div>\n<style scoped>\n    .dataframe tbody tr th:only-of-type {\n        vertical-align: middle;\n    }\n\n    .dataframe tbody tr th {\n        vertical-align: top;\n    }\n\n    .dataframe thead th {\n        text-align: right;\n    }\n</style>\n<table border=\"1\" class=\"dataframe\">\n  <thead>\n    <tr style=\"text-align: right;\">\n      <th></th>\n      <th>Candidate</th>\n      <th>Party</th>\n      <th>%</th>\n      <th>Year</th>\n      <th>Result</th>\n    </tr>\n  </thead>\n  <tbody>\n    <tr>\n      <th>2</th>\n      <td>Anderson</td>\n      <td>Independent</td>\n      <td>6.6</td>\n      <td>1980</td>\n      <td>loss</td>\n    </tr>\n    <tr>\n      <th>3</th>\n      <td>Reagan</td>\n      <td>Republican</td>\n      <td>58.8</td>\n      <td>1984</td>\n      <td>win</td>\n    </tr>\n    <tr>\n      <th>3</th>\n      <td>Reagan</td>\n      <td>Republican</td>\n      <td>58.8</td>\n      <td>1984</td>\n      <td>win</td>\n    </tr>\n    <tr>\n      <th>1</th>\n      <td>Carter</td>\n      <td>Democratic</td>\n      <td>41.0</td>\n      <td>1980</td>\n      <td>loss</td>\n    </tr>\n    <tr>\n      <th>3</th>\n      <td>Reagan</td>\n      <td>Republican</td>\n      <td>58.8</td>\n      <td>1984</td>\n      <td>win</td>\n    </tr>\n    <tr>\n      <th>3</th>\n      <td>Reagan</td>\n      <td>Republican</td>\n      <td>58.8</td>\n      <td>1984</td>\n      <td>win</td>\n    </tr>\n    <tr>\n      <th>5</th>\n      <td>Bush</td>\n      <td>Republican</td>\n      <td>53.4</td>\n      <td>1988</td>\n      <td>win</td>\n    </tr>\n    <tr>\n      <th>6</th>\n      <td>Dukakis</td>\n      <td>Democratic</td>\n      <td>45.6</td>\n      <td>1988</td>\n      <td>loss</td>\n    </tr>\n    <tr>\n      <th>3</th>\n      <td>Reagan</td>\n      <td>Republican</td>\n      <td>58.8</td>\n      <td>1984</td>\n      <td>win</td>\n    </tr>\n    <tr>\n      <th>4</th>\n      <td>Mondale</td>\n      <td>Democratic</td>\n      <td>37.6</td>\n      <td>1984</td>\n      <td>loss</td>\n    </tr>\n    <tr>\n      <th>2</th>\n      <td>Anderson</td>\n      <td>Independent</td>\n      <td>6.6</td>\n      <td>1980</td>\n      <td>loss</td>\n    </tr>\n    <tr>\n      <th>6</th>\n      <td>Dukakis</td>\n      <td>Democratic</td>\n      <td>45.6</td>\n      <td>1988</td>\n      <td>loss</td>\n    </tr>\n    <tr>\n      <th>0</th>\n      <td>Reagan</td>\n      <td>Republican</td>\n      <td>50.7</td>\n      <td>1980</td>\n      <td>win</td>\n    </tr>\n    <tr>\n      <th>1</th>\n      <td>Carter</td>\n      <td>Democratic</td>\n      <td>41.0</td>\n      <td>1980</td>\n      <td>loss</td>\n    </tr>\n    <tr>\n      <th>0</th>\n      <td>Reagan</td>\n      <td>Republican</td>\n      <td>50.7</td>\n      <td>1980</td>\n      <td>win</td>\n    </tr>\n    <tr>\n      <th>0</th>\n      <td>Reagan</td>\n      <td>Republican</td>\n      <td>50.7</td>\n      <td>1980</td>\n      <td>win</td>\n    </tr>\n    <tr>\n      <th>1</th>\n      <td>Carter</td>\n      <td>Democratic</td>\n      <td>41.0</td>\n      <td>1980</td>\n      <td>loss</td>\n    </tr>\n    <tr>\n      <th>5</th>\n      <td>Bush</td>\n      <td>Republican</td>\n      <td>53.4</td>\n      <td>1988</td>\n      <td>win</td>\n    </tr>\n    <tr>\n      <th>1</th>\n      <td>Carter</td>\n      <td>Democratic</td>\n      <td>41.0</td>\n      <td>1980</td>\n      <td>loss</td>\n    </tr>\n    <tr>\n      <th>4</th>\n      <td>Mondale</td>\n      <td>Democratic</td>\n      <td>37.6</td>\n      <td>1984</td>\n      <td>loss</td>\n    </tr>\n    <tr>\n      <th>0</th>\n      <td>Reagan</td>\n      <td>Republican</td>\n      <td>50.7</td>\n      <td>1980</td>\n      <td>win</td>\n    </tr>\n    <tr>\n      <th>4</th>\n      <td>Mondale</td>\n      <td>Democratic</td>\n      <td>37.6</td>\n      <td>1984</td>\n      <td>loss</td>\n    </tr>\n    <tr>\n      <th>3</th>\n      <td>Reagan</td>\n      <td>Republican</td>\n      <td>58.8</td>\n      <td>1984</td>\n      <td>win</td>\n    </tr>\n    <tr>\n      <th>2</th>\n      <td>Anderson</td>\n      <td>Independent</td>\n      <td>6.6</td>\n      <td>1980</td>\n      <td>loss</td>\n    </tr>\n    <tr>\n      <th>3</th>\n      <td>Reagan</td>\n      <td>Republican</td>\n      <td>58.8</td>\n      <td>1984</td>\n      <td>win</td>\n    </tr>\n    <tr>\n      <th>2</th>\n      <td>Anderson</td>\n      <td>Independent</td>\n      <td>6.6</td>\n      <td>1980</td>\n      <td>loss</td>\n    </tr>\n    <tr>\n      <th>5</th>\n      <td>Bush</td>\n      <td>Republican</td>\n      <td>53.4</td>\n      <td>1988</td>\n      <td>win</td>\n    </tr>\n    <tr>\n      <th>4</th>\n      <td>Mondale</td>\n      <td>Democratic</td>\n      <td>37.6</td>\n      <td>1984</td>\n      <td>loss</td>\n    </tr>\n    <tr>\n      <th>0</th>\n      <td>Reagan</td>\n      <td>Republican</td>\n      <td>50.7</td>\n      <td>1980</td>\n      <td>win</td>\n    </tr>\n    <tr>\n      <th>4</th>\n      <td>Mondale</td>\n      <td>Democratic</td>\n      <td>37.6</td>\n      <td>1984</td>\n      <td>loss</td>\n    </tr>\n    <tr>\n      <th>0</th>\n      <td>Reagan</td>\n      <td>Republican</td>\n      <td>50.7</td>\n      <td>1980</td>\n      <td>win</td>\n    </tr>\n    <tr>\n      <th>2</th>\n      <td>Anderson</td>\n      <td>Independent</td>\n      <td>6.6</td>\n      <td>1980</td>\n      <td>loss</td>\n    </tr>\n    <tr>\n      <th>6</th>\n      <td>Dukakis</td>\n      <td>Democratic</td>\n      <td>45.6</td>\n      <td>1988</td>\n      <td>loss</td>\n    </tr>\n    <tr>\n      <th>2</th>\n      <td>Anderson</td>\n      <td>Independent</td>\n      <td>6.6</td>\n      <td>1980</td>\n      <td>loss</td>\n    </tr>\n    <tr>\n      <th>4</th>\n      <td>Mondale</td>\n      <td>Democratic</td>\n      <td>37.6</td>\n      <td>1984</td>\n      <td>loss</td>\n    </tr>\n    <tr>\n      <th>5</th>\n      <td>Bush</td>\n      <td>Republican</td>\n      <td>53.4</td>\n      <td>1988</td>\n      <td>win</td>\n    </tr>\n    <tr>\n      <th>2</th>\n      <td>Anderson</td>\n      <td>Independent</td>\n      <td>6.6</td>\n      <td>1980</td>\n      <td>loss</td>\n    </tr>\n    <tr>\n      <th>1</th>\n      <td>Carter</td>\n      <td>Democratic</td>\n      <td>41.0</td>\n      <td>1980</td>\n      <td>loss</td>\n    </tr>\n    <tr>\n      <th>5</th>\n      <td>Bush</td>\n      <td>Republican</td>\n      <td>53.4</td>\n      <td>1988</td>\n      <td>win</td>\n    </tr>\n    <tr>\n      <th>3</th>\n      <td>Reagan</td>\n      <td>Republican</td>\n      <td>58.8</td>\n      <td>1984</td>\n      <td>win</td>\n    </tr>\n    <tr>\n      <th>1</th>\n      <td>Carter</td>\n      <td>Democratic</td>\n      <td>41.0</td>\n      <td>1980</td>\n      <td>loss</td>\n    </tr>\n    <tr>\n      <th>1</th>\n      <td>Carter</td>\n      <td>Democratic</td>\n      <td>41.0</td>\n      <td>1980</td>\n      <td>loss</td>\n    </tr>\n    <tr>\n      <th>2</th>\n      <td>Anderson</td>\n      <td>Independent</td>\n      <td>6.6</td>\n      <td>1980</td>\n      <td>loss</td>\n    </tr>\n    <tr>\n      <th>5</th>\n      <td>Bush</td>\n      <td>Republican</td>\n      <td>53.4</td>\n      <td>1988</td>\n      <td>win</td>\n    </tr>\n    <tr>\n      <th>2</th>\n      <td>Anderson</td>\n      <td>Independent</td>\n      <td>6.6</td>\n      <td>1980</td>\n      <td>loss</td>\n    </tr>\n    <tr>\n      <th>3</th>\n      <td>Reagan</td>\n      <td>Republican</td>\n      <td>58.8</td>\n      <td>1984</td>\n      <td>win</td>\n    </tr>\n    <tr>\n      <th>6</th>\n      <td>Dukakis</td>\n      <td>Democratic</td>\n      <td>45.6</td>\n      <td>1988</td>\n      <td>loss</td>\n    </tr>\n    <tr>\n      <th>0</th>\n      <td>Reagan</td>\n      <td>Republican</td>\n      <td>50.7</td>\n      <td>1980</td>\n      <td>win</td>\n    </tr>\n    <tr>\n      <th>6</th>\n      <td>Dukakis</td>\n      <td>Democratic</td>\n      <td>45.6</td>\n      <td>1988</td>\n      <td>loss</td>\n    </tr>\n    <tr>\n      <th>2</th>\n      <td>Anderson</td>\n      <td>Independent</td>\n      <td>6.6</td>\n      <td>1980</td>\n      <td>loss</td>\n    </tr>\n  </tbody>\n</table>\n</div>",
      "text/plain": "  Candidate        Party     %  Year Result\n2  Anderson  Independent   6.6  1980   loss\n3    Reagan   Republican  58.8  1984    win\n3    Reagan   Republican  58.8  1984    win\n1    Carter   Democratic  41.0  1980   loss\n3    Reagan   Republican  58.8  1984    win\n3    Reagan   Republican  58.8  1984    win\n5      Bush   Republican  53.4  1988    win\n6   Dukakis   Democratic  45.6  1988   loss\n3    Reagan   Republican  58.8  1984    win\n4   Mondale   Democratic  37.6  1984   loss\n2  Anderson  Independent   6.6  1980   loss\n6   Dukakis   Democratic  45.6  1988   loss\n0    Reagan   Republican  50.7  1980    win\n1    Carter   Democratic  41.0  1980   loss\n0    Reagan   Republican  50.7  1980    win\n0    Reagan   Republican  50.7  1980    win\n1    Carter   Democratic  41.0  1980   loss\n5      Bush   Republican  53.4  1988    win\n1    Carter   Democratic  41.0  1980   loss\n4   Mondale   Democratic  37.6  1984   loss\n0    Reagan   Republican  50.7  1980    win\n4   Mondale   Democratic  37.6  1984   loss\n3    Reagan   Republican  58.8  1984    win\n2  Anderson  Independent   6.6  1980   loss\n3    Reagan   Republican  58.8  1984    win\n2  Anderson  Independent   6.6  1980   loss\n5      Bush   Republican  53.4  1988    win\n4   Mondale   Democratic  37.6  1984   loss\n0    Reagan   Republican  50.7  1980    win\n4   Mondale   Democratic  37.6  1984   loss\n0    Reagan   Republican  50.7  1980    win\n2  Anderson  Independent   6.6  1980   loss\n6   Dukakis   Democratic  45.6  1988   loss\n2  Anderson  Independent   6.6  1980   loss\n4   Mondale   Democratic  37.6  1984   loss\n5      Bush   Republican  53.4  1988    win\n2  Anderson  Independent   6.6  1980   loss\n1    Carter   Democratic  41.0  1980   loss\n5      Bush   Republican  53.4  1988    win\n3    Reagan   Republican  58.8  1984    win\n1    Carter   Democratic  41.0  1980   loss\n1    Carter   Democratic  41.0  1980   loss\n2  Anderson  Independent   6.6  1980   loss\n5      Bush   Republican  53.4  1988    win\n2  Anderson  Independent   6.6  1980   loss\n3    Reagan   Republican  58.8  1984    win\n6   Dukakis   Democratic  45.6  1988   loss\n0    Reagan   Republican  50.7  1980    win\n6   Dukakis   Democratic  45.6  1988   loss\n2  Anderson  Independent   6.6  1980   loss"
     },
     "execution_count": 47,
     "metadata": {},
     "output_type": "execute_result"
    }
   ],
   "source": [
    "elections.query(\"Year < 1992\").sample(50, replace=True)\n"
   ]
  },
  {
   "cell_type": "markdown",
   "metadata": {},
   "source": [
    "## Handy Properties and Utility Functions for Series and DataFrames"
   ]
  },
  {
   "cell_type": "markdown",
   "metadata": {},
   "source": [
    "#### Python Operations on Numerical DataFrames and Series"
   ]
  },
  {
   "cell_type": "markdown",
   "metadata": {},
   "source": [
    "Consider a series of only the vote percentages of election winners."
   ]
  },
  {
   "cell_type": "code",
   "execution_count": 48,
   "metadata": {
    "scrolled": true
   },
   "outputs": [
    {
     "data": {
      "text/plain": "0     50.7\n3     58.8\n5     53.4\n7     43.0\n10    49.2\n14    47.9\n16    50.7\n17    52.9\n19    51.1\n22    46.1\nName: %, dtype: float64"
     },
     "execution_count": 48,
     "metadata": {},
     "output_type": "execute_result"
    }
   ],
   "source": [
    "winners = elections.query(\"Result == 'win'\")[\"%\"]\n",
    "winners"
   ]
  },
  {
   "cell_type": "markdown",
   "metadata": {},
   "source": [
    "We can perform various Python operations (including numpy operations) to DataFrames and Series."
   ]
  },
  {
   "cell_type": "code",
   "execution_count": 49,
   "metadata": {},
   "outputs": [
    {
     "data": {
      "text/plain": "58.8"
     },
     "execution_count": 49,
     "metadata": {},
     "output_type": "execute_result"
    }
   ],
   "source": [
    "max(winners)"
   ]
  },
  {
   "cell_type": "code",
   "execution_count": 50,
   "metadata": {},
   "outputs": [
    {
     "data": {
      "text/plain": "50.38000000000001"
     },
     "execution_count": 50,
     "metadata": {},
     "output_type": "execute_result"
    }
   ],
   "source": [
    "np.mean(winners)"
   ]
  },
  {
   "cell_type": "markdown",
   "metadata": {},
   "source": [
    "#### Handy Utility Methods"
   ]
  },
  {
   "cell_type": "markdown",
   "metadata": {},
   "source": [
    "The head, shape, size, and describe methods can be used to quickly get a good sense of the data we're working with. Remember when I said above we can use names for labeling rows?  This is a good dataset to demonstrate that. "
   ]
  },
  {
   "cell_type": "code",
   "execution_count": 51,
   "metadata": {},
   "outputs": [],
   "source": [
    "mottos = pd.read_csv(\"mottos.csv\", index_col=\"State\")"
   ]
  },
  {
   "cell_type": "code",
   "execution_count": 52,
   "metadata": {},
   "outputs": [
    {
     "data": {
      "text/html": "<div>\n<style scoped>\n    .dataframe tbody tr th:only-of-type {\n        vertical-align: middle;\n    }\n\n    .dataframe tbody tr th {\n        vertical-align: top;\n    }\n\n    .dataframe thead th {\n        text-align: right;\n    }\n</style>\n<table border=\"1\" class=\"dataframe\">\n  <thead>\n    <tr style=\"text-align: right;\">\n      <th></th>\n      <th>Motto</th>\n      <th>Translation</th>\n      <th>Language</th>\n      <th>Date Adopted</th>\n    </tr>\n    <tr>\n      <th>State</th>\n      <th></th>\n      <th></th>\n      <th></th>\n      <th></th>\n    </tr>\n  </thead>\n  <tbody>\n    <tr>\n      <th>Alabama</th>\n      <td>Audemus jura nostra defendere</td>\n      <td>We dare defend our rights!</td>\n      <td>Latin</td>\n      <td>1923</td>\n    </tr>\n    <tr>\n      <th>Alaska</th>\n      <td>North to the future</td>\n      <td>—</td>\n      <td>English</td>\n      <td>1967</td>\n    </tr>\n    <tr>\n      <th>Arizona</th>\n      <td>Ditat Deus</td>\n      <td>God enriches</td>\n      <td>Latin</td>\n      <td>1863</td>\n    </tr>\n    <tr>\n      <th>Arkansas</th>\n      <td>Regnat populus</td>\n      <td>The people rule</td>\n      <td>Latin</td>\n      <td>1907</td>\n    </tr>\n    <tr>\n      <th>California</th>\n      <td>Eureka (Εὕρηκα)</td>\n      <td>I have found it</td>\n      <td>Greek</td>\n      <td>1849</td>\n    </tr>\n    <tr>\n      <th>Colorado</th>\n      <td>Nil sine numine</td>\n      <td>Nothing without providence.</td>\n      <td>Latin</td>\n      <td>November 6, 1861</td>\n    </tr>\n    <tr>\n      <th>Connecticut</th>\n      <td>Qui transtulit sustinet</td>\n      <td>He who transplanted sustains</td>\n      <td>Latin</td>\n      <td>October 9, 1662</td>\n    </tr>\n    <tr>\n      <th>Delaware</th>\n      <td>Liberty and Independence</td>\n      <td>—</td>\n      <td>English</td>\n      <td>1847</td>\n    </tr>\n    <tr>\n      <th>Florida</th>\n      <td>In God We Trust</td>\n      <td>—</td>\n      <td>English</td>\n      <td>1868</td>\n    </tr>\n    <tr>\n      <th>Georgia</th>\n      <td>Wisdom, Justice, Moderation</td>\n      <td>—</td>\n      <td>English</td>\n      <td>1798</td>\n    </tr>\n    <tr>\n      <th>Hawaii</th>\n      <td>Ua mau ke ea o ka ʻāina i ka pono</td>\n      <td>The life of the land is perpetuated in righteo...</td>\n      <td>Hawaiian</td>\n      <td>July 31, 1843</td>\n    </tr>\n    <tr>\n      <th>Idaho</th>\n      <td>Esto perpetua</td>\n      <td>Let it be perpetual</td>\n      <td>Latin</td>\n      <td>1890</td>\n    </tr>\n    <tr>\n      <th>Illinois</th>\n      <td>State sovereignty, national union</td>\n      <td>—</td>\n      <td>English</td>\n      <td>1819</td>\n    </tr>\n    <tr>\n      <th>Indiana</th>\n      <td>The Crossroads of America</td>\n      <td>—</td>\n      <td>English</td>\n      <td>1937</td>\n    </tr>\n    <tr>\n      <th>Iowa</th>\n      <td>Our liberties we prize and our rights we will ...</td>\n      <td>—</td>\n      <td>English</td>\n      <td>1847</td>\n    </tr>\n    <tr>\n      <th>Kansas</th>\n      <td>Ad astra per aspera</td>\n      <td>To the stars through difficulties</td>\n      <td>Latin</td>\n      <td>1861</td>\n    </tr>\n    <tr>\n      <th>Kentucky</th>\n      <td>Deo gratiam habeamus</td>\n      <td>Let us be grateful to God</td>\n      <td>Latin</td>\n      <td>2002</td>\n    </tr>\n    <tr>\n      <th>Louisiana</th>\n      <td>Union, justice, confidence</td>\n      <td>—</td>\n      <td>English</td>\n      <td>1902</td>\n    </tr>\n    <tr>\n      <th>Maine</th>\n      <td>Dirigo</td>\n      <td>I lead</td>\n      <td>Latin</td>\n      <td>1820</td>\n    </tr>\n    <tr>\n      <th>Maryland</th>\n      <td>Fatti maschii, parole femine</td>\n      <td>Manly deeds, womanly words</td>\n      <td>Italian</td>\n      <td>1874</td>\n    </tr>\n  </tbody>\n</table>\n</div>",
      "text/plain": "                                                         Motto  \\\nState                                                            \nAlabama                          Audemus jura nostra defendere   \nAlaska                                     North to the future   \nArizona                                             Ditat Deus   \nArkansas                                        Regnat populus   \nCalifornia                                     Eureka (Εὕρηκα)   \nColorado                                       Nil sine numine   \nConnecticut                            Qui transtulit sustinet   \nDelaware                              Liberty and Independence   \nFlorida                                        In God We Trust   \nGeorgia                            Wisdom, Justice, Moderation   \nHawaii                       Ua mau ke ea o ka ʻāina i ka pono   \nIdaho                                            Esto perpetua   \nIllinois                     State sovereignty, national union   \nIndiana                              The Crossroads of America   \nIowa         Our liberties we prize and our rights we will ...   \nKansas                                     Ad astra per aspera   \nKentucky                                  Deo gratiam habeamus   \nLouisiana                           Union, justice, confidence   \nMaine                                                   Dirigo   \nMaryland                          Fatti maschii, parole femine   \n\n                                                   Translation  Language  \\\nState                                                                      \nAlabama                             We dare defend our rights!     Latin   \nAlaska                                                       —   English   \nArizona                                           God enriches     Latin   \nArkansas                                       The people rule     Latin   \nCalifornia                                     I have found it     Greek   \nColorado                           Nothing without providence.     Latin   \nConnecticut                       He who transplanted sustains     Latin   \nDelaware                                                     —   English   \nFlorida                                                      —   English   \nGeorgia                                                      —   English   \nHawaii       The life of the land is perpetuated in righteo...  Hawaiian   \nIdaho                                      Let it be perpetual     Latin   \nIllinois                                                     —   English   \nIndiana                                                      —   English   \nIowa                                                         —   English   \nKansas                       To the stars through difficulties     Latin   \nKentucky                             Let us be grateful to God     Latin   \nLouisiana                                                    —   English   \nMaine                                                   I lead     Latin   \nMaryland                            Manly deeds, womanly words   Italian   \n\n                 Date Adopted  \nState                          \nAlabama                  1923  \nAlaska                   1967  \nArizona                  1863  \nArkansas                 1907  \nCalifornia               1849  \nColorado     November 6, 1861  \nConnecticut   October 9, 1662  \nDelaware                 1847  \nFlorida                  1868  \nGeorgia                  1798  \nHawaii          July 31, 1843  \nIdaho                    1890  \nIllinois                 1819  \nIndiana                  1937  \nIowa                     1847  \nKansas                   1861  \nKentucky                 2002  \nLouisiana                1902  \nMaine                    1820  \nMaryland                 1874  "
     },
     "execution_count": 52,
     "metadata": {},
     "output_type": "execute_result"
    }
   ],
   "source": [
    "mottos.head(20)"
   ]
  },
  {
   "cell_type": "code",
   "execution_count": 53,
   "metadata": {},
   "outputs": [
    {
     "data": {
      "text/plain": "200"
     },
     "execution_count": 53,
     "metadata": {},
     "output_type": "execute_result"
    }
   ],
   "source": [
    "mottos.size"
   ]
  },
  {
   "cell_type": "markdown",
   "metadata": {},
   "source": [
    "The fact that the size is 200 means our data file is relatively small, with only 200 total entries."
   ]
  },
  {
   "cell_type": "code",
   "execution_count": 54,
   "metadata": {},
   "outputs": [
    {
     "data": {
      "text/plain": "(50, 4)"
     },
     "execution_count": 54,
     "metadata": {},
     "output_type": "execute_result"
    }
   ],
   "source": [
    "mottos.shape"
   ]
  },
  {
   "cell_type": "markdown",
   "metadata": {},
   "source": [
    "Since we're looking at data for states, and we see the number 50, it looks like we've mostly likely got a complete dataset that omits Washington D.C. and U.S. territories like Guam and Puerto Rico."
   ]
  },
  {
   "cell_type": "code",
   "execution_count": 55,
   "metadata": {},
   "outputs": [
    {
     "data": {
      "text/html": "<div>\n<style scoped>\n    .dataframe tbody tr th:only-of-type {\n        vertical-align: middle;\n    }\n\n    .dataframe tbody tr th {\n        vertical-align: top;\n    }\n\n    .dataframe thead th {\n        text-align: right;\n    }\n</style>\n<table border=\"1\" class=\"dataframe\">\n  <thead>\n    <tr style=\"text-align: right;\">\n      <th></th>\n      <th>Motto</th>\n      <th>Translation</th>\n      <th>Language</th>\n      <th>Date Adopted</th>\n    </tr>\n  </thead>\n  <tbody>\n    <tr>\n      <th>count</th>\n      <td>50</td>\n      <td>49</td>\n      <td>50</td>\n      <td>50</td>\n    </tr>\n    <tr>\n      <th>unique</th>\n      <td>50</td>\n      <td>30</td>\n      <td>8</td>\n      <td>47</td>\n    </tr>\n    <tr>\n      <th>top</th>\n      <td>Audemus jura nostra defendere</td>\n      <td>—</td>\n      <td>Latin</td>\n      <td>1893</td>\n    </tr>\n    <tr>\n      <th>freq</th>\n      <td>1</td>\n      <td>20</td>\n      <td>23</td>\n      <td>2</td>\n    </tr>\n  </tbody>\n</table>\n</div>",
      "text/plain": "                                Motto Translation Language Date Adopted\ncount                              50          49       50           50\nunique                             50          30        8           47\ntop     Audemus jura nostra defendere           —    Latin         1893\nfreq                                1          20       23            2"
     },
     "execution_count": 55,
     "metadata": {},
     "output_type": "execute_result"
    }
   ],
   "source": [
    "mottos.describe()"
   ]
  },
  {
   "cell_type": "markdown",
   "metadata": {},
   "source": [
    "Above, we see a quick summary of all the data. For example, the most common language for mottos is Latin, which covers 23 different states. Does anything else seem surprising?"
   ]
  },
  {
   "cell_type": "markdown",
   "metadata": {},
   "source": [
    "We can get a direct reference to the index using .index."
   ]
  },
  {
   "cell_type": "code",
   "execution_count": 56,
   "metadata": {},
   "outputs": [
    {
     "data": {
      "text/plain": "Index(['Alabama', 'Alaska', 'Arizona', 'Arkansas', 'California', 'Colorado',\n       'Connecticut', 'Delaware', 'Florida', 'Georgia', 'Hawaii', 'Idaho',\n       'Illinois', 'Indiana', 'Iowa', 'Kansas', 'Kentucky', 'Louisiana',\n       'Maine', 'Maryland', 'Massachusetts', 'Michigan', 'Minnesota',\n       'Mississippi', 'Missouri', 'Montana', 'Nebraska', 'Nevada',\n       'New Hampshire', 'New Jersey', 'New Mexico', 'New York',\n       'North Carolina', 'North Dakota', 'Ohio', 'Oklahoma', 'Oregon',\n       'Pennsylvania', 'Rhode Island', 'South Carolina', 'South Dakota',\n       'Tennessee', 'Texas', 'Utah', 'Vermont', 'Virginia', 'Washington',\n       'West Virginia', 'Wisconsin', 'Wyoming'],\n      dtype='object', name='State')"
     },
     "execution_count": 56,
     "metadata": {},
     "output_type": "execute_result"
    }
   ],
   "source": [
    "mottos.index"
   ]
  },
  {
   "cell_type": "markdown",
   "metadata": {},
   "source": [
    "We can also access individual properties of the index, for example, `mottos.index.name`."
   ]
  },
  {
   "cell_type": "code",
   "execution_count": 57,
   "metadata": {},
   "outputs": [
    {
     "data": {
      "text/plain": "'State'"
     },
     "execution_count": 57,
     "metadata": {},
     "output_type": "execute_result"
    }
   ],
   "source": [
    "mottos.index.name"
   ]
  },
  {
   "cell_type": "markdown",
   "metadata": {},
   "source": [
    "This reflects the fact that in our data frame, the index IS the state name!"
   ]
  },
  {
   "cell_type": "code",
   "execution_count": 58,
   "metadata": {},
   "outputs": [
    {
     "data": {
      "text/html": "<div>\n<style scoped>\n    .dataframe tbody tr th:only-of-type {\n        vertical-align: middle;\n    }\n\n    .dataframe tbody tr th {\n        vertical-align: top;\n    }\n\n    .dataframe thead th {\n        text-align: right;\n    }\n</style>\n<table border=\"1\" class=\"dataframe\">\n  <thead>\n    <tr style=\"text-align: right;\">\n      <th></th>\n      <th>Motto</th>\n      <th>Translation</th>\n      <th>Language</th>\n      <th>Date Adopted</th>\n    </tr>\n    <tr>\n      <th>State</th>\n      <th></th>\n      <th></th>\n      <th></th>\n      <th></th>\n    </tr>\n  </thead>\n  <tbody>\n    <tr>\n      <th>Alabama</th>\n      <td>Audemus jura nostra defendere</td>\n      <td>We dare defend our rights!</td>\n      <td>Latin</td>\n      <td>1923</td>\n    </tr>\n    <tr>\n      <th>Alaska</th>\n      <td>North to the future</td>\n      <td>—</td>\n      <td>English</td>\n      <td>1967</td>\n    </tr>\n  </tbody>\n</table>\n</div>",
      "text/plain": "                                 Motto                 Translation Language  \\\nState                                                                         \nAlabama  Audemus jura nostra defendere  We dare defend our rights!    Latin   \nAlaska             North to the future                           —  English   \n\n        Date Adopted  \nState                 \nAlabama         1923  \nAlaska          1967  "
     },
     "execution_count": 58,
     "metadata": {},
     "output_type": "execute_result"
    }
   ],
   "source": [
    "mottos.head(2)"
   ]
  },
  {
   "cell_type": "markdown",
   "metadata": {},
   "source": [
    "It turns out the columns also have an Index. We can access this index by using `.columns`."
   ]
  },
  {
   "cell_type": "code",
   "execution_count": 59,
   "metadata": {},
   "outputs": [
    {
     "data": {
      "text/html": "<div>\n<style scoped>\n    .dataframe tbody tr th:only-of-type {\n        vertical-align: middle;\n    }\n\n    .dataframe tbody tr th {\n        vertical-align: top;\n    }\n\n    .dataframe thead th {\n        text-align: right;\n    }\n</style>\n<table border=\"1\" class=\"dataframe\">\n  <thead>\n    <tr style=\"text-align: right;\">\n      <th></th>\n      <th>Motto</th>\n      <th>Translation</th>\n      <th>Language</th>\n      <th>Date Adopted</th>\n    </tr>\n    <tr>\n      <th>State</th>\n      <th></th>\n      <th></th>\n      <th></th>\n      <th></th>\n    </tr>\n  </thead>\n  <tbody>\n    <tr>\n      <th>Alabama</th>\n      <td>Audemus jura nostra defendere</td>\n      <td>We dare defend our rights!</td>\n      <td>Latin</td>\n      <td>1923</td>\n    </tr>\n    <tr>\n      <th>Alaska</th>\n      <td>North to the future</td>\n      <td>—</td>\n      <td>English</td>\n      <td>1967</td>\n    </tr>\n  </tbody>\n</table>\n</div>",
      "text/plain": "                                 Motto                 Translation Language  \\\nState                                                                         \nAlabama  Audemus jura nostra defendere  We dare defend our rights!    Latin   \nAlaska             North to the future                           —  English   \n\n        Date Adopted  \nState                 \nAlabama         1923  \nAlaska          1967  "
     },
     "execution_count": 59,
     "metadata": {},
     "output_type": "execute_result"
    }
   ],
   "source": [
    "mottos.head(2)"
   ]
  },
  {
   "cell_type": "markdown",
   "metadata": {},
   "source": [
    "There are also a ton of useful utility methods we can use with Data Frames and Series. For example, we can create a copy of a data frame sorted by a specific column using `sort_values`."
   ]
  },
  {
   "cell_type": "code",
   "execution_count": 60,
   "metadata": {},
   "outputs": [
    {
     "data": {
      "text/html": "<div>\n<style scoped>\n    .dataframe tbody tr th:only-of-type {\n        vertical-align: middle;\n    }\n\n    .dataframe tbody tr th {\n        vertical-align: top;\n    }\n\n    .dataframe thead th {\n        text-align: right;\n    }\n</style>\n<table border=\"1\" class=\"dataframe\">\n  <thead>\n    <tr style=\"text-align: right;\">\n      <th></th>\n      <th>Candidate</th>\n      <th>Party</th>\n      <th>%</th>\n      <th>Year</th>\n      <th>Result</th>\n    </tr>\n  </thead>\n  <tbody>\n    <tr>\n      <th>3</th>\n      <td>Reagan</td>\n      <td>Republican</td>\n      <td>58.8</td>\n      <td>1984</td>\n      <td>win</td>\n    </tr>\n    <tr>\n      <th>5</th>\n      <td>Bush</td>\n      <td>Republican</td>\n      <td>53.4</td>\n      <td>1988</td>\n      <td>win</td>\n    </tr>\n    <tr>\n      <th>17</th>\n      <td>Obama</td>\n      <td>Democratic</td>\n      <td>52.9</td>\n      <td>2008</td>\n      <td>win</td>\n    </tr>\n    <tr>\n      <th>19</th>\n      <td>Obama</td>\n      <td>Democratic</td>\n      <td>51.1</td>\n      <td>2012</td>\n      <td>win</td>\n    </tr>\n    <tr>\n      <th>0</th>\n      <td>Reagan</td>\n      <td>Republican</td>\n      <td>50.7</td>\n      <td>1980</td>\n      <td>win</td>\n    </tr>\n    <tr>\n      <th>16</th>\n      <td>Bush</td>\n      <td>Republican</td>\n      <td>50.7</td>\n      <td>2004</td>\n      <td>win</td>\n    </tr>\n    <tr>\n      <th>10</th>\n      <td>Clinton</td>\n      <td>Democratic</td>\n      <td>49.2</td>\n      <td>1996</td>\n      <td>win</td>\n    </tr>\n    <tr>\n      <th>13</th>\n      <td>Gore</td>\n      <td>Democratic</td>\n      <td>48.4</td>\n      <td>2000</td>\n      <td>loss</td>\n    </tr>\n    <tr>\n      <th>15</th>\n      <td>Kerry</td>\n      <td>Democratic</td>\n      <td>48.3</td>\n      <td>2004</td>\n      <td>loss</td>\n    </tr>\n    <tr>\n      <th>21</th>\n      <td>Clinton</td>\n      <td>Democratic</td>\n      <td>48.2</td>\n      <td>2016</td>\n      <td>loss</td>\n    </tr>\n    <tr>\n      <th>14</th>\n      <td>Bush</td>\n      <td>Republican</td>\n      <td>47.9</td>\n      <td>2000</td>\n      <td>win</td>\n    </tr>\n    <tr>\n      <th>20</th>\n      <td>Romney</td>\n      <td>Republican</td>\n      <td>47.2</td>\n      <td>2012</td>\n      <td>loss</td>\n    </tr>\n    <tr>\n      <th>22</th>\n      <td>Trump</td>\n      <td>Republican</td>\n      <td>46.1</td>\n      <td>2016</td>\n      <td>win</td>\n    </tr>\n    <tr>\n      <th>18</th>\n      <td>McCain</td>\n      <td>Republican</td>\n      <td>45.7</td>\n      <td>2008</td>\n      <td>loss</td>\n    </tr>\n    <tr>\n      <th>6</th>\n      <td>Dukakis</td>\n      <td>Democratic</td>\n      <td>45.6</td>\n      <td>1988</td>\n      <td>loss</td>\n    </tr>\n    <tr>\n      <th>7</th>\n      <td>Clinton</td>\n      <td>Democratic</td>\n      <td>43.0</td>\n      <td>1992</td>\n      <td>win</td>\n    </tr>\n    <tr>\n      <th>1</th>\n      <td>Carter</td>\n      <td>Democratic</td>\n      <td>41.0</td>\n      <td>1980</td>\n      <td>loss</td>\n    </tr>\n    <tr>\n      <th>11</th>\n      <td>Dole</td>\n      <td>Republican</td>\n      <td>40.7</td>\n      <td>1996</td>\n      <td>loss</td>\n    </tr>\n    <tr>\n      <th>4</th>\n      <td>Mondale</td>\n      <td>Democratic</td>\n      <td>37.6</td>\n      <td>1984</td>\n      <td>loss</td>\n    </tr>\n    <tr>\n      <th>8</th>\n      <td>Bush</td>\n      <td>Republican</td>\n      <td>37.4</td>\n      <td>1992</td>\n      <td>loss</td>\n    </tr>\n    <tr>\n      <th>9</th>\n      <td>Perot</td>\n      <td>Independent</td>\n      <td>18.9</td>\n      <td>1992</td>\n      <td>loss</td>\n    </tr>\n    <tr>\n      <th>12</th>\n      <td>Perot</td>\n      <td>Independent</td>\n      <td>8.4</td>\n      <td>1996</td>\n      <td>loss</td>\n    </tr>\n    <tr>\n      <th>2</th>\n      <td>Anderson</td>\n      <td>Independent</td>\n      <td>6.6</td>\n      <td>1980</td>\n      <td>loss</td>\n    </tr>\n  </tbody>\n</table>\n</div>",
      "text/plain": "   Candidate        Party     %  Year Result\n3     Reagan   Republican  58.8  1984    win\n5       Bush   Republican  53.4  1988    win\n17     Obama   Democratic  52.9  2008    win\n19     Obama   Democratic  51.1  2012    win\n0     Reagan   Republican  50.7  1980    win\n16      Bush   Republican  50.7  2004    win\n10   Clinton   Democratic  49.2  1996    win\n13      Gore   Democratic  48.4  2000   loss\n15     Kerry   Democratic  48.3  2004   loss\n21   Clinton   Democratic  48.2  2016   loss\n14      Bush   Republican  47.9  2000    win\n20    Romney   Republican  47.2  2012   loss\n22     Trump   Republican  46.1  2016    win\n18    McCain   Republican  45.7  2008   loss\n6    Dukakis   Democratic  45.6  1988   loss\n7    Clinton   Democratic  43.0  1992    win\n1     Carter   Democratic  41.0  1980   loss\n11      Dole   Republican  40.7  1996   loss\n4    Mondale   Democratic  37.6  1984   loss\n8       Bush   Republican  37.4  1992   loss\n9      Perot  Independent  18.9  1992   loss\n12     Perot  Independent   8.4  1996   loss\n2   Anderson  Independent   6.6  1980   loss"
     },
     "execution_count": 60,
     "metadata": {},
     "output_type": "execute_result"
    }
   ],
   "source": [
    "elections.sort_values('%', ascending=False)"
   ]
  },
  {
   "cell_type": "markdown",
   "metadata": {},
   "source": [
    "As mentioned before, all Data Frame methods return a copy and do **not** modify the original data structure, unless you set inplace to True."
   ]
  },
  {
   "cell_type": "code",
   "execution_count": 61,
   "metadata": {},
   "outputs": [
    {
     "data": {
      "text/html": "<div>\n<style scoped>\n    .dataframe tbody tr th:only-of-type {\n        vertical-align: middle;\n    }\n\n    .dataframe tbody tr th {\n        vertical-align: top;\n    }\n\n    .dataframe thead th {\n        text-align: right;\n    }\n</style>\n<table border=\"1\" class=\"dataframe\">\n  <thead>\n    <tr style=\"text-align: right;\">\n      <th></th>\n      <th>Candidate</th>\n      <th>Party</th>\n      <th>%</th>\n      <th>Year</th>\n      <th>Result</th>\n    </tr>\n  </thead>\n  <tbody>\n    <tr>\n      <th>0</th>\n      <td>Reagan</td>\n      <td>Republican</td>\n      <td>50.7</td>\n      <td>1980</td>\n      <td>win</td>\n    </tr>\n    <tr>\n      <th>1</th>\n      <td>Carter</td>\n      <td>Democratic</td>\n      <td>41.0</td>\n      <td>1980</td>\n      <td>loss</td>\n    </tr>\n    <tr>\n      <th>2</th>\n      <td>Anderson</td>\n      <td>Independent</td>\n      <td>6.6</td>\n      <td>1980</td>\n      <td>loss</td>\n    </tr>\n    <tr>\n      <th>3</th>\n      <td>Reagan</td>\n      <td>Republican</td>\n      <td>58.8</td>\n      <td>1984</td>\n      <td>win</td>\n    </tr>\n    <tr>\n      <th>4</th>\n      <td>Mondale</td>\n      <td>Democratic</td>\n      <td>37.6</td>\n      <td>1984</td>\n      <td>loss</td>\n    </tr>\n  </tbody>\n</table>\n</div>",
      "text/plain": "  Candidate        Party     %  Year Result\n0    Reagan   Republican  50.7  1980    win\n1    Carter   Democratic  41.0  1980   loss\n2  Anderson  Independent   6.6  1980   loss\n3    Reagan   Republican  58.8  1984    win\n4   Mondale   Democratic  37.6  1984   loss"
     },
     "execution_count": 61,
     "metadata": {},
     "output_type": "execute_result"
    }
   ],
   "source": [
    "elections.head(5)"
   ]
  },
  {
   "cell_type": "markdown",
   "metadata": {},
   "source": [
    "If we want to sort in reverse order, we can set `ascending=False`."
   ]
  },
  {
   "cell_type": "code",
   "execution_count": 62,
   "metadata": {},
   "outputs": [
    {
     "data": {
      "text/html": "<div>\n<style scoped>\n    .dataframe tbody tr th:only-of-type {\n        vertical-align: middle;\n    }\n\n    .dataframe tbody tr th {\n        vertical-align: top;\n    }\n\n    .dataframe thead th {\n        text-align: right;\n    }\n</style>\n<table border=\"1\" class=\"dataframe\">\n  <thead>\n    <tr style=\"text-align: right;\">\n      <th></th>\n      <th>Candidate</th>\n      <th>Party</th>\n      <th>%</th>\n      <th>Year</th>\n      <th>Result</th>\n    </tr>\n  </thead>\n  <tbody>\n    <tr>\n      <th>3</th>\n      <td>Reagan</td>\n      <td>Republican</td>\n      <td>58.8</td>\n      <td>1984</td>\n      <td>win</td>\n    </tr>\n    <tr>\n      <th>5</th>\n      <td>Bush</td>\n      <td>Republican</td>\n      <td>53.4</td>\n      <td>1988</td>\n      <td>win</td>\n    </tr>\n    <tr>\n      <th>17</th>\n      <td>Obama</td>\n      <td>Democratic</td>\n      <td>52.9</td>\n      <td>2008</td>\n      <td>win</td>\n    </tr>\n    <tr>\n      <th>19</th>\n      <td>Obama</td>\n      <td>Democratic</td>\n      <td>51.1</td>\n      <td>2012</td>\n      <td>win</td>\n    </tr>\n    <tr>\n      <th>0</th>\n      <td>Reagan</td>\n      <td>Republican</td>\n      <td>50.7</td>\n      <td>1980</td>\n      <td>win</td>\n    </tr>\n    <tr>\n      <th>16</th>\n      <td>Bush</td>\n      <td>Republican</td>\n      <td>50.7</td>\n      <td>2004</td>\n      <td>win</td>\n    </tr>\n    <tr>\n      <th>10</th>\n      <td>Clinton</td>\n      <td>Democratic</td>\n      <td>49.2</td>\n      <td>1996</td>\n      <td>win</td>\n    </tr>\n    <tr>\n      <th>13</th>\n      <td>Gore</td>\n      <td>Democratic</td>\n      <td>48.4</td>\n      <td>2000</td>\n      <td>loss</td>\n    </tr>\n    <tr>\n      <th>15</th>\n      <td>Kerry</td>\n      <td>Democratic</td>\n      <td>48.3</td>\n      <td>2004</td>\n      <td>loss</td>\n    </tr>\n    <tr>\n      <th>21</th>\n      <td>Clinton</td>\n      <td>Democratic</td>\n      <td>48.2</td>\n      <td>2016</td>\n      <td>loss</td>\n    </tr>\n    <tr>\n      <th>14</th>\n      <td>Bush</td>\n      <td>Republican</td>\n      <td>47.9</td>\n      <td>2000</td>\n      <td>win</td>\n    </tr>\n    <tr>\n      <th>20</th>\n      <td>Romney</td>\n      <td>Republican</td>\n      <td>47.2</td>\n      <td>2012</td>\n      <td>loss</td>\n    </tr>\n    <tr>\n      <th>22</th>\n      <td>Trump</td>\n      <td>Republican</td>\n      <td>46.1</td>\n      <td>2016</td>\n      <td>win</td>\n    </tr>\n    <tr>\n      <th>18</th>\n      <td>McCain</td>\n      <td>Republican</td>\n      <td>45.7</td>\n      <td>2008</td>\n      <td>loss</td>\n    </tr>\n    <tr>\n      <th>6</th>\n      <td>Dukakis</td>\n      <td>Democratic</td>\n      <td>45.6</td>\n      <td>1988</td>\n      <td>loss</td>\n    </tr>\n    <tr>\n      <th>7</th>\n      <td>Clinton</td>\n      <td>Democratic</td>\n      <td>43.0</td>\n      <td>1992</td>\n      <td>win</td>\n    </tr>\n    <tr>\n      <th>1</th>\n      <td>Carter</td>\n      <td>Democratic</td>\n      <td>41.0</td>\n      <td>1980</td>\n      <td>loss</td>\n    </tr>\n    <tr>\n      <th>11</th>\n      <td>Dole</td>\n      <td>Republican</td>\n      <td>40.7</td>\n      <td>1996</td>\n      <td>loss</td>\n    </tr>\n    <tr>\n      <th>4</th>\n      <td>Mondale</td>\n      <td>Democratic</td>\n      <td>37.6</td>\n      <td>1984</td>\n      <td>loss</td>\n    </tr>\n    <tr>\n      <th>8</th>\n      <td>Bush</td>\n      <td>Republican</td>\n      <td>37.4</td>\n      <td>1992</td>\n      <td>loss</td>\n    </tr>\n    <tr>\n      <th>9</th>\n      <td>Perot</td>\n      <td>Independent</td>\n      <td>18.9</td>\n      <td>1992</td>\n      <td>loss</td>\n    </tr>\n    <tr>\n      <th>12</th>\n      <td>Perot</td>\n      <td>Independent</td>\n      <td>8.4</td>\n      <td>1996</td>\n      <td>loss</td>\n    </tr>\n    <tr>\n      <th>2</th>\n      <td>Anderson</td>\n      <td>Independent</td>\n      <td>6.6</td>\n      <td>1980</td>\n      <td>loss</td>\n    </tr>\n  </tbody>\n</table>\n</div>",
      "text/plain": "   Candidate        Party     %  Year Result\n3     Reagan   Republican  58.8  1984    win\n5       Bush   Republican  53.4  1988    win\n17     Obama   Democratic  52.9  2008    win\n19     Obama   Democratic  51.1  2012    win\n0     Reagan   Republican  50.7  1980    win\n16      Bush   Republican  50.7  2004    win\n10   Clinton   Democratic  49.2  1996    win\n13      Gore   Democratic  48.4  2000   loss\n15     Kerry   Democratic  48.3  2004   loss\n21   Clinton   Democratic  48.2  2016   loss\n14      Bush   Republican  47.9  2000    win\n20    Romney   Republican  47.2  2012   loss\n22     Trump   Republican  46.1  2016    win\n18    McCain   Republican  45.7  2008   loss\n6    Dukakis   Democratic  45.6  1988   loss\n7    Clinton   Democratic  43.0  1992    win\n1     Carter   Democratic  41.0  1980   loss\n11      Dole   Republican  40.7  1996   loss\n4    Mondale   Democratic  37.6  1984   loss\n8       Bush   Republican  37.4  1992   loss\n9      Perot  Independent  18.9  1992   loss\n12     Perot  Independent   8.4  1996   loss\n2   Anderson  Independent   6.6  1980   loss"
     },
     "execution_count": 62,
     "metadata": {},
     "output_type": "execute_result"
    }
   ],
   "source": [
    "elections.sort_values('%', ascending=False)"
   ]
  },
  {
   "cell_type": "markdown",
   "metadata": {},
   "source": [
    "We can also use `sort_values` on Series objects."
   ]
  },
  {
   "cell_type": "code",
   "execution_count": 63,
   "metadata": {
    "scrolled": true
   },
   "outputs": [
    {
     "data": {
      "text/plain": "State\nMontana           Spanish\nMaine               Latin\nWest Virginia       Latin\nVirginia            Latin\nVermont             Latin\nSouth Carolina      Latin\nOregon              Latin\nOklahoma            Latin\nNorth Dakota        Latin\nNorth Carolina      Latin\nName: Language, dtype: object"
     },
     "execution_count": 63,
     "metadata": {},
     "output_type": "execute_result"
    }
   ],
   "source": [
    "mottos['Language'].sort_values(ascending=False).head(10)"
   ]
  },
  {
   "cell_type": "markdown",
   "metadata": {},
   "source": [
    "For Series, the `value_counts` method is often quite handy."
   ]
  },
  {
   "cell_type": "code",
   "execution_count": 64,
   "metadata": {},
   "outputs": [
    {
     "data": {
      "text/plain": "Republican     10\nDemocratic     10\nIndependent     3\nName: Party, dtype: int64"
     },
     "execution_count": 64,
     "metadata": {},
     "output_type": "execute_result"
    }
   ],
   "source": [
    "elections['Party'].value_counts()"
   ]
  },
  {
   "cell_type": "code",
   "execution_count": 65,
   "metadata": {},
   "outputs": [
    {
     "data": {
      "text/plain": "Latin             23\nEnglish           21\nGreek              1\nHawaiian           1\nItalian            1\nFrench             1\nSpanish            1\nChinook Jargon     1\nName: Language, dtype: int64"
     },
     "execution_count": 65,
     "metadata": {},
     "output_type": "execute_result"
    }
   ],
   "source": [
    "mottos['Language'].value_counts()"
   ]
  },
  {
   "cell_type": "markdown",
   "metadata": {},
   "source": [
    "Also commonly used is the `unique` method, which returns all unique values as a numpy array."
   ]
  },
  {
   "cell_type": "code",
   "execution_count": 66,
   "metadata": {},
   "outputs": [
    {
     "data": {
      "text/plain": "array(['Latin', 'English', 'Greek', 'Hawaiian', 'Italian', 'French',\n       'Spanish', 'Chinook Jargon'], dtype=object)"
     },
     "execution_count": 66,
     "metadata": {},
     "output_type": "execute_result"
    }
   ],
   "source": [
    "mottos['Language'].unique()"
   ]
  },
  {
   "cell_type": "markdown",
   "metadata": {},
   "source": [
    "## Baby Names Data"
   ]
  },
  {
   "cell_type": "markdown",
   "metadata": {},
   "source": [
    "Now let's play around a bit with a large baby names dataset that is publicly available. We'll start by loading that dataset from the social security administration's website.\n",
    "\n",
    "To keep the data small enough to avoid crashing datahub, we're going to look at only California rather than looking at the national dataset."
   ]
  },
  {
   "cell_type": "code",
   "execution_count": 67,
   "metadata": {},
   "outputs": [
    {
     "data": {
      "text/html": "<div>\n<style scoped>\n    .dataframe tbody tr th:only-of-type {\n        vertical-align: middle;\n    }\n\n    .dataframe tbody tr th {\n        vertical-align: top;\n    }\n\n    .dataframe thead th {\n        text-align: right;\n    }\n</style>\n<table border=\"1\" class=\"dataframe\">\n  <thead>\n    <tr style=\"text-align: right;\">\n      <th></th>\n      <th>State</th>\n      <th>Sex</th>\n      <th>Year</th>\n      <th>Name</th>\n      <th>Count</th>\n    </tr>\n  </thead>\n  <tbody>\n    <tr>\n      <th>20807</th>\n      <td>CA</td>\n      <td>F</td>\n      <td>1944</td>\n      <td>Lucille</td>\n      <td>84</td>\n    </tr>\n    <tr>\n      <th>357434</th>\n      <td>CA</td>\n      <td>M</td>\n      <td>2008</td>\n      <td>Sidney</td>\n      <td>25</td>\n    </tr>\n    <tr>\n      <th>386226</th>\n      <td>CA</td>\n      <td>M</td>\n      <td>2018</td>\n      <td>Sterling</td>\n      <td>59</td>\n    </tr>\n    <tr>\n      <th>197488</th>\n      <td>CA</td>\n      <td>F</td>\n      <td>2011</td>\n      <td>Ysabelle</td>\n      <td>5</td>\n    </tr>\n    <tr>\n      <th>309431</th>\n      <td>CA</td>\n      <td>M</td>\n      <td>1989</td>\n      <td>Donavon</td>\n      <td>6</td>\n    </tr>\n  </tbody>\n</table>\n</div>",
      "text/plain": "       State Sex  Year      Name  Count\n20807     CA   F  1944   Lucille     84\n357434    CA   M  2008    Sidney     25\n386226    CA   M  2018  Sterling     59\n197488    CA   F  2011  Ysabelle      5\n309431    CA   M  1989   Donavon      6"
     },
     "execution_count": 67,
     "metadata": {},
     "output_type": "execute_result"
    }
   ],
   "source": [
    "import urllib.request\n",
    "import os.path\n",
    "import zipfile\n",
    "\n",
    "data_url = \"https://www.ssa.gov/oact/babynames/state/namesbystate.zip\"\n",
    "local_filename = \"babynamesbystate.zip\"\n",
    "if not os.path.exists(local_filename): # if the data exists don't download again\n",
    "    with urllib.request.urlopen(data_url) as resp, open(local_filename, 'wb') as f:\n",
    "        f.write(resp.read())\n",
    "\n",
    "zf = zipfile.ZipFile(local_filename, 'r')\n",
    "\n",
    "ca_name = 'CA.TXT'\n",
    "field_names = ['State', 'Sex', 'Year', 'Name', 'Count']\n",
    "with zf.open(ca_name) as fh:\n",
    "    babynames = pd.read_csv(fh, header=None, names=field_names)\n",
    "\n",
    "babynames.sample(5)"
   ]
  },
  {
   "cell_type": "code",
   "execution_count": 68,
   "metadata": {},
   "outputs": [
    {
     "data": {
      "text/html": "<div>\n<style scoped>\n    .dataframe tbody tr th:only-of-type {\n        vertical-align: middle;\n    }\n\n    .dataframe tbody tr th {\n        vertical-align: top;\n    }\n\n    .dataframe thead th {\n        text-align: right;\n    }\n</style>\n<table border=\"1\" class=\"dataframe\">\n  <thead>\n    <tr style=\"text-align: right;\">\n      <th></th>\n      <th>State</th>\n      <th>Sex</th>\n      <th>Year</th>\n      <th>Name</th>\n      <th>Count</th>\n    </tr>\n  </thead>\n  <tbody>\n    <tr>\n      <th>count</th>\n      <td>394179</td>\n      <td>394179</td>\n      <td>394179.000000</td>\n      <td>394179</td>\n      <td>394179.000000</td>\n    </tr>\n    <tr>\n      <th>unique</th>\n      <td>1</td>\n      <td>2</td>\n      <td>NaN</td>\n      <td>20029</td>\n      <td>NaN</td>\n    </tr>\n    <tr>\n      <th>top</th>\n      <td>CA</td>\n      <td>F</td>\n      <td>NaN</td>\n      <td>Jean</td>\n      <td>NaN</td>\n    </tr>\n    <tr>\n      <th>freq</th>\n      <td>394179</td>\n      <td>232102</td>\n      <td>NaN</td>\n      <td>219</td>\n      <td>NaN</td>\n    </tr>\n    <tr>\n      <th>mean</th>\n      <td>NaN</td>\n      <td>NaN</td>\n      <td>1984.534473</td>\n      <td>NaN</td>\n      <td>80.361912</td>\n    </tr>\n    <tr>\n      <th>std</th>\n      <td>NaN</td>\n      <td>NaN</td>\n      <td>26.638252</td>\n      <td>NaN</td>\n      <td>297.136533</td>\n    </tr>\n    <tr>\n      <th>min</th>\n      <td>NaN</td>\n      <td>NaN</td>\n      <td>1910.000000</td>\n      <td>NaN</td>\n      <td>5.000000</td>\n    </tr>\n    <tr>\n      <th>25%</th>\n      <td>NaN</td>\n      <td>NaN</td>\n      <td>1968.000000</td>\n      <td>NaN</td>\n      <td>7.000000</td>\n    </tr>\n    <tr>\n      <th>50%</th>\n      <td>NaN</td>\n      <td>NaN</td>\n      <td>1991.000000</td>\n      <td>NaN</td>\n      <td>13.000000</td>\n    </tr>\n    <tr>\n      <th>75%</th>\n      <td>NaN</td>\n      <td>NaN</td>\n      <td>2006.000000</td>\n      <td>NaN</td>\n      <td>39.000000</td>\n    </tr>\n    <tr>\n      <th>max</th>\n      <td>NaN</td>\n      <td>NaN</td>\n      <td>2020.000000</td>\n      <td>NaN</td>\n      <td>8259.000000</td>\n    </tr>\n  </tbody>\n</table>\n</div>",
      "text/plain": "         State     Sex           Year    Name          Count\ncount   394179  394179  394179.000000  394179  394179.000000\nunique       1       2            NaN   20029            NaN\ntop         CA       F            NaN    Jean            NaN\nfreq    394179  232102            NaN     219            NaN\nmean       NaN     NaN    1984.534473     NaN      80.361912\nstd        NaN     NaN      26.638252     NaN     297.136533\nmin        NaN     NaN    1910.000000     NaN       5.000000\n25%        NaN     NaN    1968.000000     NaN       7.000000\n50%        NaN     NaN    1991.000000     NaN      13.000000\n75%        NaN     NaN    2006.000000     NaN      39.000000\nmax        NaN     NaN    2020.000000     NaN    8259.000000"
     },
     "execution_count": 68,
     "metadata": {},
     "output_type": "execute_result"
    }
   ],
   "source": [
    "#Note that the babynames dataset includes both numeric and non-numeric information.  describe() defaults to just showing\n",
    "# numbers for mixed datasets, include='all' will show summaries for all columns.  But look at this.  Just because it can\n",
    "# doesn't mean an output is useful. \n",
    "babynames.describe(include='all')"
   ]
  },
  {
   "cell_type": "markdown",
   "metadata": {},
   "source": [
    "# Excercises\n",
    "\n",
    "Here are a list of questions to pull from the babynames dataset. \n",
    "\n",
    "What was the most popular name given in any year?\n",
    "\n",
    "What was the most popular male name?\n",
    "\n",
    "What was the most popular female name?\n",
    "\n",
    "What was the most popular female and male name in 2018? \n",
    "\n",
    "What were the top-10 names for the year you were born?\n",
    "\n",
    "\n",
    "## Harder goals:\n",
    "\n",
    "How many unique names exist in the dataset? \n",
    "\n",
    "How many different names were given to Males compared with Females? In 1960? in 2020?\n",
    "\n",
    "\n",
    "What other questions can we ask?  Give me the questions.  \n"
   ]
  },
  {
   "cell_type": "code",
   "execution_count": 69,
   "metadata": {},
   "outputs": [
    {
     "data": {
      "text/html": "<div>\n<style scoped>\n    .dataframe tbody tr th:only-of-type {\n        vertical-align: middle;\n    }\n\n    .dataframe tbody tr th {\n        vertical-align: top;\n    }\n\n    .dataframe thead th {\n        text-align: right;\n    }\n</style>\n<table border=\"1\" class=\"dataframe\">\n  <thead>\n    <tr style=\"text-align: right;\">\n      <th></th>\n      <th>State</th>\n      <th>Sex</th>\n      <th>Year</th>\n      <th>Name</th>\n      <th>Count</th>\n    </tr>\n  </thead>\n  <tbody>\n    <tr>\n      <th>259583</th>\n      <td>CA</td>\n      <td>M</td>\n      <td>1956</td>\n      <td>Michael</td>\n      <td>8259</td>\n    </tr>\n  </tbody>\n</table>\n</div>",
      "text/plain": "       State Sex  Year     Name  Count\n259583    CA   M  1956  Michael   8259"
     },
     "execution_count": 69,
     "metadata": {},
     "output_type": "execute_result"
    }
   ],
   "source": [
    "#what was the most popular name given in any year?\n",
    "\n",
    "babynames.sort_values('Count').tail(1)"
   ]
  },
  {
   "cell_type": "code",
   "execution_count": 70,
   "metadata": {},
   "outputs": [
    {
     "data": {
      "text/html": "<div>\n<style scoped>\n    .dataframe tbody tr th:only-of-type {\n        vertical-align: middle;\n    }\n\n    .dataframe tbody tr th {\n        vertical-align: top;\n    }\n\n    .dataframe thead th {\n        text-align: right;\n    }\n</style>\n<table border=\"1\" class=\"dataframe\">\n  <thead>\n    <tr style=\"text-align: right;\">\n      <th></th>\n      <th>State</th>\n      <th>Sex</th>\n      <th>Year</th>\n      <th>Name</th>\n      <th>Count</th>\n    </tr>\n  </thead>\n  <tbody>\n    <tr>\n      <th>259583</th>\n      <td>CA</td>\n      <td>M</td>\n      <td>1956</td>\n      <td>Michael</td>\n      <td>8259</td>\n    </tr>\n  </tbody>\n</table>\n</div>",
      "text/plain": "       State Sex  Year     Name  Count\n259583    CA   M  1956  Michael   8259"
     },
     "execution_count": 70,
     "metadata": {},
     "output_type": "execute_result"
    }
   ],
   "source": [
    "#What was the most popular male name?\n",
    "babynames[babynames['Sex']=='M'].sort_values('Count').tail(1)"
   ]
  },
  {
   "cell_type": "code",
   "execution_count": 71,
   "metadata": {},
   "outputs": [
    {
     "data": {
      "text/html": "<div>\n<style scoped>\n    .dataframe tbody tr th:only-of-type {\n        vertical-align: middle;\n    }\n\n    .dataframe tbody tr th {\n        vertical-align: top;\n    }\n\n    .dataframe thead th {\n        text-align: right;\n    }\n</style>\n<table border=\"1\" class=\"dataframe\">\n  <thead>\n    <tr style=\"text-align: right;\">\n      <th></th>\n      <th>State</th>\n      <th>Sex</th>\n      <th>Year</th>\n      <th>Name</th>\n      <th>Count</th>\n    </tr>\n  </thead>\n  <tbody>\n    <tr>\n      <th>116363</th>\n      <td>CA</td>\n      <td>F</td>\n      <td>1991</td>\n      <td>Jessica</td>\n      <td>6951</td>\n    </tr>\n  </tbody>\n</table>\n</div>",
      "text/plain": "       State Sex  Year     Name  Count\n116363    CA   F  1991  Jessica   6951"
     },
     "execution_count": 71,
     "metadata": {},
     "output_type": "execute_result"
    }
   ],
   "source": [
    "#What was the most popular female name?\n",
    "babynames[babynames['Sex']=='F'].sort_values('Count').tail(1)"
   ]
  },
  {
   "cell_type": "code",
   "execution_count": 72,
   "metadata": {},
   "outputs": [
    {
     "name": "stdout",
     "output_type": "stream",
     "text": [
      "       State Sex  Year  Name  Count\n",
      "221160    CA   F  2018  Emma   2743\n",
      "       State Sex  Year  Name  Count\n",
      "385701    CA   M  2018  Noah   2569\n"
     ]
    }
   ],
   "source": [
    "#What was the most popular female and male name in 2018? \n",
    "mostPopularFemale2018 = babynames[ (babynames['Sex']=='F') & (babynames['Year']==2018)].sort_values('Count').tail(1)\n",
    "mostPopularMale2018 = babynames[ (babynames['Sex']=='M') & (babynames['Year']==2018)].sort_values('Count').tail(1)\n",
    "\n",
    "print(mostPopularFemale2018)\n",
    "print(mostPopularMale2018)"
   ]
  },
  {
   "cell_type": "code",
   "execution_count": 73,
   "metadata": {},
   "outputs": [
    {
     "data": {
      "text/html": "<div>\n<style scoped>\n    .dataframe tbody tr th:only-of-type {\n        vertical-align: middle;\n    }\n\n    .dataframe tbody tr th {\n        vertical-align: top;\n    }\n\n    .dataframe thead th {\n        text-align: right;\n    }\n</style>\n<table border=\"1\" class=\"dataframe\">\n  <thead>\n    <tr style=\"text-align: right;\">\n      <th></th>\n      <th>State</th>\n      <th>Sex</th>\n      <th>Year</th>\n      <th>Name</th>\n      <th>Count</th>\n    </tr>\n  </thead>\n  <tbody>\n    <tr>\n      <th>335012</th>\n      <td>CA</td>\n      <td>M</td>\n      <td>2000</td>\n      <td>Matthew</td>\n      <td>3254</td>\n    </tr>\n    <tr>\n      <th>335011</th>\n      <td>CA</td>\n      <td>M</td>\n      <td>2000</td>\n      <td>David</td>\n      <td>3280</td>\n    </tr>\n    <tr>\n      <th>335010</th>\n      <td>CA</td>\n      <td>M</td>\n      <td>2000</td>\n      <td>Christopher</td>\n      <td>3336</td>\n    </tr>\n    <tr>\n      <th>335009</th>\n      <td>CA</td>\n      <td>M</td>\n      <td>2000</td>\n      <td>Joshua</td>\n      <td>3356</td>\n    </tr>\n    <tr>\n      <th>335008</th>\n      <td>CA</td>\n      <td>M</td>\n      <td>2000</td>\n      <td>Jacob</td>\n      <td>3520</td>\n    </tr>\n    <tr>\n      <th>335007</th>\n      <td>CA</td>\n      <td>M</td>\n      <td>2000</td>\n      <td>Michael</td>\n      <td>3572</td>\n    </tr>\n    <tr>\n      <th>335006</th>\n      <td>CA</td>\n      <td>M</td>\n      <td>2000</td>\n      <td>Andrew</td>\n      <td>3600</td>\n    </tr>\n    <tr>\n      <th>335005</th>\n      <td>CA</td>\n      <td>M</td>\n      <td>2000</td>\n      <td>Jose</td>\n      <td>3804</td>\n    </tr>\n    <tr>\n      <th>335004</th>\n      <td>CA</td>\n      <td>M</td>\n      <td>2000</td>\n      <td>Anthony</td>\n      <td>3839</td>\n    </tr>\n    <tr>\n      <th>335003</th>\n      <td>CA</td>\n      <td>M</td>\n      <td>2000</td>\n      <td>Daniel</td>\n      <td>4342</td>\n    </tr>\n  </tbody>\n</table>\n</div>",
      "text/plain": "       State Sex  Year         Name  Count\n335012    CA   M  2000      Matthew   3254\n335011    CA   M  2000        David   3280\n335010    CA   M  2000  Christopher   3336\n335009    CA   M  2000       Joshua   3356\n335008    CA   M  2000        Jacob   3520\n335007    CA   M  2000      Michael   3572\n335006    CA   M  2000       Andrew   3600\n335005    CA   M  2000         Jose   3804\n335004    CA   M  2000      Anthony   3839\n335003    CA   M  2000       Daniel   4342"
     },
     "execution_count": 73,
     "metadata": {},
     "output_type": "execute_result"
    }
   ],
   "source": [
    "#What were the top-10 names for the year you were born?\n",
    "\n",
    "babynames[ (babynames['Year']==2000)].sort_values('Count').tail(10)\n"
   ]
  },
  {
   "cell_type": "code",
   "execution_count": 74,
   "metadata": {},
   "outputs": [
    {
     "data": {
      "text/plain": "(20029,)"
     },
     "execution_count": 74,
     "metadata": {},
     "output_type": "execute_result"
    }
   ],
   "source": [
    "#How many unique names exist in the dataset? \n",
    "babynames['Name'].unique().shape\n"
   ]
  },
  {
   "cell_type": "code",
   "execution_count": 77,
   "metadata": {},
   "outputs": [
    {
     "name": "stdout",
     "output_type": "stream",
     "text": [
      "Unique Female Names in 1960:  1777\n",
      "Unique Male Names in 1960:  1125\n",
      "Unique Female Names in 2020:  3593\n",
      "Unique Male Names in 2020:  2770\n"
     ]
    }
   ],
   "source": [
    "#How many different names were given to Males compared with Females? In 1960? in 2020?\n",
    "FemaleNamesIn1960= babynames[ (babynames['Year']==1960) & (babynames['Sex']=='F') ]\n",
    "MaleNamesIn1960= babynames[ (babynames['Year']==1960) & (babynames['Sex']=='M') ]\n",
    "\n",
    "FemaleNamesIn2020= babynames[ (babynames['Year']==2020) & (babynames['Sex']=='F') ]\n",
    "MaleNamesIn2020= babynames[ (babynames['Year']==2020) & (babynames['Sex']=='M') ]\n",
    "\n",
    "#Here I am showing how to print values with some extra information.\n",
    "#You just separate the string in \"\" from the variable you want to show with a  comma: ,\n",
    "print(\"Unique Female Names in 1960: \", FemaleNamesIn1960['Name'].unique().shape[0])\n",
    "print(\"Unique Male Names in 1960: \", MaleNamesIn1960['Name'].unique().shape[0])\n",
    "print(\"Unique Female Names in 2020: \", FemaleNamesIn2020['Name'].unique().shape[0])\n",
    "print(\"Unique Male Names in 2020: \", MaleNamesIn2020['Name'].unique().shape[0])\n",
    "\n",
    "\n"
   ]
  },
  {
   "cell_type": "code",
   "execution_count": null,
   "metadata": {},
   "outputs": [],
   "source": []
  },
  {
   "cell_type": "code",
   "execution_count": null,
   "metadata": {},
   "outputs": [],
   "source": []
  }
 ],
 "metadata": {
  "kernelspec": {
   "display_name": "Python 3.8.10 64-bit ('jmaJupyterPy38': conda)",
   "name": "python3810jvsc74a57bd017445a4fc8918f5d567c21d42053b58d1bb2666d398f50777a1b4ea52e90fb83"
  },
  "language_info": {
   "codemirror_mode": {
    "name": "ipython",
    "version": 3
   },
   "file_extension": ".py",
   "mimetype": "text/x-python",
   "name": "python",
   "nbconvert_exporter": "python",
   "pygments_lexer": "ipython3",
   "version": "3.8.10"
  }
 },
 "nbformat": 4,
 "nbformat_minor": 4
}