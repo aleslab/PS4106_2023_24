{
 "cells": [
  {
   "cell_type": "markdown",
   "metadata": {},
   "source": [
    "# Introduction to Pandas 2, Excercise Answers\n"
   ]
  },
  {
   "cell_type": "code",
   "execution_count": 2,
   "metadata": {},
   "outputs": [
    {
     "data": {
      "text/html": "<div>\n<style scoped>\n    .dataframe tbody tr th:only-of-type {\n        vertical-align: middle;\n    }\n\n    .dataframe tbody tr th {\n        vertical-align: top;\n    }\n\n    .dataframe thead th {\n        text-align: right;\n    }\n</style>\n<table border=\"1\" class=\"dataframe\">\n  <thead>\n    <tr style=\"text-align: right;\">\n      <th></th>\n      <th>State</th>\n      <th>Sex</th>\n      <th>Year</th>\n      <th>Name</th>\n      <th>Count</th>\n    </tr>\n  </thead>\n  <tbody>\n    <tr>\n      <th>154542</th>\n      <td>CA</td>\n      <td>F</td>\n      <td>2001</td>\n      <td>Amiya</td>\n      <td>13</td>\n    </tr>\n    <tr>\n      <th>194131</th>\n      <td>CA</td>\n      <td>F</td>\n      <td>2011</td>\n      <td>Ainsley</td>\n      <td>61</td>\n    </tr>\n    <tr>\n      <th>339474</th>\n      <td>CA</td>\n      <td>M</td>\n      <td>2001</td>\n      <td>Codey</td>\n      <td>6</td>\n    </tr>\n    <tr>\n      <th>65860</th>\n      <td>CA</td>\n      <td>F</td>\n      <td>1972</td>\n      <td>Debora</td>\n      <td>26</td>\n    </tr>\n    <tr>\n      <th>221576</th>\n      <td>CA</td>\n      <td>F</td>\n      <td>2018</td>\n      <td>Rosa</td>\n      <td>92</td>\n    </tr>\n  </tbody>\n</table>\n</div>",
      "text/plain": "       State Sex  Year     Name  Count\n154542    CA   F  2001    Amiya     13\n194131    CA   F  2011  Ainsley     61\n339474    CA   M  2001    Codey      6\n65860     CA   F  1972   Debora     26\n221576    CA   F  2018     Rosa     92"
     },
     "execution_count": 2,
     "metadata": {},
     "output_type": "execute_result"
    }
   ],
   "source": [
    "%matplotlib inline\n",
    "import matplotlib.pyplot as plt\n",
    "import numpy as np\n",
    "import pandas as pd\n",
    "# import seaborn as sns\n",
    "# sns.set()\n",
    "\n",
    "from IPython.display import display\n",
    "import urllib.request\n",
    "import os.path\n",
    "import zipfile\n",
    "\n",
    "data_url = \"https://www.ssa.gov/oact/babynames/state/namesbystate.zip\"\n",
    "local_filename = \"../week_2/babynamesbystate.zip\"\n",
    "if not os.path.exists(local_filename): # if the data exists don't download again\n",
    "    with urllib.request.urlopen(data_url) as resp, open(local_filename, 'wb') as f:\n",
    "        f.write(resp.read())\n",
    "\n",
    "zf = zipfile.ZipFile(local_filename, 'r')\n",
    "\n",
    "ca_name = 'CA.TXT'\n",
    "field_names = ['State', 'Sex', 'Year', 'Name', 'Count']\n",
    "with zf.open(ca_name) as fh:\n",
    "    babynames = pd.read_csv(fh, header=None, names=field_names)\n",
    "\n",
    "babynames.sample(5)"
   ]
  },
  {
   "cell_type": "markdown",
   "metadata": {},
   "source": [
    "## Grouping\n",
    "\n",
    "More careful look at the most popular 2018 name in California.\n",
    "In last weeks tasks for popular names, we didn't take into account the unlikely possibility that the most popular name was actually spread across both birth sexes. For example, what if in the table below it turns out that there were 300 female Noahs born in CA in 2018. In that case, Noah would actually be the most popular.\n",
    "\n",
    "Since our queries are getting pretty long, I've stuck them inside parentheses which allows us to spread them over many lines."
   ]
  },
  {
   "cell_type": "code",
   "execution_count": 3,
   "metadata": {
    "scrolled": true
   },
   "outputs": [
    {
     "data": {
      "text/html": "<div>\n<style scoped>\n    .dataframe tbody tr th:only-of-type {\n        vertical-align: middle;\n    }\n\n    .dataframe tbody tr th {\n        vertical-align: top;\n    }\n\n    .dataframe thead th {\n        text-align: right;\n    }\n</style>\n<table border=\"1\" class=\"dataframe\">\n  <thead>\n    <tr style=\"text-align: right;\">\n      <th></th>\n      <th>State</th>\n      <th>Sex</th>\n      <th>Year</th>\n      <th>Name</th>\n      <th>Count</th>\n    </tr>\n  </thead>\n  <tbody>\n    <tr>\n      <th>221160</th>\n      <td>CA</td>\n      <td>F</td>\n      <td>2018</td>\n      <td>Emma</td>\n      <td>2743</td>\n    </tr>\n    <tr>\n      <th>385701</th>\n      <td>CA</td>\n      <td>M</td>\n      <td>2018</td>\n      <td>Noah</td>\n      <td>2569</td>\n    </tr>\n    <tr>\n      <th>221161</th>\n      <td>CA</td>\n      <td>F</td>\n      <td>2018</td>\n      <td>Mia</td>\n      <td>2499</td>\n    </tr>\n    <tr>\n      <th>221162</th>\n      <td>CA</td>\n      <td>F</td>\n      <td>2018</td>\n      <td>Olivia</td>\n      <td>2465</td>\n    </tr>\n    <tr>\n      <th>385702</th>\n      <td>CA</td>\n      <td>M</td>\n      <td>2018</td>\n      <td>Liam</td>\n      <td>2413</td>\n    </tr>\n  </tbody>\n</table>\n</div>",
      "text/plain": "       State Sex  Year    Name  Count\n221160    CA   F  2018    Emma   2743\n385701    CA   M  2018    Noah   2569\n221161    CA   F  2018     Mia   2499\n221162    CA   F  2018  Olivia   2465\n385702    CA   M  2018    Liam   2413"
     },
     "execution_count": 3,
     "metadata": {},
     "output_type": "execute_result"
    }
   ],
   "source": [
    "(\n",
    "babynames[babynames[\"Year\"] == 2018]\n",
    "    .sort_values(by = \"Count\", ascending = False)\n",
    "    .head(5)\n",
    ")"
   ]
  },
  {
   "cell_type": "markdown",
   "metadata": {},
   "source": [
    "Try to add a single line to the operation above so that each row represents the sum of male and female babies born in 2018 with that name. To do this, fill in the ??? below."
   ]
  },
  {
   "cell_type": "code",
   "execution_count": 4,
   "metadata": {},
   "outputs": [
    {
     "data": {
      "text/html": "<div>\n<style scoped>\n    .dataframe tbody tr th:only-of-type {\n        vertical-align: middle;\n    }\n\n    .dataframe tbody tr th {\n        vertical-align: top;\n    }\n\n    .dataframe thead th {\n        text-align: right;\n    }\n</style>\n<table border=\"1\" class=\"dataframe\">\n  <thead>\n    <tr style=\"text-align: right;\">\n      <th></th>\n      <th>Year</th>\n      <th>Count</th>\n    </tr>\n    <tr>\n      <th>Name</th>\n      <th></th>\n      <th></th>\n    </tr>\n  </thead>\n  <tbody>\n    <tr>\n      <th>Emma</th>\n      <td>2018</td>\n      <td>2743</td>\n    </tr>\n    <tr>\n      <th>Noah</th>\n      <td>4036</td>\n      <td>2581</td>\n    </tr>\n    <tr>\n      <th>Mia</th>\n      <td>2018</td>\n      <td>2499</td>\n    </tr>\n    <tr>\n      <th>Olivia</th>\n      <td>2018</td>\n      <td>2465</td>\n    </tr>\n    <tr>\n      <th>Liam</th>\n      <td>2018</td>\n      <td>2413</td>\n    </tr>\n  </tbody>\n</table>\n</div>",
      "text/plain": "        Year  Count\nName               \nEmma    2018   2743\nNoah    4036   2581\nMia     2018   2499\nOlivia  2018   2465\nLiam    2018   2413"
     },
     "execution_count": 4,
     "metadata": {},
     "output_type": "execute_result"
    }
   ],
   "source": [
    "(\n",
    "babynames[babynames[\"Year\"] == 2018]\n",
    "    .groupby(\"Name\")\n",
    "    .agg(sum)\n",
    "    .sort_values(by = \"Count\", ascending = False)\n",
    "    .head(5)\n",
    ")"
   ]
  },
  {
   "cell_type": "markdown",
   "metadata": {},
   "source": [
    "Can you make a table that lists the #1 names for the years 2000-2010?\n",
    "\n",
    "How many  babys in total were born in 1940? in 2020?\n",
    "\n",
    "Try ploting this use .plot() instead of selecting a year\n",
    "\n",
    "Before we were looking at the differences in popularity.  Considering the total numbers of babys born does this have any implications for how we should inpterpret our previous analysis above? \n",
    "\n",
    "Can you make a plot of the number of unique names given over the years?\n",
    "\n",
    "What other things can you think of?   Try and think of a question. "
   ]
  },
  {
   "cell_type": "code",
   "execution_count": null,
   "metadata": {},
   "outputs": [],
   "source": []
  },
  {
   "cell_type": "code",
   "execution_count": 5,
   "metadata": {},
   "outputs": [
    {
     "data": {
      "text/html": "<div>\n<style scoped>\n    .dataframe tbody tr th:only-of-type {\n        vertical-align: middle;\n    }\n\n    .dataframe tbody tr th {\n        vertical-align: top;\n    }\n\n    .dataframe thead th {\n        text-align: right;\n    }\n</style>\n<table border=\"1\" class=\"dataframe\">\n  <thead>\n    <tr style=\"text-align: right;\">\n      <th></th>\n      <th>State</th>\n      <th>Sex</th>\n      <th>Name</th>\n      <th>Count</th>\n    </tr>\n    <tr>\n      <th>Year</th>\n      <th></th>\n      <th></th>\n      <th></th>\n      <th></th>\n    </tr>\n  </thead>\n  <tbody>\n    <tr>\n      <th>2000</th>\n      <td>CA</td>\n      <td>M</td>\n      <td>Daniel</td>\n      <td>4342</td>\n    </tr>\n    <tr>\n      <th>2001</th>\n      <td>CA</td>\n      <td>M</td>\n      <td>Daniel</td>\n      <td>4165</td>\n    </tr>\n    <tr>\n      <th>2002</th>\n      <td>CA</td>\n      <td>M</td>\n      <td>Daniel</td>\n      <td>4132</td>\n    </tr>\n    <tr>\n      <th>2003</th>\n      <td>CA</td>\n      <td>M</td>\n      <td>Daniel</td>\n      <td>4033</td>\n    </tr>\n    <tr>\n      <th>2004</th>\n      <td>CA</td>\n      <td>M</td>\n      <td>Daniel</td>\n      <td>4170</td>\n    </tr>\n    <tr>\n      <th>2005</th>\n      <td>CA</td>\n      <td>M</td>\n      <td>Daniel</td>\n      <td>3914</td>\n    </tr>\n    <tr>\n      <th>2006</th>\n      <td>CA</td>\n      <td>M</td>\n      <td>Daniel</td>\n      <td>3830</td>\n    </tr>\n    <tr>\n      <th>2007</th>\n      <td>CA</td>\n      <td>M</td>\n      <td>Daniel</td>\n      <td>3869</td>\n    </tr>\n    <tr>\n      <th>2008</th>\n      <td>CA</td>\n      <td>M</td>\n      <td>Daniel</td>\n      <td>3754</td>\n    </tr>\n    <tr>\n      <th>2009</th>\n      <td>CA</td>\n      <td>M</td>\n      <td>Daniel</td>\n      <td>3394</td>\n    </tr>\n    <tr>\n      <th>2010</th>\n      <td>CA</td>\n      <td>F</td>\n      <td>Isabella</td>\n      <td>3370</td>\n    </tr>\n  </tbody>\n</table>\n</div>",
      "text/plain": "     State Sex      Name  Count\nYear                           \n2000    CA   M    Daniel   4342\n2001    CA   M    Daniel   4165\n2002    CA   M    Daniel   4132\n2003    CA   M    Daniel   4033\n2004    CA   M    Daniel   4170\n2005    CA   M    Daniel   3914\n2006    CA   M    Daniel   3830\n2007    CA   M    Daniel   3869\n2008    CA   M    Daniel   3754\n2009    CA   M    Daniel   3394\n2010    CA   F  Isabella   3370"
     },
     "execution_count": 5,
     "metadata": {},
     "output_type": "execute_result"
    }
   ],
   "source": [
    "#Can you make a table that lists the #1 names for the years 2000-2010?\n",
    "\n",
    "yearsToSelect = (babynames[\"Year\"]>=2000) & (babynames[\"Year\"]<=2010)\n",
    "\n",
    "babynamesSorted=babynames[yearsToSelect].sort_values(\"Count\", ascending=False)\n",
    "\n",
    "babynamesSorted.groupby(\"Year\").first()"
   ]
  },
  {
   "cell_type": "code",
   "execution_count": 6,
   "metadata": {},
   "outputs": [
    {
     "data": {
      "text/html": "<div>\n<style scoped>\n    .dataframe tbody tr th:only-of-type {\n        vertical-align: middle;\n    }\n\n    .dataframe tbody tr th {\n        vertical-align: top;\n    }\n\n    .dataframe thead th {\n        text-align: right;\n    }\n</style>\n<table border=\"1\" class=\"dataframe\">\n  <thead>\n    <tr style=\"text-align: right;\">\n      <th></th>\n      <th></th>\n      <th>Count</th>\n    </tr>\n    <tr>\n      <th>Year</th>\n      <th>Name</th>\n      <th></th>\n    </tr>\n  </thead>\n  <tbody>\n    <tr>\n      <th rowspan=\"5\" valign=\"top\">2000</th>\n      <th>Aakash</th>\n      <td>6</td>\n    </tr>\n    <tr>\n      <th>Aaliyah</th>\n      <td>120</td>\n    </tr>\n    <tr>\n      <th>Aamir</th>\n      <td>5</td>\n    </tr>\n    <tr>\n      <th>Aaron</th>\n      <td>1362</td>\n    </tr>\n    <tr>\n      <th>Aarushi</th>\n      <td>7</td>\n    </tr>\n    <tr>\n      <th>...</th>\n      <th>...</th>\n      <td>...</td>\n    </tr>\n    <tr>\n      <th rowspan=\"5\" valign=\"top\">2010</th>\n      <th>Zyan</th>\n      <td>6</td>\n    </tr>\n    <tr>\n      <th>Zyanna</th>\n      <td>5</td>\n    </tr>\n    <tr>\n      <th>Zyanya</th>\n      <td>9</td>\n    </tr>\n    <tr>\n      <th>Zylah</th>\n      <td>6</td>\n    </tr>\n    <tr>\n      <th>Zyon</th>\n      <td>6</td>\n    </tr>\n  </tbody>\n</table>\n<p>71533 rows × 1 columns</p>\n</div>",
      "text/plain": "              Count\nYear Name          \n2000 Aakash       6\n     Aaliyah    120\n     Aamir        5\n     Aaron     1362\n     Aarushi      7\n...             ...\n2010 Zyan         6\n     Zyanna       5\n     Zyanya       9\n     Zylah        6\n     Zyon         6\n\n[71533 rows x 1 columns]"
     },
     "execution_count": 6,
     "metadata": {},
     "output_type": "execute_result"
    }
   ],
   "source": [
    "babynames[yearsToSelect].groupby([\"Year\",\"Name\"]).agg(sum)"
   ]
  },
  {
   "cell_type": "code",
   "execution_count": 7,
   "metadata": {},
   "outputs": [
    {
     "data": {
      "text/plain": "Count    102620\nName: 1940, dtype: int64"
     },
     "execution_count": 7,
     "metadata": {},
     "output_type": "execute_result"
    }
   ],
   "source": [
    "#How many  babys in total were born in 1940? \n",
    "#Method 1\n",
    "babynames.groupby([\"Year\"]).agg(sum).loc[1940]\n",
    "\n",
    "\n"
   ]
  },
  {
   "cell_type": "code",
   "execution_count": null,
   "metadata": {},
   "outputs": [],
   "source": [
    "#in 2020?\n",
    "babynames.groupby([\"Year\"]).agg(sum).loc[2020]\n"
   ]
  },
  {
   "cell_type": "code",
   "execution_count": null,
   "metadata": {},
   "outputs": [],
   "source": [
    "#How many  babys in total were born in 1940? \n",
    "#Method 2\n",
    "total = babynames.loc[babynames['Year'] == 1940, 'Count'].sum()\n",
    "print(total)"
   ]
  },
  {
   "cell_type": "code",
   "execution_count": 8,
   "metadata": {},
   "outputs": [
    {
     "data": {
      "text/plain": "<AxesSubplot:xlabel='Year'>"
     },
     "execution_count": 8,
     "metadata": {},
     "output_type": "execute_result"
    },
    {
     "data": {
      "image/png": "[encoded data removed]",
      "text/plain": "<Figure size 432x288 with 1 Axes>"
     },
     "metadata": {
      "needs_background": "light"
     },
     "output_type": "display_data"
    }
   ],
   "source": [
    "#Try ploting this use .plot() instead of selecting a year\n",
    "babynames.groupby([\"Year\"]).agg(sum).plot()"
   ]
  },
  {
   "cell_type": "code",
   "execution_count": null,
   "metadata": {},
   "outputs": [],
   "source": []
  },
  {
   "cell_type": "code",
   "execution_count": 12,
   "metadata": {},
   "outputs": [
    {
     "data": {
      "text/plain": "Year  Sex\n1910  F       233\n      M       130\n1911  F       251\n      M       142\n1912  F       303\n             ... \n2018  M      2852\n2019  F      3654\n      M      2856\n2020  F      3593\n      M      2770\nName: Name, Length: 222, dtype: int64"
     },
     "execution_count": 12,
     "metadata": {},
     "output_type": "execute_result"
    }
   ],
   "source": [
    "#Can you make a plot of the number of unique names given over the years?\n",
    "\n",
    "babynames.groupby(['Year','Sex'])['Name'].nunique()"
   ]
  },
  {
   "cell_type": "code",
   "execution_count": 13,
   "metadata": {},
   "outputs": [
    {
     "data": {
      "text/plain": "<AxesSubplot:xlabel='Year'>"
     },
     "execution_count": 13,
     "metadata": {},
     "output_type": "execute_result"
    },
    {
     "data": {
      "image/png": "[encoded data removed]",
      "text/plain": "<Figure size 432x288 with 1 Axes>"
     },
     "metadata": {
      "needs_background": "light"
     },
     "output_type": "display_data"
    }
   ],
   "source": [
    "# If you want to do the unique names with more complicated breakdowns a pivot table can be useful.\n",
    "# in order to translate from the groubpy() aggregating functions you need to pass into the pivot table the full specification\n",
    "# in this case we want to use the nunique() function that is part of the Series datatype that is included in PANDAS (pd)\n",
    "# building that up we use:   pd.Series.nunique\n",
    "babynames_pivot = babynames.pivot_table(\n",
    "    index='Year', # the rows (turned into index)\n",
    "    columns='Sex', # the column values\n",
    "    values=['Count'], # the field(s) to processed in each group\n",
    "    aggfunc=pd.Series.nunique, # group operation\n",
    ")\n",
    "babynames_pivot.plot()"
   ]
  },
  {
   "cell_type": "markdown",
   "metadata": {},
   "source": []
  }
 ],
 "metadata": {
  "kernelspec": {
   "display_name": "Python 3.8.12 64-bit ('jmaJupyterPy38': conda)",
   "name": "python3812jvsc74a57bd017445a4fc8918f5d567c21d42053b58d1bb2666d398f50777a1b4ea52e90fb83"
  },
  "language_info": {
   "name": "python",
   "version": ""
  }
 },
 "nbformat": 4,
 "nbformat_minor": 4
}